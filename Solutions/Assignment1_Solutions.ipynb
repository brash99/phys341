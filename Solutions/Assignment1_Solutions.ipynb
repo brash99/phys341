{
 "cells": [
  {
   "cell_type": "markdown",
   "metadata": {},
   "source": [
    "# Assignment 1 Solutions"
   ]
  },
  {
   "cell_type": "markdown",
   "metadata": {},
   "source": [
    "# Question 1:  \n",
    "\n",
    "A cat is launched from the top of the Trible library with zero initial velocity, and lands, unharmed, on the ground below time later. The height of the Trible library is measured to be (21.2 +/- 0.4) m. The time is measured to be (2.04 +/- 0.05) s.\n",
    "\n",
    "(a) What is the measured value of the acceleration due to gravity, ignoring air resistance?\n",
    "\n",
    "(b) Assuming that the uncertainties quoted above follow a uniform error distribution, what is the measured uncertainty in the acceleration due to gravity?\n",
    "\n",
    "(c) Assuming that the uncertainties quoted above follow a Gaussian error distribution, what is the measured uncertainty in the acceleration due to gravity?"
   ]
  },
  {
   "cell_type": "code",
   "execution_count": 91,
   "metadata": {},
   "outputs": [
    {
     "data": {
      "text/latex": [
       "$\\displaystyle \\frac{2 h}{t^{2}}$"
      ],
      "text/plain": [
       "2*h/t**2"
      ]
     },
     "execution_count": 91,
     "metadata": {},
     "output_type": "execute_result"
    }
   ],
   "source": [
    "# Import the required packages, \n",
    "# with their conventional names \n",
    "import matplotlib.pyplot as plt \n",
    "import numpy as np \n",
    "import scipy.stats as stats\n",
    "\n",
    "from sympy import *\n",
    "\n",
    "g, h, t, dg, dh, dt = symbols(\"g, h, t, dg, dh, dt\")\n",
    "g = 2*h/t**2\n",
    "\n",
    "g"
   ]
  },
  {
   "cell_type": "code",
   "execution_count": 92,
   "metadata": {},
   "outputs": [
    {
     "data": {
      "text/latex": [
       "$\\displaystyle 2 \\left|{\\frac{1}{t^{2}}}\\right|$"
      ],
      "text/plain": [
       "2*Abs(t**(-2))"
      ]
     },
     "execution_count": 92,
     "metadata": {},
     "output_type": "execute_result"
    }
   ],
   "source": [
    "dgdh = abs(diff(g,h))\n",
    "\n",
    "dgdh"
   ]
  },
  {
   "cell_type": "code",
   "execution_count": 93,
   "metadata": {},
   "outputs": [
    {
     "data": {
      "text/latex": [
       "$\\displaystyle 4 \\left|{\\frac{h}{t^{3}}}\\right|$"
      ],
      "text/plain": [
       "4*Abs(h/t**3)"
      ]
     },
     "execution_count": 93,
     "metadata": {},
     "output_type": "execute_result"
    }
   ],
   "source": [
    "dgdt = abs(diff(g,t))\n",
    "\n",
    "dgdt"
   ]
  },
  {
   "cell_type": "code",
   "execution_count": 94,
   "metadata": {},
   "outputs": [
    {
     "name": "stdout",
     "output_type": "stream",
     "text": [
      "g = 10.19 \n"
     ]
    }
   ],
   "source": [
    "# Calculate the value of the function\n",
    "gn = N(g.subs({h:21.2, t:2.04}))\n",
    "print ('g = %0.2f ' % gn)"
   ]
  },
  {
   "cell_type": "code",
   "execution_count": 95,
   "metadata": {},
   "outputs": [
    {
     "data": {
      "text/latex": [
       "$\\displaystyle 2 dh \\left|{\\frac{1}{t^{2}}}\\right| + 4 dt \\left|{\\frac{h}{t^{3}}}\\right|$"
      ],
      "text/plain": [
       "2*dh*Abs(t**(-2)) + 4*dt*Abs(h/t**3)"
      ]
     },
     "execution_count": 95,
     "metadata": {},
     "output_type": "execute_result"
    }
   ],
   "source": [
    "# Calculate the uncertainty in g, assuming uniform uncertainties.\n",
    "dg = dgdh*dh + dgdt*dt\n",
    "\n",
    "dg"
   ]
  },
  {
   "cell_type": "code",
   "execution_count": 96,
   "metadata": {},
   "outputs": [
    {
     "name": "stdout",
     "output_type": "stream",
     "text": [
      "g = 10.19 +/- 0.69\n"
     ]
    }
   ],
   "source": [
    "# Evaluate numerically\n",
    "dgn = N(dg.subs({h:21.2, t:2.04, dh:0.4, dt:0.05}))\n",
    "\n",
    "print (\"g = %0.2f +/- %.2f\" % (gn,dgn))"
   ]
  },
  {
   "cell_type": "code",
   "execution_count": 97,
   "metadata": {},
   "outputs": [
    {
     "data": {
      "text/latex": [
       "$\\displaystyle 2 dh \\left|{\\frac{1}{t^{2}}}\\right| + 4 dt \\left|{\\frac{h}{t^{3}}}\\right|$"
      ],
      "text/plain": [
       "2*dh*Abs(t**(-2)) + 4*dt*Abs(h/t**3)"
      ]
     },
     "execution_count": 97,
     "metadata": {},
     "output_type": "execute_result"
    }
   ],
   "source": [
    "# calculate the uncertainty in g, assuming gaussian uncertainties.\n",
    "dgn = sqrt( dgdh**2*dh**2 + dgdt**2*dt**2 )\n",
    "\n",
    "dg"
   ]
  },
  {
   "cell_type": "code",
   "execution_count": 98,
   "metadata": {},
   "outputs": [
    {
     "name": "stdout",
     "output_type": "stream",
     "text": [
      "g = 10.19 +/- 0.69\n"
     ]
    }
   ],
   "source": [
    "# Evaluate numerically\n",
    "dgn = N(dg.subs({h:21.2, t:2.04, dh:0.4, dt:0.05}))\n",
    "\n",
    "print (\"g = %0.2f +/- %.2f\" % (gn,dgn))\n",
    "\n"
   ]
  },
  {
   "cell_type": "code",
   "execution_count": 100,
   "metadata": {},
   "outputs": [
    {
     "name": "stdout",
     "output_type": "stream",
     "text": [
      "a:  10.188389081122645     b:  0.6916645935575305      c:  0.535149491541534\n"
     ]
    }
   ],
   "source": [
    "h = 21.2\n",
    "dh = 0.4\n",
    "t = 2.04\n",
    "dt = 0.05\n",
    "\n",
    "dgdh = abs(2/t**2)\n",
    "dgdt = abs(-4*h/t**3)\n",
    "\n",
    "gn = 2.0*h/t**2\n",
    "\n",
    "dgb = dgdh*dh + dgdt*dt\n",
    "\n",
    "dgc = sqrt(dgdh**2*dh**2+dgdt**2*dt**2)\n",
    "\n",
    "print('a: ',gn,'    b: ',dgb,'     c: ',dgc)"
   ]
  },
  {
   "cell_type": "markdown",
   "metadata": {},
   "source": [
    "# Question 2: \n",
    "\n",
    "Airlines sometimes overbook flights. Suppose that for a plane with 50 seats, 55 passengers have tickets. Define the random variable Y as the number of ticketed passengers who actually show up for the flight. The probability mass function of Y appears in the accompanying table.\n",
    "\n",
    "(a) What is the probability that the flight will accommodate all ticketed passengers who show up?\n",
    "\n",
    "(b) What is the probability that not all ticketed passengers who show up can be accommodated?\n",
    "\n",
    "(c) If you are the first person on the standby list (which means you will be the first one to get on the plane if there are any seats available after all ticketed passengers have been accommodated), what is the probability that you will be able to take the flight? \n",
    "\n",
    "What is this probability if you are the third person on the standby list?"
   ]
  },
  {
   "cell_type": "code",
   "execution_count": 9,
   "metadata": {},
   "outputs": [
    {
     "name": "stdout",
     "output_type": "stream",
     "text": [
      "0.8299999999999998\n",
      "0.8299999999999998\n"
     ]
    }
   ],
   "source": [
    "y = np.array([45,46,47,48,49,50,51,52,53,54,55])\n",
    "py = np.array([0.06,0.11,0.12,0.12,0.24,0.18,0.06,0.05,0.03,0.02,0.01])\n",
    "\n",
    "nseats = 50\n",
    "ntickets = 55\n",
    "\n",
    "sum = 0.0\n",
    "for i in range(len(y)):\n",
    "    if (y[i]<=nseats):\n",
    "        sum = sum + py[i]\n",
    "        \n",
    "print (sum)\n",
    "\n",
    "# or, with list comprehension\n",
    "\n",
    "good = np.sum(py[y<=nseats])\n",
    "\n",
    "print (good)"
   ]
  },
  {
   "cell_type": "code",
   "execution_count": 10,
   "metadata": {},
   "outputs": [
    {
     "name": "stdout",
     "output_type": "stream",
     "text": [
      "0.17000000000000015\n"
     ]
    }
   ],
   "source": [
    "print (1-sum)"
   ]
  },
  {
   "cell_type": "code",
   "execution_count": 11,
   "metadata": {},
   "outputs": [
    {
     "name": "stdout",
     "output_type": "stream",
     "text": [
      "0.6499999999999999\n",
      "0.6499999999999999\n"
     ]
    }
   ],
   "source": [
    "sum = 0.0\n",
    "for i in range(len(y)):\n",
    "    if (y[i]<=nseats-1):\n",
    "        sum = sum + py[i]\n",
    "        \n",
    "print (sum)\n",
    "\n",
    "good = np.sum(py[y<=nseats-1])\n",
    "\n",
    "print (good)"
   ]
  },
  {
   "cell_type": "code",
   "execution_count": 12,
   "metadata": {},
   "outputs": [
    {
     "name": "stdout",
     "output_type": "stream",
     "text": [
      "0.29\n",
      "0.29\n"
     ]
    }
   ],
   "source": [
    "sum = 0.0\n",
    "for i in range(len(y)):\n",
    "    if (y[i]<=nseats-3):\n",
    "        sum = sum + py[i]\n",
    "        \n",
    "print (sum)\n",
    "\n",
    "good = np.sum(py[y<=nseats-3])\n",
    "\n",
    "print (good)"
   ]
  },
  {
   "cell_type": "markdown",
   "metadata": {},
   "source": [
    "# Question 3: \n",
    "\n",
    "A mail-order company business has six telephone lines. Let X denote the number of lines in use at a specified time. Suppose the pmf of X is as given in the accompanying table.\n",
    "\n",
    "\n",
    "Calculate the probability of each of the following events.\n",
    "\n",
    "(a) {at most three lines are in use}\n",
    "\n",
    "(b) {fewer than three lines are in use}\n",
    "\n",
    "(c) {at least three lines are in use}\n",
    "\n",
    "(d) {between two and five lines, inclusive, are in use}\n",
    "\n",
    "(e) {between two and four lines, inclusive, are not in use}\n",
    "\n",
    "(f) {at least four lines are not in use}"
   ]
  },
  {
   "cell_type": "code",
   "execution_count": 13,
   "metadata": {},
   "outputs": [],
   "source": [
    "x = np.array([0,1,2,3,4,5,6])\n",
    "xnot = np.array([6,5,4,3,2,1,0])\n",
    "px = np.array([0.15,0.10,0.25,0.20,0.20,0.04,0.06])"
   ]
  },
  {
   "cell_type": "code",
   "execution_count": 14,
   "metadata": {},
   "outputs": [
    {
     "name": "stdout",
     "output_type": "stream",
     "text": [
      "0.7 0.5 0.5 0.6900000000000001 0.65 0.5\n"
     ]
    }
   ],
   "source": [
    "suma = 0.0\n",
    "sumb = 0.0\n",
    "sumc = 0.0\n",
    "sumd = 0.0\n",
    "sume = 0.0\n",
    "sumf = 0.0\n",
    "for i in range(len(x)):\n",
    "    if (x[i] <= 3):\n",
    "        suma = suma + px[i]\n",
    "    if (x[i] < 3):\n",
    "        sumb = sumb + px[i]\n",
    "    if (x[i] >= 3):\n",
    "        sumc = sumc + px[i]\n",
    "    if (x[i] >= 2 and x[i] <=5):\n",
    "        sumd = sumd + px[i]\n",
    "    if (xnot[i] >=2 and xnot[i] <=4):\n",
    "        sume = sume + px[i]\n",
    "    if (xnot[i] >=4):\n",
    "        sumf = sumf + px[i]\n",
    "        \n",
    "print (suma,sumb,sumc,sumd,sume,sumf)"
   ]
  },
  {
   "cell_type": "markdown",
   "metadata": {},
   "source": [
    "# Question 4: \n",
    "\n",
    "Compute the following binomial probabilities directly from the formula for b(x; n, p).\n",
    "\n",
    "(a) b(3; 5, 0.48)\n",
    "\n",
    "(b) b(2; 7, 0.77)\n",
    "\n",
    "(c) P(3 <= X <= 5) when n = 9 and p = 0.76\n",
    "\n",
    "(d) P(1 <= X) when n = 12 and p = 0.14"
   ]
  },
  {
   "cell_type": "code",
   "execution_count": 15,
   "metadata": {},
   "outputs": [],
   "source": [
    "from scipy.stats import binom"
   ]
  },
  {
   "cell_type": "code",
   "execution_count": 16,
   "metadata": {},
   "outputs": [
    {
     "name": "stdout",
     "output_type": "stream",
     "text": [
      "0.2990407679999999\n"
     ]
    }
   ],
   "source": [
    "X = binom(5,0.48)\n",
    "\n",
    "print (X.pmf(3))"
   ]
  },
  {
   "cell_type": "code",
   "execution_count": 17,
   "metadata": {},
   "outputs": [
    {
     "name": "stdout",
     "output_type": "stream",
     "text": [
      "0.008013826305870005\n"
     ]
    }
   ],
   "source": [
    "X = binom(7,0.77)\n",
    "\n",
    "print (X.pmf(2))"
   ]
  },
  {
   "cell_type": "code",
   "execution_count": 18,
   "metadata": {},
   "outputs": [
    {
     "name": "stdout",
     "output_type": "stream",
     "text": [
      "0.1465132213170339\n"
     ]
    }
   ],
   "source": [
    "X = binom(9,0.76)\n",
    "\n",
    "print (X.cdf(5) - X.cdf(2))"
   ]
  },
  {
   "cell_type": "code",
   "execution_count": 19,
   "metadata": {},
   "outputs": [
    {
     "name": "stdout",
     "output_type": "stream",
     "text": [
      "0.8363253522544125\n"
     ]
    }
   ],
   "source": [
    "X = binom(12,0.14)\n",
    "\n",
    "print (1 - X.cdf(0))"
   ]
  },
  {
   "cell_type": "markdown",
   "metadata": {},
   "source": [
    "# Question 5:\n",
    "\n",
    "When circuit boards used in the manufacture of compact disc players are tested, the long-run percentage of defectives is 10%. Let X = the number of defective boards in a random sample of size n = 25, so X ~ Bin(25, 0.10).\n",
    "\n",
    "(a) Determine P(X <= 2).\n",
    "\n",
    "(b) Determine P(X >= 5).\n",
    "\n",
    "(c) Determine P(1 <= X <= 4).\n",
    "\n",
    "(d) What is the probability that none of the 25 boards is defective?\n",
    "\n",
    "(e) Calculate the expected value and standard deviation of X."
   ]
  },
  {
   "cell_type": "code",
   "execution_count": 20,
   "metadata": {},
   "outputs": [],
   "source": [
    "n = 25\n",
    "p = 0.10\n",
    "\n",
    "X = binom(n,p)"
   ]
  },
  {
   "cell_type": "code",
   "execution_count": 21,
   "metadata": {},
   "outputs": [
    {
     "name": "stdout",
     "output_type": "stream",
     "text": [
      "0.5370940500509418\n"
     ]
    }
   ],
   "source": [
    "print (X.cdf(2))"
   ]
  },
  {
   "cell_type": "code",
   "execution_count": 22,
   "metadata": {},
   "outputs": [
    {
     "name": "stdout",
     "output_type": "stream",
     "text": [
      "0.09799362119546473\n"
     ]
    }
   ],
   "source": [
    "print (1-X.cdf(4))"
   ]
  },
  {
   "cell_type": "code",
   "execution_count": 23,
   "metadata": {},
   "outputs": [
    {
     "name": "stdout",
     "output_type": "stream",
     "text": [
      "0.09799362119546473\n"
     ]
    }
   ],
   "source": [
    "print (1-X.cdf(4))"
   ]
  },
  {
   "cell_type": "code",
   "execution_count": 24,
   "metadata": {},
   "outputs": [
    {
     "name": "stdout",
     "output_type": "stream",
     "text": [
      "0.0717897987691853\n"
     ]
    }
   ],
   "source": [
    "print (X.cdf(0))"
   ]
  },
  {
   "cell_type": "code",
   "execution_count": 25,
   "metadata": {},
   "outputs": [
    {
     "name": "stdout",
     "output_type": "stream",
     "text": [
      "2.5 1.5\n"
     ]
    }
   ],
   "source": [
    "print (X.mean(),X.std())"
   ]
  },
  {
   "cell_type": "code",
   "execution_count": 26,
   "metadata": {},
   "outputs": [
    {
     "name": "stdout",
     "output_type": "stream",
     "text": [
      "2.5 1.5\n"
     ]
    }
   ],
   "source": [
    "print (n*p,np.sqrt(n*p*(1-p)))"
   ]
  },
  {
   "cell_type": "code",
   "execution_count": 27,
   "metadata": {},
   "outputs": [
    {
     "data": {
      "text/plain": [
       "[<matplotlib.lines.Line2D at 0x7f413226bf60>]"
      ]
     },
     "execution_count": 27,
     "metadata": {},
     "output_type": "execute_result"
    },
    {
     "data": {
      "image/png": "[encoded data removed]",
      "text/plain": [
       "<Figure size 432x288 with 1 Axes>"
      ]
     },
     "metadata": {
      "needs_background": "light"
     },
     "output_type": "display_data"
    }
   ],
   "source": [
    "x = [k for k in range(0,26)]\n",
    "y = [X.pmf(k) for k in range(0,26)]\n",
    "import matplotlib.pyplot as plt\n",
    "plt.plot(x,y)"
   ]
  },
  {
   "cell_type": "markdown",
   "metadata": {},
   "source": [
    "# Question 6:\n",
    "\n",
    "An airport limousine can accommodate up to four passengers on any one trip. The company will accept a maximum of six reservations for a trip, and a passenger must have a reservation. From previous records, 40% of all those making reservations do not appear for the trip. Answer the following questions, assuming independence wherever appropriate.\n",
    "\n",
    "(a) If six reservations are made, what is the probability that at least one individual with a reservation cannot be accommodated on the trip?\n",
    "\n",
    "(b) If six reservations are made, what is the expected number of available places when the limousine departs?\n",
    "\n",
    "(c) Suppose the probability distribution of the number of reservations made is given in the accompanying table.\n",
    "\n",
    "Number of reservations    \t3      4\t 5\t   6\n",
    "\n",
    "Probability\t                0.09   0.24  0.33  0.34    \n",
    "\n",
    "Let X denote the number of passengers on a randomly selected trip. Obtain the probability mass function of X."
   ]
  },
  {
   "cell_type": "code",
   "execution_count": 46,
   "metadata": {},
   "outputs": [
    {
     "name": "stdout",
     "output_type": "stream",
     "text": [
      "0.23328000000000004\n"
     ]
    }
   ],
   "source": [
    "p = 0.60 #probability that a reservation shows up\n",
    "\n",
    "# Part A\n",
    "N = 6\n",
    "X = binom(N,p)\n",
    "\n",
    "print (X.pmf(5) + X.pmf(6)) # we have a problem if either 5 or 6 people show up!"
   ]
  },
  {
   "cell_type": "code",
   "execution_count": 47,
   "metadata": {},
   "outputs": [
    {
     "name": "stdout",
     "output_type": "stream",
     "text": [
      " No. of people showing up = 0    Probabilty = 0.0041    No. of spaces = 4 \n",
      " No. of people showing up = 1    Probabilty = 0.0369    No. of spaces = 3 \n",
      " No. of people showing up = 2    Probabilty = 0.1382    No. of spaces = 2 \n",
      " No. of people showing up = 3    Probabilty = 0.2765    No. of spaces = 1 \n",
      " No. of people showing up = 4    Probabilty = 0.3110    No. of spaces = 0 \n",
      " No. of people showing up = 5    Probabilty = 0.1866    No. of spaces = 0 \n",
      " No. of people showing up = 6    Probabilty = 0.0467    No. of spaces = 0 \n",
      "\n",
      "Expectation value = 0.6799\n"
     ]
    }
   ],
   "source": [
    "# Create an array corresponding to the number of people that could possibly show up\n",
    "npass = np.array([0,1,2,3,4,5,6])\n",
    "\n",
    "# create an array that corresponds to the number of spaces available, for a given\n",
    "# number of people showing up.\n",
    "nspaces = np.array([4,3,2,1,0,0,0])\n",
    "\n",
    "sum = 0.0\n",
    "# Loop through all situations (0 to 6 people showing up)\n",
    "for i in range(len(nspaces)):\n",
    "    sum = sum + X.pmf(i)*nspaces[i]\n",
    "    print (\" No. of people showing up = %0.0f    Probabilty = %0.4f    No. of spaces = %0.0f \" % (i,X.pmf(i),nspaces[i]))\n",
    "\n",
    "print()\n",
    "print (\"Expectation value = %0.4f\" % sum)"
   ]
  },
  {
   "cell_type": "code",
   "execution_count": 48,
   "metadata": {},
   "outputs": [
    {
     "name": "stdout",
     "output_type": "stream",
     "text": [
      "N_showup   N_reservations   P(N_showup)  P(N_reservations)   P(both)\n",
      "\n",
      "0          3                 0.0640      0.11                 0.0070\n",
      "0          4                 0.0256      0.22                 0.0056\n",
      "0          5                 0.0102      0.28                 0.0029\n",
      "0          6                 0.0041      0.39                 0.0016\n",
      "\n",
      "1          3                 0.2880      0.11                 0.0317\n",
      "1          4                 0.1536      0.22                 0.0338\n",
      "1          5                 0.0768      0.28                 0.0215\n",
      "1          6                 0.0369      0.39                 0.0144\n",
      "\n",
      "2          3                 0.4320      0.11                 0.0475\n",
      "2          4                 0.3456      0.22                 0.0760\n",
      "2          5                 0.2304      0.28                 0.0645\n",
      "2          6                 0.1382      0.39                 0.0539\n",
      "\n",
      "3          3                 0.2160      0.11                 0.0238\n",
      "3          4                 0.3456      0.22                 0.0760\n",
      "3          5                 0.3456      0.28                 0.0968\n",
      "3          6                 0.2765      0.39                 0.1078\n",
      "\n",
      "4          4                 0.1296      0.22                 0.0285\n",
      "4          5                 0.2592      0.28                 0.0726\n",
      "4          6                 0.3110      0.39                 0.1213\n",
      "\n",
      "5          5                 0.0778      0.28                 0.0218\n",
      "5          6                 0.1866      0.39                 0.0728\n",
      "\n",
      "6          6                 0.0467      0.39                 0.0182\n",
      "\n",
      "[0.01713664 0.10135296 0.2419776  0.3043872  0.2223936  0.09455616\n",
      " 0.01819584]\n"
     ]
    }
   ],
   "source": [
    "# create an array corresponding to the probabilities of there being 0 through 6 reservations\n",
    "pres = np.array([0.00,0.00,0.00,0.11,0.22,0.28,0.39])\n",
    "\n",
    "pmf = np.array([0.0,0.0,0.0,0.0,0.0,0.0,0.0])\n",
    "\n",
    "print (\"N_showup   N_reservations   P(N_showup)  P(N_reservations)   P(both)\")\n",
    "for i in range(len(npass)):\n",
    "    print()\n",
    "    for j in range(len(pres)):\n",
    "        X = binom(j,p)\n",
    "        pmf[i] = pmf[i] + X.pmf(i)*pres[j]\n",
    "        \n",
    "        if (X.pmf(i) != 0 and pres[j] != 0):\n",
    "            print (i,\"        \",j,(\"                %0.4f\" %X.pmf(i)),\"    \",pres[j],(\"                %0.4f\" % (X.pmf(i)*pres[j])))\n",
    "        \n",
    "print()\n",
    "print (pmf)"
   ]
  },
  {
   "cell_type": "code",
   "execution_count": 49,
   "metadata": {},
   "outputs": [
    {
     "name": "stdout",
     "output_type": "stream",
     "text": [
      "0.017136640000000005\n",
      "0.10135296000000005\n",
      "0.24197760000000001\n",
      "0.3043872000000001\n",
      "0.3351456\n"
     ]
    }
   ],
   "source": [
    "print (pmf[0])\n",
    "print (pmf[1])\n",
    "print (pmf[2])\n",
    "print (pmf[3])\n",
    "print (pmf[4]+pmf[5]+pmf[6])"
   ]
  },
  {
   "cell_type": "markdown",
   "metadata": {},
   "source": [
    "# Question 7:\n",
    "\n",
    "Let X, the number of flaws on the surface of a randomly selected boiler of a certain type, have a Poisson distribution with parameter λ = 3. Compute the following probabilities.\n",
    "\n",
    "(a) P(X ≤ 8)\n",
    "\n",
    "(b) P(X = 8)\n",
    "\n",
    "(c) P(9 ≤ X)\n",
    "\n",
    "(d) P(5 ≤ X ≤ 8)\n",
    "\n",
    "(e) P(5 < X < 8)"
   ]
  },
  {
   "cell_type": "code",
   "execution_count": null,
   "metadata": {},
   "outputs": [],
   "source": [
    "X = stats.poisson(3)"
   ]
  },
  {
   "cell_type": "code",
   "execution_count": null,
   "metadata": {},
   "outputs": [],
   "source": [
    "print (X.cdf(8))\n",
    "print (X.pmf(8))\n",
    "print (1-X.cdf(8))\n",
    "print (X.cdf(8)-X.cdf(4))\n",
    "print (X.pmf(6)+X.pmf(7))"
   ]
  },
  {
   "cell_type": "markdown",
   "metadata": {},
   "source": [
    "# Question 8\n",
    "\n",
    "Consider writing onto a computer disk and then sending it through a certifier that counts the number of missing pulses. Suppose this number X has a Poisson distribution with parameter λ = 0.19.\n",
    "\n",
    "(a) What is the probability that a disk has exactly one missing pulse?\n",
    "\n",
    "(b) What is the probability that a disk has at least two missing pulses?\n",
    "\n",
    "(c) If two disks are independently selected, what is the probability that neither contains a missing pulse?"
   ]
  },
  {
   "cell_type": "code",
   "execution_count": null,
   "metadata": {},
   "outputs": [],
   "source": [
    "X = stats.poisson(0.19)"
   ]
  },
  {
   "cell_type": "code",
   "execution_count": null,
   "metadata": {},
   "outputs": [],
   "source": [
    "# part A\n",
    "\n",
    "print (X.pmf(1))\n",
    "\n",
    "# part B\n",
    "\n",
    "print (1-X.cdf(1))\n",
    "\n",
    "# part C\n",
    "\n",
    "print (X.pmf(0)*X.pmf(0))"
   ]
  },
  {
   "cell_type": "markdown",
   "metadata": {},
   "source": [
    "# Question 9\n",
    "\n",
    "In proof testing of circuit boards, the probability that any particular diode will fail is 0.01. Suppose a circuit board contains 150 diodes.\n",
    "\n",
    "(a) How many diodes would you expect to fail?\n",
    "\n",
    "What is the standard deviation of the number that are expected to fail?\n",
    "\n",
    "(b) What is the (approximate) probability that at least four diodes will fail on a randomly selected board? (Use binomial approximation.)\n",
    "\n",
    "(c) If five boards are shipped to a particular customer, how likely is it that at least four of them will work properly? (A board works properly only if all its diodes work.)"
   ]
  },
  {
   "cell_type": "code",
   "execution_count": 36,
   "metadata": {},
   "outputs": [
    {
     "data": {
      "text/plain": [
       "(-2.0, 8.0)"
      ]
     },
     "execution_count": 36,
     "metadata": {},
     "output_type": "execute_result"
    },
    {
     "data": {
      "image/png": "[encoded data removed]",
      "text/plain": [
       "<Figure size 432x288 with 1 Axes>"
      ]
     },
     "metadata": {
      "needs_background": "light"
     },
     "output_type": "display_data"
    }
   ],
   "source": [
    "N = 150\n",
    "p = 0.01\n",
    "\n",
    "lmbda = N*p\n",
    "\n",
    "Xb = stats.binom(N,p)\n",
    "Xp = stats.poisson(lmbda)\n",
    "Xg = stats.norm(N*p,np.sqrt(N*p*(1-p)))\n",
    "\n",
    "kmax = 8\n",
    "\n",
    "x = [k for k in range(0,kmax+1)]\n",
    "yb = [Xb.pmf(k) for k in range(0,kmax+1)]\n",
    "yp = [Xp.pmf(k) for k in range(0,kmax+1)]\n",
    "yg = [Xg.pdf(k) for k in range(0,kmax+1)]\n",
    "\n",
    "import matplotlib.pyplot as plt\n",
    "plt.plot(x,yb,'ro')\n",
    "plt.plot(x,yp,'g-')\n",
    "plt.plot(x,yg,'b--')\n",
    "plt.xlim(-2,kmax)"
   ]
  },
  {
   "cell_type": "code",
   "execution_count": null,
   "metadata": {},
   "outputs": [],
   "source": [
    "# part A\n",
    "\n",
    "print (N*p,Xb.mean())\n",
    "print (np.sqrt(N*p*(1-p)), Xb.std())\n",
    "\n",
    "print (Xp.mean(),Xp.std())\n",
    "print (Xg.mean(),Xg.std())"
   ]
  },
  {
   "cell_type": "code",
   "execution_count": null,
   "metadata": {},
   "outputs": [],
   "source": [
    "# part B\n",
    "\n",
    "# Exact answer - binomial\n",
    "print (1 - Xb.cdf(3))\n",
    "\n",
    "# Approximate answer - Poisson\n",
    "print (1 - Xp.cdf(3))\n",
    "\n",
    "# It appears that WebAssign is using the Poisson distribution (which admittedly is an approximation, but\n",
    "# the wording of the question is misleading."
   ]
  },
  {
   "cell_type": "code",
   "execution_count": null,
   "metadata": {},
   "outputs": [],
   "source": [
    "# Binomial for the 150 diode board, binomial for the five boards shipped. \n",
    "p_all_work = Xb.pmf(0)\n",
    "\n",
    "Xfive = binom(5,p_all_work)\n",
    "\n",
    "print (1-Xfive.cdf(3))\n",
    "\n",
    "# Poisson for the 150 diode board, binomial for the five boards shipped. <--- This is what WebAssign wants!!!\n",
    "p_all_work = Xp.pmf(0)\n",
    "\n",
    "Xfive = binom(5,p_all_work)\n",
    "\n",
    "print (1-Xfive.cdf(3))"
   ]
  },
  {
   "cell_type": "code",
   "execution_count": null,
   "metadata": {},
   "outputs": [],
   "source": []
  }
 ],
 "metadata": {
  "kernelspec": {
   "display_name": "Python 3",
   "language": "python",
   "name": "python3"
  },
  "language_info": {
   "codemirror_mode": {
    "name": "ipython",
    "version": 3
   },
   "file_extension": ".py",
   "mimetype": "text/x-python",
   "name": "python",
   "nbconvert_exporter": "python",
   "pygments_lexer": "ipython3",
   "version": "3.6.8"
  }
 },
 "nbformat": 4,
 "nbformat_minor": 4
}
