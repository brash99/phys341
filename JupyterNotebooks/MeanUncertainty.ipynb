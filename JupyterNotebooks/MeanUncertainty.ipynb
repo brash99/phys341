{
 "cells": [
  {
   "cell_type": "code",
   "execution_count": 10,
   "metadata": {},
   "outputs": [],
   "source": [
    "# Import the required packages, \n",
    "# with their conventional names \n",
    "import matplotlib.pyplot as plt \n",
    "import numpy as np \n",
    "import scipy.stats as stats \n",
    "\n",
    "# Generate some data ... 3000 samples chosen from a Gaussian distribution with a mean of 100 and a sigma of 10.\n",
    "npts = 3000\n",
    "mu = 100.0\n",
    "sigma = 10.0\n",
    "x = stats.norm.rvs(size=npts,loc=mu,scale=sigma)\n",
    "\n",
    "# calculate the sample mean, and the sample standard deviation (unbiased).\n",
    "xbar = np.mean(x)\n",
    "stdev = np.std(x,ddof=1)"
   ]
  },
  {
   "cell_type": "markdown",
   "metadata": {},
   "source": [
    "Let us return now to the notion of uncertainty.  We noted above that we can easily calculate the mean value\n",
    "of a sample of data.  The question is, then, how certain are we that this sample mean agrees with the population\n",
    "mean.  In other words, how close should xbar be to mu?\n",
    "\n",
    "The answer is: the quoted uncertainty in the mean depends on whether or not we know what $\\sigma$ is.\n",
    "\n",
    "If we know what $\\sigma$ is, then the uncertainty in the mean is $\\frac{\\sigma}{\\sqrt{N}}$\n",
    "\n",
    "If we do NOT know what sigma is, then the uncertainty in the mean is $\\frac{S}{\\sqrt{N}}$.  Recall that $S$ is our ESTIMATE of $\\sigma$ from the data sample."
   ]
  },
  {
   "cell_type": "code",
   "execution_count": 11,
   "metadata": {},
   "outputs": [
    {
     "name": "stdout",
     "output_type": "stream",
     "text": [
      "Estimate (known sigma) of mu:  99.84106405871975 +/- 0.18257418583505536\n",
      "Estimate (unknown sigma) of mu:  99.84106405871975 +/- 0.18571292567524245\n"
     ]
    }
   ],
   "source": [
    "delta_mu_known = sigma / np.sqrt(npts)\n",
    "delta_mu_unknown = stdev / np.sqrt(npts)\n",
    "\n",
    "print (\"Estimate (known sigma) of mu: \", xbar, \"+/-\",delta_mu_known)\n",
    "print (\"Estimate (unknown sigma) of mu: \", xbar, \"+/-\",delta_mu_unknown)"
   ]
  },
  {
   "cell_type": "code",
   "execution_count": 12,
   "metadata": {},
   "outputs": [
    {
     "name": "stdout",
     "output_type": "stream",
     "text": [
      "Estimate (known sigma) of mu: 99.84 +/- 0.18\n",
      "Estimate (unknown sigma) of mu: 99.84 +/- 0.19\n"
     ]
    }
   ],
   "source": [
    "# Let's reformat that output, so that it better reflects the uncertainties!!!\n",
    "\n",
    "print (\"Estimate (known sigma) of mu: %.2f +/- %.2f\" % (xbar,delta_mu_known))\n",
    "print (\"Estimate (unknown sigma) of mu: %.2f +/- %.2f\" % (xbar,delta_mu_unknown))"
   ]
  },
  {
   "cell_type": "markdown",
   "metadata": {},
   "source": [
    "Notes:\n",
    "\n",
    "1. Our estimate of the mean ($\\bar{x}$) appears to overlap with the population mean ($\\mu$) within the quoted uncertainty.\n",
    "2. When we do not know sigma, and have to esimate it from the data, the uncertainty in the mean increases.\n"
   ]
  },
  {
   "cell_type": "markdown",
   "metadata": {},
   "source": [
    "There is a lot more to this story, though!\n",
    "\n",
    "Let's think about what these results could be saying, or moreover what the result of any experiment can tell us.\n",
    "There are actually only four possiblities:\n",
    "\n",
    "1.  The population mean really is what we think it is (100.0), and we have sampled from it in an \n",
    "    unbiased way, because of good experiment design, and our results are in agreement with what     \n",
    "    we think the population mean is.  Life is good!\n",
    "    \n",
    "2.  The population mean really is what we think it is (100.0), and we have sampled from it in an \n",
    "    unbiased way, because of good experiment design, but unfortunately we just got unlucky, and\n",
    "    because of the random nature of sampling, our results indicate a disagreement, and tell us that\n",
    "    maybe the population mean isn't what we think it is.  This is known in statistics as TYPE I ERROR.\n",
    "    \n",
    "3.  The population mean is different from what we think it is, and and we have sampled from it in an \n",
    "    unbiased way, because of good experiment design.  Our results are consistent with the population\n",
    "    mean being different from what we thought it was, and we have discovered this disagreement.  Again,\n",
    "    life is good!\n",
    "    \n",
    "4.  The population mean is different from what we think it is, and and we have sampled from it in an \n",
    "    unbiased way, because of good experiment design.  However, our results are consistent with the\n",
    "    population being what we originally thought it was (100.0).  Thus, we have not uncovered the problem\n",
    "    that actually exists.  In other words, we again got \"unlucky\", because of random sampling. This is known\n",
    "    as a TYPE II ERROR."
   ]
  },
  {
   "cell_type": "markdown",
   "metadata": {},
   "source": [
    "In order to make appropriate calculations and comparisons, we will define a new variable, $z$, defined as:\n",
    "\n",
    "$z = \\frac{x-\\mu}{\\sigma}$\n",
    "\n",
    "In the case where one samples from a Gaussian distribution, the $z$ distribution will be a Gaussian distribution with a mean value of 0 and a standard deviation of 1.  Thus, the $z$ distribution will be THE SAME, irrespective of the specific values of $\\mu$ and $\\sigma$ in the experiment."
   ]
  },
  {
   "cell_type": "code",
   "execution_count": 4,
   "metadata": {},
   "outputs": [],
   "source": [
    "z = (x-mu)/sigma"
   ]
  },
  {
   "cell_type": "code",
   "execution_count": 5,
   "metadata": {},
   "outputs": [
    {
     "data": {
      "text/plain": [
       "(array([  1.,   1.,   0.,   1.,   0.,   0.,   0.,   0.,   1.,   0.,   2.,\n",
       "          2.,   3.,   1.,   4.,   5.,   8.,   4.,   4.,  10.,  10.,   4.,\n",
       "         14.,   6.,  18.,  15.,   9.,  21.,  24.,  23.,  26.,  23.,  41.,\n",
       "         37.,  56.,  54.,  53.,  38.,  73.,  66.,  76.,  78.,  71.,  91.,\n",
       "         80.,  71.,  87.,  78.,  82.,  90.,  64., 102.,  84.,  92.,  75.,\n",
       "         89.,  90.,  77.,  98.,  61.,  68.,  63.,  57.,  49.,  57.,  41.,\n",
       "         54.,  47.,  27.,  38.,  27.,  25.,  30.,  27.,  13.,  12.,   7.,\n",
       "          9.,  15.,   6.,   8.,   3.,   4.,   2.,   3.,   2.,   5.,   2.,\n",
       "          0.,   0.,   1.,   1.,   2.,   0.,   0.,   0.,   0.,   0.,   0.,\n",
       "          1.]),\n",
       " array([-3.7949371 , -3.71983882, -3.64474055, -3.56964227, -3.49454399,\n",
       "        -3.41944572, -3.34434744, -3.26924916, -3.19415089, -3.11905261,\n",
       "        -3.04395434, -2.96885606, -2.89375778, -2.81865951, -2.74356123,\n",
       "        -2.66846295, -2.59336468, -2.5182664 , -2.44316812, -2.36806985,\n",
       "        -2.29297157, -2.2178733 , -2.14277502, -2.06767674, -1.99257847,\n",
       "        -1.91748019, -1.84238191, -1.76728364, -1.69218536, -1.61708708,\n",
       "        -1.54198881, -1.46689053, -1.39179226, -1.31669398, -1.2415957 ,\n",
       "        -1.16649743, -1.09139915, -1.01630087, -0.9412026 , -0.86610432,\n",
       "        -0.79100605, -0.71590777, -0.64080949, -0.56571122, -0.49061294,\n",
       "        -0.41551466, -0.34041639, -0.26531811, -0.19021983, -0.11512156,\n",
       "        -0.04002328,  0.03507499,  0.11017327,  0.18527155,  0.26036982,\n",
       "         0.3354681 ,  0.41056638,  0.48566465,  0.56076293,  0.63586121,\n",
       "         0.71095948,  0.78605776,  0.86115603,  0.93625431,  1.01135259,\n",
       "         1.08645086,  1.16154914,  1.23664742,  1.31174569,  1.38684397,\n",
       "         1.46194224,  1.53704052,  1.6121388 ,  1.68723707,  1.76233535,\n",
       "         1.83743363,  1.9125319 ,  1.98763018,  2.06272846,  2.13782673,\n",
       "         2.21292501,  2.28802328,  2.36312156,  2.43821984,  2.51331811,\n",
       "         2.58841639,  2.66351467,  2.73861294,  2.81371122,  2.8888095 ,\n",
       "         2.96390777,  3.03900605,  3.11410432,  3.1892026 ,  3.26430088,\n",
       "         3.33939915,  3.41449743,  3.48959571,  3.56469398,  3.63979226,\n",
       "         3.71489053]),\n",
       " <a list of 100 Patch objects>)"
      ]
     },
     "execution_count": 5,
     "metadata": {},
     "output_type": "execute_result"
    },
    {
     "data": {
      "image/png": "[encoded data removed]",
      "text/plain": [
       "<Figure size 432x288 with 1 Axes>"
      ]
     },
     "metadata": {
      "needs_background": "light"
     },
     "output_type": "display_data"
    }
   ],
   "source": [
    "nbins = 100\n",
    "plt.hist(z,bins=nbins)"
   ]
  },
  {
   "cell_type": "markdown",
   "metadata": {},
   "source": [
    "Question:  What is the probability that for a single measurement of x, that we get a value that is within $\\pm \\sigma$ of $\\mu$?"
   ]
  },
  {
   "cell_type": "markdown",
   "metadata": {},
   "source": [
    "Answer:  It is the integrated probability between $z = -1$ and $z=1$.  As the $z$ distribution is well known, this is easily calculable!"
   ]
  },
  {
   "cell_type": "code",
   "execution_count": 6,
   "metadata": {},
   "outputs": [
    {
     "name": "stdout",
     "output_type": "stream",
     "text": [
      "0.8413447460685429 0.15865525393145707\n",
      "0.6826894921370859\n",
      "This means that there is about a 68% probability of measusing a value in the interval.\n"
     ]
    }
   ],
   "source": [
    "# Get the integral from -infinity to -1.0\n",
    "#\n",
    "# We will use the cdf method (Cumulative Distribution Function) for the standardized normal/Gaussian distribution\n",
    "# (i.e. the z distribution) within\n",
    "# the scipy.stats package.  The cumulative distribution function is DEFINED to give the integral of the distribution\n",
    "# from -infinity up to the specified value.\n",
    "\n",
    "integral_minus = stats.norm.cdf(-1.0)\n",
    "# Get the integral from -infinity to 1.0\n",
    "integral_plus = stats.norm.cdf(1.0)\n",
    "\n",
    "print(integral_plus,integral_minus)\n",
    "\n",
    "# Calculate the integral between the two limits\n",
    "integral_between = integral_plus - integral_minus\n",
    "\n",
    "print(integral_between)\n",
    "\n",
    "print(\"This means that there is about a 68% probability of measusing a value in the interval.\")"
   ]
  },
  {
   "cell_type": "code",
   "execution_count": 7,
   "metadata": {},
   "outputs": [
    {
     "name": "stdout",
     "output_type": "stream",
     "text": [
      "0.9772498680518208 0.022750131948179195\n",
      "0.9544997361036416\n",
      "This means that there is about a 95% probability of measusing a value in the interval.\n"
     ]
    }
   ],
   "source": [
    "integral_minus = stats.norm.cdf(-2.0)\n",
    "integral_plus = stats.norm.cdf(2.0)\n",
    "\n",
    "print(integral_plus,integral_minus)\n",
    "\n",
    "integral_between = integral_plus - integral_minus\n",
    "\n",
    "print(integral_between)\n",
    "\n",
    "print(\"This means that there is about a 95% probability of measusing a value in the interval.\")"
   ]
  },
  {
   "cell_type": "code",
   "execution_count": 8,
   "metadata": {},
   "outputs": [
    {
     "name": "stdout",
     "output_type": "stream",
     "text": [
      "0.9986501019683699 0.0013498980316300933\n",
      "0.9973002039367398\n",
      "This means that there is about a 99.7% probability of measusing a value in the interval.\n"
     ]
    }
   ],
   "source": [
    "integral_minus = stats.norm.cdf(-3.0)\n",
    "integral_plus = stats.norm.cdf(3.0)\n",
    "\n",
    "print(integral_plus,integral_minus)\n",
    "\n",
    "integral_between = integral_plus - integral_minus\n",
    "\n",
    "print(integral_between)\n",
    "\n",
    "print(\"This means that there is about a 99.7% probability of measusing a value in the interval.\")"
   ]
  },
  {
   "cell_type": "code",
   "execution_count": 9,
   "metadata": {},
   "outputs": [
    {
     "name": "stdout",
     "output_type": "stream",
     "text": [
      "0.9999999990134123 9.865876450376946e-10\n",
      "0.9999999980268246\n",
      "This means that there is about a 99.9999998% probability of measusing a value in the interval.\n",
      "In other words, there is 0.0000002% probability, or 1 chance in 500,000,000 of getting a value outside of these limits.\n"
     ]
    }
   ],
   "source": [
    "integral_minus = stats.norm.cdf(-6.0)\n",
    "integral_plus = stats.norm.cdf(6.0)\n",
    "\n",
    "print(integral_plus,integral_minus)\n",
    "\n",
    "integral_between = integral_plus - integral_minus\n",
    "\n",
    "print(integral_between)\n",
    "\n",
    "print(\"This means that there is about a 99.9999998% probability of measusing a value in the interval.\")\n",
    "\n",
    "print (\"In other words, there is 0.0000002% probability, or 1 chance in 500,000,000 of getting a value outside of these limits.\")"
   ]
  },
  {
   "cell_type": "code",
   "execution_count": 10,
   "metadata": {},
   "outputs": [
    {
     "data": {
      "text/plain": [
       "(array([ 0.,  0.,  0.,  0.,  0.,  0.,  0.,  0.,  0.,  0.,  0.,  0.,  0.,\n",
       "         0.,  0.,  0.,  0.,  0.,  0.,  0.,  0.,  0.,  0.,  0.,  0.,  0.,\n",
       "         0.,  0.,  0.,  0.,  0.,  0.,  0.,  0.,  0.,  0.,  0.,  0.,  0.,\n",
       "         0.,  0.,  0.,  0.,  0.,  0.,  0.,  0.,  0.,  0.,  0.,  0.,  0.,\n",
       "         0.,  0.,  0.,  0.,  0.,  0.,  0.,  0.,  0.,  0.,  0.,  3., 57.,\n",
       "        41., 54., 47., 27., 38., 27., 25., 30., 27., 13., 12.,  7.,  9.,\n",
       "        15.,  6.,  8.,  3.,  4.,  2.,  3.,  2.,  5.,  2.,  0.,  0.,  1.,\n",
       "         1.,  2.,  0.,  0.,  0.,  0.,  0.,  0.,  1.]),\n",
       " array([ 62.05062901,  62.80161178,  63.55259454,  64.3035773 ,\n",
       "         65.05456007,  65.80554283,  66.55652559,  67.30750836,\n",
       "         68.05849112,  68.80947388,  69.56045665,  70.31143941,\n",
       "         71.06242217,  71.81340494,  72.5643877 ,  73.31537046,\n",
       "         74.06635323,  74.81733599,  75.56831875,  76.31930152,\n",
       "         77.07028428,  77.82126704,  78.57224981,  79.32323257,\n",
       "         80.07421533,  80.8251981 ,  81.57618086,  82.32716362,\n",
       "         83.07814639,  83.82912915,  84.58011191,  85.33109468,\n",
       "         86.08207744,  86.8330602 ,  87.58404297,  88.33502573,\n",
       "         89.08600849,  89.83699126,  90.58797402,  91.33895678,\n",
       "         92.08993955,  92.84092231,  93.59190507,  94.34288784,\n",
       "         95.0938706 ,  95.84485336,  96.59583613,  97.34681889,\n",
       "         98.09780165,  98.84878442,  99.59976718, 100.35074994,\n",
       "        101.10173271, 101.85271547, 102.60369823, 103.354681  ,\n",
       "        104.10566376, 104.85664652, 105.60762929, 106.35861205,\n",
       "        107.10959481, 107.86057758, 108.61156034, 109.3625431 ,\n",
       "        110.11352587, 110.86450863, 111.61549139, 112.36647416,\n",
       "        113.11745692, 113.86843968, 114.61942245, 115.37040521,\n",
       "        116.12138797, 116.87237074, 117.6233535 , 118.37433626,\n",
       "        119.12531903, 119.87630179, 120.62728455, 121.37826732,\n",
       "        122.12925008, 122.88023284, 123.63121561, 124.38219837,\n",
       "        125.13318113, 125.8841639 , 126.63514666, 127.38612942,\n",
       "        128.13711219, 128.88809495, 129.63907771, 130.39006048,\n",
       "        131.14104324, 131.892026  , 132.64300877, 133.39399153,\n",
       "        134.14497429, 134.89595706, 135.64693982, 136.39792258,\n",
       "        137.14890535]),\n",
       " <a list of 100 Patch objects>)"
      ]
     },
     "execution_count": 10,
     "metadata": {},
     "output_type": "execute_result"
    },
    {
     "data": {
      "image/png": "[encoded data removed]",
      "text/plain": [
       "<Figure size 432x288 with 1 Axes>"
      ]
     },
     "metadata": {
      "needs_background": "light"
     },
     "output_type": "display_data"
    }
   ],
   "source": [
    "xlow = x[(x<(mu-sigma))]\n",
    "xhigh = x[(x>(mu+sigma))]\n",
    "\n",
    "bins=np.histogram(np.hstack((x,xlow,xhigh)), bins=nbins)[1] #get the bin edges\n",
    "\n",
    "plt.hist(x,bins)\n",
    "plt.hist(xlow,bins)\n",
    "plt.hist(xhigh,bins)"
   ]
  },
  {
   "cell_type": "code",
   "execution_count": 11,
   "metadata": {},
   "outputs": [
    {
     "data": {
      "text/plain": [
       "(array([ 0.,  0.,  0.,  0.,  0.,  0.,  0.,  0.,  0.,  0.,  0.,  0.,  0.,\n",
       "         0.,  0.,  0.,  0.,  0.,  0.,  0.,  0.,  0.,  0.,  0.,  0.,  0.,\n",
       "         0.,  0.,  0.,  0.,  0.,  0.,  0.,  0.,  0.,  0.,  0.,  0.,  0.,\n",
       "         0.,  0.,  0.,  0.,  0.,  0.,  0.,  0.,  0.,  0.,  0.,  0.,  0.,\n",
       "         0.,  0.,  0.,  0.,  0.,  0.,  0.,  0.,  0.,  0.,  0.,  0.,  0.,\n",
       "         0.,  0.,  0.,  0.,  0.,  0.,  0.,  0.,  0.,  0.,  0.,  0.,  7.,\n",
       "        15.,  6.,  8.,  3.,  4.,  2.,  3.,  2.,  5.,  2.,  0.,  0.,  1.,\n",
       "         1.,  2.,  0.,  0.,  0.,  0.,  0.,  0.,  1.]),\n",
       " array([ 62.05062901,  62.80161178,  63.55259454,  64.3035773 ,\n",
       "         65.05456007,  65.80554283,  66.55652559,  67.30750836,\n",
       "         68.05849112,  68.80947388,  69.56045665,  70.31143941,\n",
       "         71.06242217,  71.81340494,  72.5643877 ,  73.31537046,\n",
       "         74.06635323,  74.81733599,  75.56831875,  76.31930152,\n",
       "         77.07028428,  77.82126704,  78.57224981,  79.32323257,\n",
       "         80.07421533,  80.8251981 ,  81.57618086,  82.32716362,\n",
       "         83.07814639,  83.82912915,  84.58011191,  85.33109468,\n",
       "         86.08207744,  86.8330602 ,  87.58404297,  88.33502573,\n",
       "         89.08600849,  89.83699126,  90.58797402,  91.33895678,\n",
       "         92.08993955,  92.84092231,  93.59190507,  94.34288784,\n",
       "         95.0938706 ,  95.84485336,  96.59583613,  97.34681889,\n",
       "         98.09780165,  98.84878442,  99.59976718, 100.35074994,\n",
       "        101.10173271, 101.85271547, 102.60369823, 103.354681  ,\n",
       "        104.10566376, 104.85664652, 105.60762929, 106.35861205,\n",
       "        107.10959481, 107.86057758, 108.61156034, 109.3625431 ,\n",
       "        110.11352587, 110.86450863, 111.61549139, 112.36647416,\n",
       "        113.11745692, 113.86843968, 114.61942245, 115.37040521,\n",
       "        116.12138797, 116.87237074, 117.6233535 , 118.37433626,\n",
       "        119.12531903, 119.87630179, 120.62728455, 121.37826732,\n",
       "        122.12925008, 122.88023284, 123.63121561, 124.38219837,\n",
       "        125.13318113, 125.8841639 , 126.63514666, 127.38612942,\n",
       "        128.13711219, 128.88809495, 129.63907771, 130.39006048,\n",
       "        131.14104324, 131.892026  , 132.64300877, 133.39399153,\n",
       "        134.14497429, 134.89595706, 135.64693982, 136.39792258,\n",
       "        137.14890535]),\n",
       " <a list of 100 Patch objects>)"
      ]
     },
     "execution_count": 11,
     "metadata": {},
     "output_type": "execute_result"
    },
    {
     "data": {
      "image/png": "[encoded data removed]",
      "text/plain": [
       "<Figure size 432x288 with 1 Axes>"
      ]
     },
     "metadata": {
      "needs_background": "light"
     },
     "output_type": "display_data"
    }
   ],
   "source": [
    "xlow = x[(x<(mu-2.0*sigma))]\n",
    "xhigh = x[(x>(mu+2.0*sigma))]\n",
    "\n",
    "bins=np.histogram(np.hstack((x,xlow,xhigh)), bins=nbins)[1] #get the bin edges\n",
    "\n",
    "plt.hist(x,bins)\n",
    "plt.hist(xlow,bins)\n",
    "plt.hist(xhigh,bins)\n"
   ]
  },
  {
   "cell_type": "code",
   "execution_count": 12,
   "metadata": {},
   "outputs": [
    {
     "data": {
      "text/plain": [
       "(array([0., 0., 0., 0., 0., 0., 0., 0., 0., 0., 0., 0., 0., 0., 0., 0., 0.,\n",
       "        0., 0., 0., 0., 0., 0., 0., 0., 0., 0., 0., 0., 0., 0., 0., 0., 0.,\n",
       "        0., 0., 0., 0., 0., 0., 0., 0., 0., 0., 0., 0., 0., 0., 0., 0., 0.,\n",
       "        0., 0., 0., 0., 0., 0., 0., 0., 0., 0., 0., 0., 0., 0., 0., 0., 0.,\n",
       "        0., 0., 0., 0., 0., 0., 0., 0., 0., 0., 0., 0., 0., 0., 0., 0., 0.,\n",
       "        0., 0., 0., 0., 0., 0., 1., 2., 0., 0., 0., 0., 0., 0., 1.]),\n",
       " array([ 62.05062901,  62.80161178,  63.55259454,  64.3035773 ,\n",
       "         65.05456007,  65.80554283,  66.55652559,  67.30750836,\n",
       "         68.05849112,  68.80947388,  69.56045665,  70.31143941,\n",
       "         71.06242217,  71.81340494,  72.5643877 ,  73.31537046,\n",
       "         74.06635323,  74.81733599,  75.56831875,  76.31930152,\n",
       "         77.07028428,  77.82126704,  78.57224981,  79.32323257,\n",
       "         80.07421533,  80.8251981 ,  81.57618086,  82.32716362,\n",
       "         83.07814639,  83.82912915,  84.58011191,  85.33109468,\n",
       "         86.08207744,  86.8330602 ,  87.58404297,  88.33502573,\n",
       "         89.08600849,  89.83699126,  90.58797402,  91.33895678,\n",
       "         92.08993955,  92.84092231,  93.59190507,  94.34288784,\n",
       "         95.0938706 ,  95.84485336,  96.59583613,  97.34681889,\n",
       "         98.09780165,  98.84878442,  99.59976718, 100.35074994,\n",
       "        101.10173271, 101.85271547, 102.60369823, 103.354681  ,\n",
       "        104.10566376, 104.85664652, 105.60762929, 106.35861205,\n",
       "        107.10959481, 107.86057758, 108.61156034, 109.3625431 ,\n",
       "        110.11352587, 110.86450863, 111.61549139, 112.36647416,\n",
       "        113.11745692, 113.86843968, 114.61942245, 115.37040521,\n",
       "        116.12138797, 116.87237074, 117.6233535 , 118.37433626,\n",
       "        119.12531903, 119.87630179, 120.62728455, 121.37826732,\n",
       "        122.12925008, 122.88023284, 123.63121561, 124.38219837,\n",
       "        125.13318113, 125.8841639 , 126.63514666, 127.38612942,\n",
       "        128.13711219, 128.88809495, 129.63907771, 130.39006048,\n",
       "        131.14104324, 131.892026  , 132.64300877, 133.39399153,\n",
       "        134.14497429, 134.89595706, 135.64693982, 136.39792258,\n",
       "        137.14890535]),\n",
       " <a list of 100 Patch objects>)"
      ]
     },
     "execution_count": 12,
     "metadata": {},
     "output_type": "execute_result"
    },
    {
     "data": {
      "image/png": "[encoded data removed]",
      "text/plain": [
       "<Figure size 432x288 with 1 Axes>"
      ]
     },
     "metadata": {
      "needs_background": "light"
     },
     "output_type": "display_data"
    }
   ],
   "source": [
    "xlow = x[(x<(mu-3.0*sigma))]\n",
    "xhigh = x[(x>(mu+3.0*sigma))]\n",
    "\n",
    "bins=np.histogram(np.hstack((x,xlow,xhigh)), bins=nbins)[1] #get the bin edges\n",
    "\n",
    "plt.hist(x,bins)\n",
    "plt.hist(xlow,bins)\n",
    "plt.hist(xhigh,bins)"
   ]
  },
  {
   "cell_type": "markdown",
   "metadata": {},
   "source": [
    "Now, we will ask a different question:  What is the z-distribution associated with the MEAN of the original data distribution?\n",
    "\n",
    "Note that in our definition of $z$ above, we are comparing an individual data point ($x_i$) with the population mean ($\\mu$), and the dividing that quantity by $\\sigma$, which is representative of the \"width\" of the distribution.\n",
    "\n",
    "For the z-distribution associated with the MEAN of the data distribution, we will define $z$ similarly:\n",
    "\n",
    "$z = \\frac{\\bar{x} - \\mu}{\\frac{\\sigma}{\\sqrt{N}}} $\n",
    "\n",
    "As you can see, we will compare the $sample$ mean ($\\bar{x}$) to the population mean ($\\mu$), and then divide by the uncertainty in the sample mean ($\\frac{\\sigma}{\\sqrt{N}}$).\n",
    "\n"
   ]
  },
  {
   "cell_type": "code",
   "execution_count": 13,
   "metadata": {},
   "outputs": [
    {
     "name": "stdout",
     "output_type": "stream",
     "text": [
      "Z score =  -0.8964249877158218\n"
     ]
    }
   ],
   "source": [
    "sem = sigma/np.sqrt(npts)\n",
    "zscore = (xbar-mu)/sem\n",
    "\n",
    "print (\"Z score = \",zscore)"
   ]
  },
  {
   "cell_type": "markdown",
   "metadata": {},
   "source": [
    "So, what does this mean?  Well, it means that the sample mean that we measured ($\\bar{x}$) is higher than the predicted mean ($\\mu$) by a small amount (0.62 x the predicted uncertainty).\n",
    "\n",
    "The fundamental question is:  is this difference enough to matter?  Is there a problem?  In order to answer these questions, there are several things that we have to ask ourselves first:\n",
    "\n",
    "1.  What question are we asking?  There are three possibilities:\n",
    "\n",
    "(i) Are the data consistent with ${\\bar x} = \\mu$?\n",
    "\n",
    "(ii) Are the data consistent with ${\\bar x} \\ge \\mu$?\n",
    "\n",
    "(iii) Are the data consistent with ${\\bar x} \\le \\mu$?\n",
    "\n",
    "\n",
    "2.  How large must the deviation between $\\bar{x}$ and $\\mu$ be before we say that there is a problem?  This approach is known as the 'null hypothesis\" approach.  We assume that there is no problem, and then look for evidence that there is a problem.\n",
    "\n",
    "The level of required deviation that we require in order to report that there is a problem (i.e. we REJECT the null hypothesis) is known as the TYPE I ERROR PROBABILITY, $\\alpha$.\n",
    "\n",
    "Essentially, the probability $\\alpha$ is this: it is the probability that there is NOT a problem (i.e. $\\mu$ really is what we think it is) but we just got unlucky, statistically, and measured a value of $\\bar{x}$ that indicates that $\\mu$ is different than what we think it is.\n",
    "\n",
    "Let us consider the three cases noted above:\n",
    "\n",
    "Case 1:  \n",
    "\n",
    "We assume that we are sampling from a population that is consistent with our expected value of $\\mu$. In this instance, there is a probability $\\frac{\\alpha}{2}$ that we will measure a value of $z$ that is greater\n",
    "than some critical value, and a probability $\\frac{\\alpha}{2}$ that we will measure a value of $z$ that is lower\n",
    "than some critical value.\n",
    "\n",
    "In order to understand this, imagine doing the experiment many times.  Each time, we sample a certain number of points from the distribution, and we can calculate a value of $\\bar{x}$ for that sample.  We can also calculate\n",
    "a value of $z$ for that value of $\\bar{x}$.  If we then look at the distribution of $z$ values, we expect to get\n",
    "a Gaussian distribution with a centroid of zero, and a $\\sigma$ of 1.\n",
    "\n",
    "The critical z values will be described the the following equations:\n",
    "\n",
    "$\\int_{-\\infty}^{z_{lower}} P(z) dz = \\frac{\\alpha}{2} $\n",
    "\n",
    "$\\int_{-\\infty}^{z_{upper}} P(z) dz = 1 - \\frac{\\alpha}{2} $"
   ]
  },
  {
   "cell_type": "code",
   "execution_count": 14,
   "metadata": {},
   "outputs": [
    {
     "name": "stdout",
     "output_type": "stream",
     "text": [
      "Lower and Upper Critical Z Values:  -1.6448536269514729 1.6448536269514722\n",
      "Lower and Upper Critical Xbar Values:  99.6996921882415 100.3003078117585\n"
     ]
    }
   ],
   "source": [
    "# Calculate the upper and lower critical z values, based on our choice of alpha\n",
    "\n",
    "alpha = 0.10\n",
    "\n",
    "zLower = stats.norm.ppf(alpha/2.0)\n",
    "\n",
    "zUpper = stats.norm.ppf(1-alpha/2.0)\n",
    "\n",
    "print (\"Lower and Upper Critical Z Values: \",zLower,zUpper)\n",
    "\n",
    "# calculate the critical upper and lower xbar values, based on these z values\n",
    "\n",
    "xbarUpper = mu + zUpper*sem\n",
    "xbarLower = mu + zLower*sem\n",
    "\n",
    "print (\"Lower and Upper Critical Xbar Values: \",xbarLower, xbarUpper)"
   ]
  },
  {
   "cell_type": "code",
   "execution_count": 15,
   "metadata": {},
   "outputs": [
    {
     "data": {
      "text/plain": [
       "(array([  0.,   0.,   0.,   0.,   0.,   0.,   0.,   0.,   0.,   0.,   0.,\n",
       "          0.,   0.,   0.,   0.,   0.,   0.,   0.,   0.,   0.,   0.,   0.,\n",
       "          0.,   0.,   0.,   0.,   0.,   0.,   0.,   0.,   0.,   0.,   0.,\n",
       "          0.,   0.,   0.,   0.,   0.,   0.,   0.,   0.,   0.,   0.,   0.,\n",
       "          0.,   0.,   0.,   0.,   0.,   0.,   0.,   0.,   0.,   0.,   0.,\n",
       "          0.,   0.,   0.,   0.,   0.,   0.,   0.,   0.,   0.,   0.,   0.,\n",
       "          0.,   0.,   0., 748., 717., 624., 542., 439., 377., 307., 267.,\n",
       "        224., 170., 125., 135.,  99.,  77.,  55.,  47.,  36.,  26.,  27.,\n",
       "         11.,  16.,  10.,  10.,   9.,   0.,   2.,   3.,   2.,   1.,   0.,\n",
       "          2.]),\n",
       " array([-4.17099352, -4.08681729, -4.00264105, -3.91846482, -3.83428859,\n",
       "        -3.75011235, -3.66593612, -3.58175989, -3.49758365, -3.41340742,\n",
       "        -3.32923119, -3.24505495, -3.16087872, -3.07670249, -2.99252625,\n",
       "        -2.90835002, -2.82417379, -2.73999755, -2.65582132, -2.57164508,\n",
       "        -2.48746885, -2.40329262, -2.31911638, -2.23494015, -2.15076392,\n",
       "        -2.06658768, -1.98241145, -1.89823522, -1.81405898, -1.72988275,\n",
       "        -1.64570652, -1.56153028, -1.47735405, -1.39317782, -1.30900158,\n",
       "        -1.22482535, -1.14064911, -1.05647288, -0.97229665, -0.88812041,\n",
       "        -0.80394418, -0.71976795, -0.63559171, -0.55141548, -0.46723925,\n",
       "        -0.38306301, -0.29888678, -0.21471055, -0.13053431, -0.04635808,\n",
       "         0.03781815,  0.12199439,  0.20617062,  0.29034686,  0.37452309,\n",
       "         0.45869932,  0.54287556,  0.62705179,  0.71122802,  0.79540426,\n",
       "         0.87958049,  0.96375672,  1.04793296,  1.13210919,  1.21628542,\n",
       "         1.30046166,  1.38463789,  1.46881413,  1.55299036,  1.63716659,\n",
       "         1.72134283,  1.80551906,  1.88969529,  1.97387153,  2.05804776,\n",
       "         2.14222399,  2.22640023,  2.31057646,  2.39475269,  2.47892893,\n",
       "         2.56310516,  2.64728139,  2.73145763,  2.81563386,  2.8998101 ,\n",
       "         2.98398633,  3.06816256,  3.1523388 ,  3.23651503,  3.32069126,\n",
       "         3.4048675 ,  3.48904373,  3.57321996,  3.6573962 ,  3.74157243,\n",
       "         3.82574866,  3.9099249 ,  3.99410113,  4.07827736,  4.1624536 ,\n",
       "         4.24662983]),\n",
       " <a list of 100 Patch objects>)"
      ]
     },
     "execution_count": 15,
     "metadata": {},
     "output_type": "execute_result"
    },
    {
     "data": {
      "image/png": "[encoded data removed]",
      "text/plain": [
       "<Figure size 432x288 with 1 Axes>"
      ]
     },
     "metadata": {
      "needs_background": "light"
     },
     "output_type": "display_data"
    }
   ],
   "source": [
    "# We will take a sample of 3000 points from a Gaussian distribution with mu=100.0 and sigma=10.0, \n",
    "# and each time we do this, we will calculate xbar.  Then, we will calculate the z value corresponding \n",
    "# to that value of xbar.   Finally, we will create a histogram of these z-values.\n",
    "\n",
    "xbararray = []\n",
    "\n",
    "# perform the experiment 100000 times\n",
    "for i in range(100000):\n",
    "    x = stats.norm.rvs(size=npts,loc=mu,scale=sigma)\n",
    "    xbararray.append(np.mean(x))\n",
    "    \n",
    "xbararray = np.array(xbararray)\n",
    "zscorearray = (xbararray-mu)/sem\n",
    "        \n",
    "zlow = zscorearray[(zscorearray<zLower)]\n",
    "zhigh = zscorearray[(zscorearray>zUpper)]\n",
    "\n",
    "bins=np.histogram(np.hstack((zscorearray,zlow,zhigh)), bins=nbins)[1] #get the bin edges\n",
    "\n",
    "plt.hist(zscorearray,bins)\n",
    "plt.hist(zlow,bins)\n",
    "plt.hist(zhigh,bins)"
   ]
  },
  {
   "cell_type": "markdown",
   "metadata": {},
   "source": [
    "Case 2:  \n",
    "\n",
    "We assume that we are sampling from a population that is consistent with our expected value of $\\mu$. In this instance, there is a probability $\\alpha$ that we will measure a value of $z$ that is lower\n",
    "than some critical value.\n",
    "\n",
    "The critical z value will be described the the following equations:\n",
    "\n",
    "$\\int_{-\\infty}^{z_{critical}} P(z) dz = \\alpha $"
   ]
  },
  {
   "cell_type": "code",
   "execution_count": 16,
   "metadata": {},
   "outputs": [
    {
     "name": "stdout",
     "output_type": "stream",
     "text": [
      "Critical Z value:  -1.2815515655446004\n",
      "Critical Xbar value:  99.76602176631505\n"
     ]
    },
    {
     "data": {
      "text/plain": [
       "(array([1.000e+00, 0.000e+00, 2.000e+00, 3.000e+00, 3.000e+00, 1.000e+00,\n",
       "        5.000e+00, 6.000e+00, 6.000e+00, 1.200e+01, 1.900e+01, 2.400e+01,\n",
       "        2.900e+01, 2.600e+01, 4.900e+01, 5.700e+01, 7.100e+01, 1.000e+02,\n",
       "        9.100e+01, 1.250e+02, 1.740e+02, 2.230e+02, 2.550e+02, 2.920e+02,\n",
       "        3.810e+02, 4.330e+02, 4.920e+02, 6.310e+02, 7.140e+02, 8.080e+02,\n",
       "        8.790e+02, 1.062e+03, 1.152e+03, 1.315e+03, 4.680e+02, 0.000e+00,\n",
       "        0.000e+00, 0.000e+00, 0.000e+00, 0.000e+00, 0.000e+00, 0.000e+00,\n",
       "        0.000e+00, 0.000e+00, 0.000e+00, 0.000e+00, 0.000e+00, 0.000e+00,\n",
       "        0.000e+00, 0.000e+00, 0.000e+00, 0.000e+00, 0.000e+00, 0.000e+00,\n",
       "        0.000e+00, 0.000e+00, 0.000e+00, 0.000e+00, 0.000e+00, 0.000e+00,\n",
       "        0.000e+00, 0.000e+00, 0.000e+00, 0.000e+00, 0.000e+00, 0.000e+00,\n",
       "        0.000e+00, 0.000e+00, 0.000e+00, 0.000e+00, 0.000e+00, 0.000e+00,\n",
       "        0.000e+00, 0.000e+00, 0.000e+00, 0.000e+00, 0.000e+00, 0.000e+00,\n",
       "        0.000e+00, 0.000e+00, 0.000e+00, 0.000e+00, 0.000e+00, 0.000e+00,\n",
       "        0.000e+00, 0.000e+00, 0.000e+00, 0.000e+00, 0.000e+00, 0.000e+00,\n",
       "        0.000e+00, 0.000e+00, 0.000e+00, 0.000e+00, 0.000e+00, 0.000e+00,\n",
       "        0.000e+00, 0.000e+00, 0.000e+00, 0.000e+00]),\n",
       " array([-4.17099352, -4.08681729, -4.00264105, -3.91846482, -3.83428859,\n",
       "        -3.75011235, -3.66593612, -3.58175989, -3.49758365, -3.41340742,\n",
       "        -3.32923119, -3.24505495, -3.16087872, -3.07670249, -2.99252625,\n",
       "        -2.90835002, -2.82417379, -2.73999755, -2.65582132, -2.57164508,\n",
       "        -2.48746885, -2.40329262, -2.31911638, -2.23494015, -2.15076392,\n",
       "        -2.06658768, -1.98241145, -1.89823522, -1.81405898, -1.72988275,\n",
       "        -1.64570652, -1.56153028, -1.47735405, -1.39317782, -1.30900158,\n",
       "        -1.22482535, -1.14064911, -1.05647288, -0.97229665, -0.88812041,\n",
       "        -0.80394418, -0.71976795, -0.63559171, -0.55141548, -0.46723925,\n",
       "        -0.38306301, -0.29888678, -0.21471055, -0.13053431, -0.04635808,\n",
       "         0.03781815,  0.12199439,  0.20617062,  0.29034686,  0.37452309,\n",
       "         0.45869932,  0.54287556,  0.62705179,  0.71122802,  0.79540426,\n",
       "         0.87958049,  0.96375672,  1.04793296,  1.13210919,  1.21628542,\n",
       "         1.30046166,  1.38463789,  1.46881413,  1.55299036,  1.63716659,\n",
       "         1.72134283,  1.80551906,  1.88969529,  1.97387153,  2.05804776,\n",
       "         2.14222399,  2.22640023,  2.31057646,  2.39475269,  2.47892893,\n",
       "         2.56310516,  2.64728139,  2.73145763,  2.81563386,  2.8998101 ,\n",
       "         2.98398633,  3.06816256,  3.1523388 ,  3.23651503,  3.32069126,\n",
       "         3.4048675 ,  3.48904373,  3.57321996,  3.6573962 ,  3.74157243,\n",
       "         3.82574866,  3.9099249 ,  3.99410113,  4.07827736,  4.1624536 ,\n",
       "         4.24662983]),\n",
       " <a list of 100 Patch objects>)"
      ]
     },
     "execution_count": 16,
     "metadata": {},
     "output_type": "execute_result"
    },
    {
     "data": {
      "image/png": "[encoded data removed]",
      "text/plain": [
       "<Figure size 432x288 with 1 Axes>"
      ]
     },
     "metadata": {
      "needs_background": "light"
     },
     "output_type": "display_data"
    }
   ],
   "source": [
    "zCritical = stats.norm.ppf(alpha)\n",
    "\n",
    "print (\"Critical Z value: \",zCritical)\n",
    "\n",
    "# calculate the critical lower xbar value, based on this z value\n",
    "\n",
    "xbarLower = mu + zCritical*sem\n",
    "\n",
    "print (\"Critical Xbar value: \",xbarLower)\n",
    "\n",
    "zlow = zscorearray[(zscorearray<zCritical)]\n",
    "\n",
    "bins=np.histogram(np.hstack((zscorearray,zlow)), bins=nbins)[1] #get the bin edges\n",
    "\n",
    "plt.hist(zscorearray,bins)\n",
    "plt.hist(zlow,bins)"
   ]
  },
  {
   "cell_type": "markdown",
   "metadata": {},
   "source": [
    "Case 3:  \n",
    "\n",
    "We assume that we are sampling from a population that is consistent with our expected value of $\\mu$. In this instance, there is a probability $\\alpha$ that we will measure a value of $z$ that is higher\n",
    "than some critical value.\n",
    "\n",
    "The critical z value will be described the the following equations:\n",
    "\n",
    "$\\int_{-\\infty}^{z_{critical}} P(z) dz = 1-\\alpha $"
   ]
  },
  {
   "cell_type": "code",
   "execution_count": 17,
   "metadata": {},
   "outputs": [
    {
     "name": "stdout",
     "output_type": "stream",
     "text": [
      "Critical Z value:  1.2815515655446004\n",
      "Critical Xbar value:  100.23397823368495\n"
     ]
    },
    {
     "data": {
      "text/plain": [
       "(array([0.000e+00, 0.000e+00, 0.000e+00, 0.000e+00, 0.000e+00, 0.000e+00,\n",
       "        0.000e+00, 0.000e+00, 0.000e+00, 0.000e+00, 0.000e+00, 0.000e+00,\n",
       "        0.000e+00, 0.000e+00, 0.000e+00, 0.000e+00, 0.000e+00, 0.000e+00,\n",
       "        0.000e+00, 0.000e+00, 0.000e+00, 0.000e+00, 0.000e+00, 0.000e+00,\n",
       "        0.000e+00, 0.000e+00, 0.000e+00, 0.000e+00, 0.000e+00, 0.000e+00,\n",
       "        0.000e+00, 0.000e+00, 0.000e+00, 0.000e+00, 0.000e+00, 0.000e+00,\n",
       "        0.000e+00, 0.000e+00, 0.000e+00, 0.000e+00, 0.000e+00, 0.000e+00,\n",
       "        0.000e+00, 0.000e+00, 0.000e+00, 0.000e+00, 0.000e+00, 0.000e+00,\n",
       "        0.000e+00, 0.000e+00, 0.000e+00, 0.000e+00, 0.000e+00, 0.000e+00,\n",
       "        0.000e+00, 0.000e+00, 0.000e+00, 0.000e+00, 0.000e+00, 0.000e+00,\n",
       "        0.000e+00, 0.000e+00, 0.000e+00, 0.000e+00, 3.300e+02, 1.343e+03,\n",
       "        1.206e+03, 1.119e+03, 1.009e+03, 8.320e+02, 7.170e+02, 6.240e+02,\n",
       "        5.420e+02, 4.390e+02, 3.770e+02, 3.070e+02, 2.670e+02, 2.240e+02,\n",
       "        1.700e+02, 1.250e+02, 1.350e+02, 9.900e+01, 7.700e+01, 5.500e+01,\n",
       "        4.700e+01, 3.600e+01, 2.600e+01, 2.700e+01, 1.100e+01, 1.600e+01,\n",
       "        1.000e+01, 1.000e+01, 9.000e+00, 0.000e+00, 2.000e+00, 3.000e+00,\n",
       "        2.000e+00, 1.000e+00, 0.000e+00, 2.000e+00]),\n",
       " array([-4.17099352, -4.08681729, -4.00264105, -3.91846482, -3.83428859,\n",
       "        -3.75011235, -3.66593612, -3.58175989, -3.49758365, -3.41340742,\n",
       "        -3.32923119, -3.24505495, -3.16087872, -3.07670249, -2.99252625,\n",
       "        -2.90835002, -2.82417379, -2.73999755, -2.65582132, -2.57164508,\n",
       "        -2.48746885, -2.40329262, -2.31911638, -2.23494015, -2.15076392,\n",
       "        -2.06658768, -1.98241145, -1.89823522, -1.81405898, -1.72988275,\n",
       "        -1.64570652, -1.56153028, -1.47735405, -1.39317782, -1.30900158,\n",
       "        -1.22482535, -1.14064911, -1.05647288, -0.97229665, -0.88812041,\n",
       "        -0.80394418, -0.71976795, -0.63559171, -0.55141548, -0.46723925,\n",
       "        -0.38306301, -0.29888678, -0.21471055, -0.13053431, -0.04635808,\n",
       "         0.03781815,  0.12199439,  0.20617062,  0.29034686,  0.37452309,\n",
       "         0.45869932,  0.54287556,  0.62705179,  0.71122802,  0.79540426,\n",
       "         0.87958049,  0.96375672,  1.04793296,  1.13210919,  1.21628542,\n",
       "         1.30046166,  1.38463789,  1.46881413,  1.55299036,  1.63716659,\n",
       "         1.72134283,  1.80551906,  1.88969529,  1.97387153,  2.05804776,\n",
       "         2.14222399,  2.22640023,  2.31057646,  2.39475269,  2.47892893,\n",
       "         2.56310516,  2.64728139,  2.73145763,  2.81563386,  2.8998101 ,\n",
       "         2.98398633,  3.06816256,  3.1523388 ,  3.23651503,  3.32069126,\n",
       "         3.4048675 ,  3.48904373,  3.57321996,  3.6573962 ,  3.74157243,\n",
       "         3.82574866,  3.9099249 ,  3.99410113,  4.07827736,  4.1624536 ,\n",
       "         4.24662983]),\n",
       " <a list of 100 Patch objects>)"
      ]
     },
     "execution_count": 17,
     "metadata": {},
     "output_type": "execute_result"
    },
    {
     "data": {
      "image/png": "[encoded data removed]",
      "text/plain": [
       "<Figure size 432x288 with 1 Axes>"
      ]
     },
     "metadata": {
      "needs_background": "light"
     },
     "output_type": "display_data"
    }
   ],
   "source": [
    "zCritical = stats.norm.ppf(1.0-alpha)\n",
    "\n",
    "print (\"Critical Z value: \",zCritical)\n",
    "\n",
    "# calculate the critical upper xbar value, based on this z value\n",
    "\n",
    "xbarUpper = mu + zCritical*sem\n",
    "\n",
    "print (\"Critical Xbar value: \",xbarUpper)\n",
    "\n",
    "zlow = zscorearray[(zscorearray>zCritical)]\n",
    "\n",
    "bins=np.histogram(np.hstack((zscorearray,zlow)), bins=nbins)[1] #get the bin edges\n",
    "\n",
    "plt.hist(zscorearray,bins)\n",
    "plt.hist(zlow,bins)"
   ]
  },
  {
   "cell_type": "code",
   "execution_count": null,
   "metadata": {},
   "outputs": [],
   "source": []
  },
  {
   "cell_type": "code",
   "execution_count": null,
   "metadata": {},
   "outputs": [],
   "source": []
  },
  {
   "cell_type": "code",
   "execution_count": null,
   "metadata": {},
   "outputs": [],
   "source": []
  }
 ],
 "metadata": {
  "kernelspec": {
   "display_name": "Python 3",
   "language": "python",
   "name": "python3"
  },
  "language_info": {
   "codemirror_mode": {
    "name": "ipython",
    "version": 3
   },
   "file_extension": ".py",
   "mimetype": "text/x-python",
   "name": "python",
   "nbconvert_exporter": "python",
   "pygments_lexer": "ipython3",
   "version": "3.6.8"
  }
 },
 "nbformat": 4,
 "nbformat_minor": 2
}
