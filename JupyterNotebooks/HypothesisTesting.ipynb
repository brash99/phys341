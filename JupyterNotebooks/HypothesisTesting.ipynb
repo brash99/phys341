{
 "cells": [
  {
   "cell_type": "markdown",
   "metadata": {},
   "source": [
    "# Hypothesis Testing\n",
    "\n",
    "The general steps in data analysis are as follows:\n",
    "\n",
    "1. Visually inspect the data.\n",
    "2. Find extreme examples (i.e. outliers) and consider them carefully.\n",
    "3. Determine the data-type of the values.\n",
    "4. If the data are continuous, check whether or not they are normally distributed.\n",
    "5. Select and apply the appropriate test, or apply a model-based analysis of the data.\n",
    "\n",
    "Before we discuss step 5, we need to consider first the previous steps.\n"
   ]
  },
  {
   "cell_type": "markdown",
   "metadata": {},
   "source": [
    "# Normality Check\n",
    "\n",
    "Statistical hypothesis tests are grouped into $parametric$ tests, and $non-parametric$ tests.  Parametric tests assume that the data can be well described by some underlying distribution (uniform, normal, Poisson, or other).  So, if we are going to use tests that are based on an underlying normal distribution, the first thing that we have to do is check to see if that is a reasonable assumption."
   ]
  },
  {
   "cell_type": "code",
   "execution_count": 1,
   "metadata": {},
   "outputs": [
    {
     "data": {
      "text/plain": [
       "[<matplotlib.lines.Line2D at 0x7f50ec0b02b0>]"
      ]
     },
     "execution_count": 1,
     "metadata": {},
     "output_type": "execute_result"
    }
   ],
   "source": [
    "# Import the required packages, \n",
    "# with their conventional names \n",
    "import matplotlib.pyplot as plt \n",
    "import numpy as np \n",
    "import scipy.stats as stats \n",
    "\n",
    "# Generate some data ... 3000 samples chosen from a Gaussian distribution with a mean of 100 and a sigma of 10.\n",
    "npts = 3000\n",
    "mu = 100.0\n",
    "sigma = 10.0\n",
    "x = stats.norm.rvs(size=npts,loc=mu,scale=sigma)\n",
    "\n",
    "# Step 1: Sort the data from smallest to largest\n",
    "\n",
    "x.sort()\n",
    "\n",
    "# Step 2: Create an array of z-scores for the data\n",
    "\n",
    "zdata = (x-mu)/sigma\n",
    "\n",
    "# Step 2: Create an array of z-scores (quantiles) corresponding to the length\n",
    "#         of the data array\n",
    "\n",
    "i = np.arange(1/len(x),1,1/(len(x)+1))\n",
    "quantiles = stats.norm.ppf(i)\n",
    "\n",
    "# Step 3: Plot the results ... if the data is normally distributed, we expect the data\n",
    "#         to fall along the line y=x\n",
    "\n",
    "plt.plot(quantiles,zdata,'.')\n",
    "\n",
    "zmin = zdata.min()\n",
    "zmax = zdata.max()\n",
    "xt = np.arange(zmin, zmax, 0.01) \n",
    "yt = xt\n",
    "plt.plot(xt,yt)"
   ]
  },
  {
   "cell_type": "code",
   "execution_count": 2,
   "metadata": {},
   "outputs": [
    {
     "data": {
      "text/plain": [
       "NormaltestResult(statistic=1.3707993099334181, pvalue=0.5038888076632211)"
      ]
     },
     "execution_count": 2,
     "metadata": {},
     "output_type": "execute_result"
    },
    {
     "data": {
      "image/png": "[encoded data removed]",
      "text/plain": [
       "<Figure size 432x288 with 1 Axes>"
      ]
     },
     "metadata": {
      "needs_background": "light"
     },
     "output_type": "display_data"
    }
   ],
   "source": [
    "# Or, we could just have Python stats package do it for us all in one step!\n",
    "\n",
    "stats.probplot(zdata,plot=plt)\n",
    "stats.normaltest(zdata)"
   ]
  },
  {
   "cell_type": "code",
   "execution_count": 3,
   "metadata": {},
   "outputs": [
    {
     "data": {
      "text/plain": [
       "NormaltestResult(statistic=194.2063606939909, pvalue=6.7394522410552094e-43)"
      ]
     },
     "execution_count": 3,
     "metadata": {},
     "output_type": "execute_result"
    },
    {
     "data": {
      "image/png": "[encoded data removed]",
      "text/plain": [
       "<Figure size 432x288 with 1 Axes>"
      ]
     },
     "metadata": {
      "needs_background": "light"
     },
     "output_type": "display_data"
    }
   ],
   "source": [
    "#\n",
    "# Let's now create a distribution that has some outliers!!!\n",
    "#\n",
    "\n",
    "mu=0\n",
    "sigma=10\n",
    "\n",
    "npts = 3000\n",
    "x = stats.norm.rvs(size=npts,loc=mu,scale=sigma)\n",
    "nptso = 10\n",
    "xoutliers = stats.norm.rvs(size=nptso,loc=mu+5*sigma,scale=sigma)\n",
    "\n",
    "npts=npts+nptso\n",
    "\n",
    "xmix = np.concatenate([x,xoutliers])\n",
    "\n",
    "stats.probplot(xmix,plot=plt)\n",
    "stats.normaltest(xmix)"
   ]
  },
  {
   "cell_type": "markdown",
   "metadata": {},
   "source": [
    "# Outliers\n",
    "\n",
    "There is no unique definition for outliers.  However, if the data is normally distributed, then we have a better sense of what it means, numerically, to be an outlier."
   ]
  },
  {
   "cell_type": "markdown",
   "metadata": {},
   "source": [
    "# Steps in Hypothesis Testing\n",
    "\n",
    "The general procedure for hypothesis tests can be described as follows:\n",
    "\n",
    "1.  A random sample is collected from a population.\n",
    "2.  A null hypothesis is formed.  Particular attention is paid at this point as to whether we are interested in the \"=\", \">\", or \"<\" cases.\n",
    "3.  A test statistic is calculated, of which we know the probability distribution.\n",
    "4.  A comparison is made between the observed value of the test statistic and the corresponding distribution.  In particular, we can calculate the likelihood that a value as extreme (or more extreme) than the observed one is found by chance.  This is called the \"p-value\".\n",
    "5. If the p-value is LESS THAN alpha, then we reject the null hypothesis.  Otherwise, we fail to reject the null hypothesis."
   ]
  },
  {
   "cell_type": "markdown",
   "metadata": {},
   "source": [
    "# Example 1 - Comparing the Sample Mean to a Predicted Population Mean - \"=\" Case."
   ]
  },
  {
   "cell_type": "code",
   "execution_count": 4,
   "metadata": {},
   "outputs": [
    {
     "name": "stdout",
     "output_type": "stream",
     "text": [
      "Expected population mean = 110.00\n",
      "Mean Value from data = 97.12\n",
      "Standard Error in the mean = 7.02\n",
      "T value from data = -1.84\n",
      "Critical T values = -2.26, 2.26\n",
      "P value = 0.100\n"
     ]
    }
   ],
   "source": [
    "# Step 1:  Collect data\n",
    "\n",
    "scores = np.array([109.4,76.2,128.7,93.7,85.6,117.7,117.2,87.3,100.3,55.1])\n",
    "\n",
    "xbar = scores.mean()\n",
    "sem = stats.sem(scores)\n",
    "df = len(scores)-1\n",
    "\n",
    "# Step 2:  Null hypothesis\n",
    "# \"The expected value of mu is 110.  We assume that there is no difference between\n",
    "#  the population mean, and a value of 110.\"\n",
    "#\n",
    "#  Thus, we are considering the \"=\" case.  We are testing whether or not the data\n",
    "#  supports the null hypothesis that \"mu=110\".\n",
    "#\n",
    "#  Extreme values would correspond to sample means that are EITHER much larger than\n",
    "#  110, or much smaller than 110.\n",
    "\n",
    "mu = 110\n",
    "\n",
    "# Step 3:  Test statistic\n",
    "# Since the value of sigma is unknown, and we are interested in the mean of the \n",
    "# distribution, we choose the t-statistic.\n",
    "\n",
    "alpha = 0.05\n",
    "\n",
    "tvalue = (xbar-mu)/sem\n",
    "\n",
    "print (\"Expected population mean = %0.2f\" % mu)\n",
    "print (\"Mean Value from data = %0.2f\" % xbar)\n",
    "print (\"Standard Error in the mean = %0.2f\" %sem)\n",
    "print (\"T value from data = %0.2f\" %tvalue)\n",
    "\n",
    "# Step 4: Calculate the critical t-values, and the p-value.\n",
    "tdist = stats.t(df)\n",
    "tlow = tdist.ppf(alpha/2.0)\n",
    "thigh = tdist.ppf(1-alpha/2.0)\n",
    "\n",
    "print (\"Critical T values = %0.2f, %0.2f\" % (tlow,thigh))\n",
    "\n",
    "# NOTE:  We have to multiply by two in this base (\"=\"), because we have to take\n",
    "#        into account the upper tail as well as the lower tail.\n",
    "#\n",
    "pvalue = 2.0*tdist.cdf(-np.abs(tvalue))\n",
    "\n",
    "print (\"P value = %0.3f\" % pvalue)\n",
    "\n",
    "# Step 5:  Conclusion\n",
    "#\n",
    "# a) Since the t-value from the data (-1.84) falls between the two limits from the\n",
    "#    t-distribution (-2.26 to 2.26), we conclude that the data is consistent with\n",
    "#    a population mean of 110, and we FAIL TO REJECT THE NULL HYPOTHESIS.\n",
    "# b) Since the p-value is GREATER THAN alpha, we fail to reject the null hypothesis."
   ]
  },
  {
   "cell_type": "code",
   "execution_count": 12,
   "metadata": {},
   "outputs": [
    {
     "data": {
      "text/plain": [
       "<matplotlib.legend.Legend at 0x7f50570eb5f8>"
      ]
     },
     "execution_count": 12,
     "metadata": {},
     "output_type": "execute_result"
    },
    {
     "data": {
      "image/png": "[encoded data removed]",
      "text/plain": [
       "<Figure size 432x288 with 1 Axes>"
      ]
     },
     "metadata": {
      "needs_background": "light"
     },
     "output_type": "display_data"
    }
   ],
   "source": [
    "# Let's get a picture of what's going on here ....\n",
    "x = np.linspace(stats.t.ppf(0.001,df),stats.t.ppf(.999,df),100)\n",
    "td = stats.t.pdf(x,df)\n",
    "\n",
    "stat_line_x = np.array([tvalue,tvalue])\n",
    "stat_line_y = np.array([0,stats.t.pdf(tvalue,df)])\n",
    "\n",
    "upper_line_x = np.array([thigh,thigh])\n",
    "upper_line_y = np.array([0,stats.t.pdf(thigh,df)])\n",
    "\n",
    "lower_line_x = np.array([tlow,tlow])\n",
    "lower_line_y = np.array([0,stats.t.pdf(tlow,df)])\n",
    "\n",
    "plt.plot(x,td)\n",
    "plt.plot(stat_line_x,stat_line_y,label=\"Experimental Value\")\n",
    "plt.plot(upper_line_x,upper_line_y,label=\"T Upper Limit\")\n",
    "plt.plot(lower_line_x,lower_line_y,label=\"T Lower Limit\")\n",
    "plt.legend()"
   ]
  },
  {
   "cell_type": "markdown",
   "metadata": {},
   "source": [
    "Another way to assess/analyze this data is to ask a slightly different question.  Above, we answered the question, \"Is the data consistent with mu = 110?\", and the answer to that question was \"We cannot say that it is not.\"  Another question that we could ask is - \"What range of mu values is the data consistent with?\"  That is, we could calculate a CONFIDENCE INTERVAL, which would represent the precise answer to this question.  In many senses, this is a more useful way to analyze the data."
   ]
  },
  {
   "cell_type": "code",
   "execution_count": 6,
   "metadata": {},
   "outputs": [
    {
     "name": "stdout",
     "output_type": "stream",
     "text": [
      "95 Percent Confidence Interval = (81.251,112.989)\n",
      "The data is consistent with any value of mu between 81.251 and 112.989, at the 95 Percent confidence level.\n",
      "T-value = -1.836, P-value = 0.100\n",
      "T-value = 2.262, P-value = 0.050\n",
      "T-value = -2.262, P-value = 0.050\n"
     ]
    }
   ],
   "source": [
    "cl = 1 - alpha\n",
    "c_interval = stats.t.interval(cl,df,loc=xbar,scale=sem)\n",
    "\n",
    "print (\"95 Percent Confidence Interval = (%0.3f,%0.3f)\" % c_interval)\n",
    "print (\"The data is consistent with any value of mu between %0.3f and %0.3f, at the 95 Percent confidence level.\" % c_interval)\n",
    "\n",
    "# The stats package has some cool built-in functions to get the pValue for a single sample t-test quickly!!!!\n",
    "# The two parameters passed to this function are (a) the original data array, and (b) the value of mu to test.\n",
    "# The function assumes a TWO-TAILED test (i.e. the \"=\" case).\n",
    "\n",
    "t, pVal = stats.ttest_1samp(scores,mu)\n",
    "print (\"T-value = %0.3f, P-value = %0.3f\" % (t,pVal))\n",
    "\n",
    "t, pVal = stats.ttest_1samp(scores,c_interval[0])\n",
    "print (\"T-value = %0.3f, P-value = %0.3f\" % (t,pVal))\n",
    "\n",
    "t, pVal = stats.ttest_1samp(scores,c_interval[1])\n",
    "print (\"T-value = %0.3f, P-value = %0.3f\" % (t,pVal))"
   ]
  },
  {
   "cell_type": "markdown",
   "metadata": {},
   "source": [
    "# Example 2 - Comparing the Sample Mean to a Predicted Population Mean - \"<\" Case."
   ]
  },
  {
   "cell_type": "code",
   "execution_count": 7,
   "metadata": {},
   "outputs": [
    {
     "name": "stdout",
     "output_type": "stream",
     "text": [
      "Expected population mean = 27.00\n",
      "Mean Value from data = 25.42\n",
      "Standard Error in the mean = 0.83\n",
      "T value from data = -1.91\n",
      "Critical T value = -1.83\n",
      "P value = 0.044\n"
     ]
    }
   ],
   "source": [
    "# Step 1:  Collect data\n",
    "\n",
    "mpg = np.array([22.4,26.2,28.7,23.7,25.6,27.7,27.2,27.3,20.3,25.1])\n",
    "\n",
    "xbar = mpg.mean()\n",
    "sem = stats.sem(mpg)\n",
    "df = len(mpg)-1\n",
    "\n",
    "# Step 2:  Null hypothesis\n",
    "# \"The expected value of mu is 27 mpg  We assume that the actual population is NOT LESS THAN 27 mpg.\"\n",
    "#\n",
    "#  Thus, we are considering the \"<\" case.  We are testing whether or not the data\n",
    "#  supports the null hypothesis that \"mu >= 27 mpg\".\n",
    "#\n",
    "#  Extreme values would correspond to sample means that are much smaller than 27.\n",
    "\n",
    "mu = 27\n",
    "\n",
    "# Step 3:  Test statistic\n",
    "# Since the value of sigma is unknown, and we are interested in the mean of the \n",
    "# distribution, we choose the t-statistic.\n",
    "\n",
    "alpha = 0.05\n",
    "\n",
    "tvalue = (xbar-mu)/sem\n",
    "\n",
    "print (\"Expected population mean = %0.2f\" % mu)\n",
    "print (\"Mean Value from data = %0.2f\" % xbar)\n",
    "print (\"Standard Error in the mean = %0.2f\" %sem)\n",
    "print (\"T value from data = %0.2f\" %tvalue)\n",
    "\n",
    "# Step 4: Calculate the critical t-values, and the p-value.\n",
    "tdist = stats.t(df)\n",
    "tlow = tdist.ppf(alpha)\n",
    "\n",
    "print (\"Critical T value = %0.2f\" % (tlow))\n",
    "\n",
    "pvalue = tdist.cdf(-np.abs(tvalue))\n",
    "\n",
    "print (\"P value = %0.3f\" % pvalue)\n",
    "\n",
    "# Step 5:  Conclusion\n",
    "#\n",
    "# a) Since the t-value from the data (-1.91) falls below the limit from the\n",
    "#    t-distribution (-1.83), we conclude that the data is NOT consistent with\n",
    "#    a population mean >= 27mpg, and we REJECT THE NULL HYPOTHESIS.\n",
    "# b) Since the p-value is LESS THAN alpha, we reject the null hypothesis."
   ]
  },
  {
   "cell_type": "code",
   "execution_count": 11,
   "metadata": {},
   "outputs": [
    {
     "data": {
      "text/plain": [
       "<matplotlib.legend.Legend at 0x7f5057175470>"
      ]
     },
     "execution_count": 11,
     "metadata": {},
     "output_type": "execute_result"
    },
    {
     "data": {
      "image/png": "[encoded data removed]",
      "text/plain": [
       "<Figure size 432x288 with 1 Axes>"
      ]
     },
     "metadata": {
      "needs_background": "light"
     },
     "output_type": "display_data"
    }
   ],
   "source": [
    "# Let's get a picture of what's going on here ....\n",
    "\n",
    "x = np.linspace(stats.t.ppf(0.001,df),stats.t.ppf(.999,df),100)\n",
    "td = stats.t.pdf(x,df)\n",
    "\n",
    "stat_line_x = np.array([tvalue,tvalue])\n",
    "stat_line_y = np.array([0,stats.t.pdf(tvalue,df)])\n",
    "\n",
    "lower_line_x = np.array([tlow,tlow])\n",
    "lower_line_y = np.array([0,stats.t.pdf(tlow,df)])\n",
    "\n",
    "plt.plot(x,td)\n",
    "plt.plot(stat_line_x,stat_line_y,label=\"Experimental Value\")\n",
    "plt.plot(lower_line_x,lower_line_y,label=\"T Limit\")\n",
    "plt.legend()"
   ]
  },
  {
   "cell_type": "code",
   "execution_count": null,
   "metadata": {},
   "outputs": [],
   "source": [
    "cl = 1 - 2*alpha\n",
    "c_interval = stats.t.interval(cl,df,loc=xbar,scale=sem)\n",
    "\n",
    "print (\"95 Percent Confidence Limit = (%0.3f)\" % c_interval[1])\n",
    "print (\"For any value of mu greater than %0.3f, we reject the null hypothesis, at the 95 Percent confidence level.\" % c_interval[1])"
   ]
  },
  {
   "cell_type": "code",
   "execution_count": null,
   "metadata": {},
   "outputs": [],
   "source": [
    "# The stats package has some cool built-in functions to get the pValue for a single sample t-test quickly!!!!\n",
    "# The two parameters passed to this function are (a) the original data array, and (b) the value of mu to test.\n",
    "# The function assumes a TWO-TAILED test (i.e. the \"=\" case), so here we have to divide the p-value by 2.\n",
    "\n",
    "t, pVal = stats.ttest_1samp(mpg,mu)\n",
    "print (\"T-value = %0.3f, P-value = %0.3f\" % (t,pVal/2.0))\n",
    "\n",
    "t, pVal = stats.ttest_1samp(mpg,c_interval[0])\n",
    "print (\"T-value = %0.3f, P-value = %0.3f\" % (t,pVal/2.0))\n",
    "\n",
    "t, pVal = stats.ttest_1samp(mpg,c_interval[1])\n",
    "print (\"T-value = %0.3f, P-value = %0.3f\" % (t,pVal/2.0))"
   ]
  },
  {
   "cell_type": "code",
   "execution_count": null,
   "metadata": {},
   "outputs": [],
   "source": []
  }
 ],
 "metadata": {
  "kernelspec": {
   "display_name": "Python 3",
   "language": "python",
   "name": "python3"
  },
  "language_info": {
   "codemirror_mode": {
    "name": "ipython",
    "version": 3
   },
   "file_extension": ".py",
   "mimetype": "text/x-python",
   "name": "python",
   "nbconvert_exporter": "python",
   "pygments_lexer": "ipython3",
   "version": "3.6.8"
  }
 },
 "nbformat": 4,
 "nbformat_minor": 2
}
