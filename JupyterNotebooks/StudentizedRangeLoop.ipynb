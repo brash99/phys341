{
 "cells": [
  {
   "cell_type": "code",
   "execution_count": 4,
   "metadata": {},
   "outputs": [],
   "source": [
    "import numpy as np\n",
    "import matplotlib.pyplot as plt\n",
    "import scipy.stats as stats \n",
    "from scipy.special import gamma"
   ]
  },
  {
   "cell_type": "code",
   "execution_count": null,
   "metadata": {},
   "outputs": [],
   "source": []
  },
  {
   "cell_type": "code",
   "execution_count": 5,
   "metadata": {},
   "outputs": [],
   "source": [
    "def q_tukey(k, v, alpha):\n",
    "\n",
    "    qarray = []\n",
    "    for k in range(2,k+1):\n",
    "        print (\"q_tukey: calculating k = \",k)\n",
    "\n",
    "        dq = 0.003\n",
    "        qd = np.array(np.arange(0.000,6.000,dq))\n",
    "\n",
    "        f = []\n",
    "        fs = []\n",
    "        found = False\n",
    "\n",
    "        for i in range(len(qd)):\n",
    "            q = qd[i]\n",
    "            prefactor = np.sqrt(2.0*np.pi)*k*(k-1)*v**(v/2.0)/(gamma(v/2.0)*2**(v/2.0-1))\n",
    "            npts = 100\n",
    "\n",
    "            xh = 6.0\n",
    "            xl = 0.0\n",
    "            dx = (xh-xl)/npts\n",
    "\n",
    "            # Loop over x to integrate\n",
    "            xsum = 0.0\n",
    "            for x in np.arange(xl,xh,dx):\n",
    "                phi_x = stats.norm.pdf(np.sqrt(v)*x)\n",
    "    \n",
    "                ul = -6.0\n",
    "                uh = 6.0\n",
    "                du = (uh-ul)/npts\n",
    "            \n",
    "                u = np.arange(ul,uh,du)\n",
    "                phi_u = stats.norm.pdf(u)\n",
    "                phi_ux = stats.norm.pdf(u-q*x)\n",
    "                Phi_u = stats.norm.cdf(u)\n",
    "                Phi_ux = stats.norm.cdf(u-q*x)\n",
    "                integrand = phi_u*phi_ux*(Phi_u-Phi_ux)**(k-2)*du\n",
    "                #print(u,phi_u,phi_ux,Phi_u,Phi_ux,integrand)\n",
    "        \n",
    "                sumu = integrand.sum()\n",
    "        \n",
    "                #print(x,sumu)\n",
    "        \n",
    "                integrand2 = x**v*phi_x*sumu*dx\n",
    "                xsum += integrand2\n",
    "\n",
    "            f.append(xsum*prefactor)\n",
    "            if (i>0):\n",
    "                fs.append(f[i]*dq+fs[i-1])\n",
    "            else:\n",
    "                fs.append(f[i]*dq)\n",
    "\n",
    "            if (fs[i]>(1-alpha) and not(found)):\n",
    "                q_critical = qd[i-1] + ((1-alpha)-fs[i-1])*(qd[i]-qd[i-1])/(fs[i]-fs[i-1])\n",
    "                print (\"q_critical = \",q_critical)\n",
    "                found = True\n",
    "        \n",
    "            #print(q,f[i],fs[i])\n",
    "        qarray.append(q_critical)\n",
    "    \n",
    "        f = np.array(f)\n",
    "        fs = np.array(fs)\n",
    "        #plt.plot(qd,fs)\n",
    "\n",
    "    qarray=np.array(qarray)\n",
    "    return qarray"
   ]
  },
  {
   "cell_type": "code",
   "execution_count": 6,
   "metadata": {},
   "outputs": [
    {
     "name": "stdout",
     "output_type": "stream",
     "text": [
      "q_tukey: calculating k =  2\n",
      "q_critical =  2.4710499439730076\n",
      "q_tukey: calculating k =  3\n",
      "q_critical =  3.138197660672798\n",
      "q_tukey: calculating k =  4\n",
      "q_critical =  3.5383922552786626\n",
      "q_tukey: calculating k =  5\n",
      "q_critical =  3.82602217179877\n",
      "q_tukey: calculating k =  6\n",
      "q_critical =  4.050156295389546\n",
      "q_tukey: calculating k =  7\n",
      "q_critical =  4.23343842075122\n",
      "[2.47104994 3.13819766 3.53839226 3.82602217 4.0501563  4.23343842]\n"
     ]
    }
   ],
   "source": [
    "alpha = 0.1\n",
    "\n",
    "k = 7\n",
    "v = 15\n",
    "\n",
    "qarray = q_tukey(k, v, alpha)\n",
    "\n",
    "print (qarray)"
   ]
  },
  {
   "cell_type": "code",
   "execution_count": null,
   "metadata": {},
   "outputs": [],
   "source": []
  },
  {
   "cell_type": "code",
   "execution_count": null,
   "metadata": {},
   "outputs": [],
   "source": []
  }
 ],
 "metadata": {
  "kernelspec": {
   "display_name": "Python 3",
   "language": "python",
   "name": "python3"
  },
  "language_info": {
   "codemirror_mode": {
    "name": "ipython",
    "version": 3
   },
   "file_extension": ".py",
   "mimetype": "text/x-python",
   "name": "python",
   "nbconvert_exporter": "python",
   "pygments_lexer": "ipython3",
   "version": "3.6.8"
  }
 },
 "nbformat": 4,
 "nbformat_minor": 2
}
