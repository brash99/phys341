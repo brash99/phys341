{
 "cells": [
  {
   "cell_type": "markdown",
   "metadata": {},
   "source": [
    "# Categorical Data\n",
    "\n",
    "Within the general set of data known as numerical data, we have seen both continuous and discreet data sets.\n",
    "\n",
    "Examples of continuous data:  temperature, pressure, position, speed, weight, etc.\n",
    "\n",
    "Examples of discreet data:  number appearing on a die, age in years, etc.\n",
    "\n",
    "However, there exists a LOT of data that in fact are not numerical.  These are known as CATEGORICAL data.  \n",
    "\n",
    "Examples of categorical data:  hair color, handedness, house style, country of birth, etc.\n",
    "\n",
    "We would like to investigate some of the methods that can be used to analyze categorical data.  These turn out to be quite useful in machine learning, neural network, and other AI applications."
   ]
  },
  {
   "cell_type": "markdown",
   "metadata": {},
   "source": [
    "### Confidence Intervals in one-proportion data\n",
    "\n",
    "Suppose that we have one sample of N data points which represents some sort of categorical data.  For example, it could be something like house style data, where there are 1000 houses that have been divided into 4 categories - condominium, townhouse, duplex, single family home.\n",
    "\n",
    "One question might be:  does the data sample represent what we expect for the population?\n",
    "\n",
    "For EACH category, we can think of a probabilty, $p$, that describes the expected probability for that category,an presumably we know what this probability is.  The occurrence of this characteristic in the data sample will then be described by a binomial distribution!\n",
    "\n",
    "Recall that for the binomial distribution, we have that:\n",
    "\n",
    "$\\mu = p \\cdot N$\n",
    "\n",
    "$SEM = \\sigma = \\sqrt{Np(1-p)}$\n",
    "\n",
    "And thus, the 95% confidence interval will be given by:\n",
    "\n",
    "$CI = \\mu \\pm SEM\\cdot t_{N-1,0.025}$"
   ]
  },
  {
   "cell_type": "markdown",
   "metadata": {},
   "source": [
    "# Example 1 - Breast Cancer Rates\n",
    "\n",
    "Question:  How many female students would one expect to develop breast cancer each year, at CNU?  How many of these women would one expect to die from breast cancer in their lifetime?\n",
    "\n",
    "There are about 5000 students at CNU, about half of whom are women.  So, N = 2500.  The incidence of breast cancer for women in the 18-30 age range is approximately 10 in 100,000 per year.  The mortality rate for breast cancer is approximately 3.8% in their lifetime (btw, I find this number shockingly high)."
   ]
  },
  {
   "cell_type": "code",
   "execution_count": 10,
   "metadata": {},
   "outputs": [
    {
     "name": "stdout",
     "output_type": "stream",
     "text": [
      "0.49997499937496875 9.559811713627\n",
      "0.25 95.0\n",
      "Incidence: (-0.73,1.23)      Death: (76.25,113.75)\n",
      "Conclusions: we expect zero or 1 women to die each year at CNU from breast cancer. Of the 2500 female\n",
      "             students currently enrolled at CNU, we expect 76-114 of them to eventually die from this\n",
      "             disease.  Again, this is a shockingly high number, in my opinion.\n"
     ]
    }
   ],
   "source": [
    "import numpy as np\n",
    "import scipy.stats as stats\n",
    "\n",
    "pi = 10.0/100000.0\n",
    "pd = 3.8/100.0\n",
    "N = 2500\n",
    "\n",
    "SEM_i = np.sqrt(N*pi*(1-pi))\n",
    "SEM_d = np.sqrt(N*pd*(1-pd))\n",
    "\n",
    "print (SEM_i,SEM_d)\n",
    "\n",
    "alpha = 0.05\n",
    "\n",
    "tdist = stats.t(N-1)\n",
    "t_critical = tdist.ppf(1-alpha/2)\n",
    "\n",
    "mu_i = pi*N\n",
    "mu_d = pd*N\n",
    "\n",
    "print (mu_i,mu_d)\n",
    "\n",
    "mu_i_low = mu_i - SEM_i*t_critical\n",
    "mu_i_high = mu_i + SEM_i*t_critical\n",
    "\n",
    "mu_d_low = mu_d - SEM_d*t_critical\n",
    "mu_d_high = mu_d + SEM_d*t_critical\n",
    "\n",
    "print (\"Incidence: (%0.2f,%0.2f)      Death: (%0.2f,%0.2f)\" % (mu_i_low,mu_i_high,mu_d_low,mu_d_high))\n",
    "\n",
    "print (\"Conclusions: we expect zero or 1 women to die each year at CNU from breast cancer. Of the 2500 female\")\n",
    "print (\"             students currently enrolled at CNU, we expect 76-114 of them to eventually die from this\")\n",
    "print (\"             disease.  Again, this is a shockingly high number, in my opinion.\")"
   ]
  },
  {
   "cell_type": "markdown",
   "metadata": {},
   "source": [
    "# Example 2 - One Way $\\chi^2$ Test\n",
    "\n",
    "If the data can be organized into a set of categories, then the total number of samples in each category are known as $frequencies$.  I find this terminology to be a bit confusing, because it is nothing like what a physicist would call a frequency!\n",
    "\n",
    "In any case, the point of the analysis is to compare the number of samples in each category to what we would expect, based on some model.\n",
    "\n",
    "Let's suppose that you record the number of times that a person has to do the dishes, in an apartment that houses six people.  Ideally, you would expect as a matter of fairness that everyone would contribute equally, and so the model would be a uniform distribution.  If you recorded who did the dishes for a certain number of days, then you would expect that:\n",
    "\n",
    "$N_i = \\frac{N_{days}}{N_{people}}$ for all $i$.\n",
    "\n",
    "We can calculate the total deviation of the sample data from the expected data using:\n",
    "\n",
    "$SS_{total} = \\sum_i {\\frac{(o_i - e_i)^2}{e_i}}$\n",
    "\n",
    "$SS_{total}$ should follow a $\\chi^2$ distribution, where the number of degrees of freedom is the total number of data points."
   ]
  },
  {
   "cell_type": "code",
   "execution_count": 48,
   "metadata": {},
   "outputs": [
    {
     "name": "stdout",
     "output_type": "stream",
     "text": [
      "SS_total =  5.363636363636364  Probability of random chance distribution =  0.37313038594870584\n",
      "SS_expected =  0.0  Probability of random chance distribution =  1.0\n",
      "SS_rare =  165.0  Probability of random chance distribution =  8.503975940427937e-34\n"
     ]
    }
   ],
   "source": [
    "N_days = 33\n",
    "N_people = 6\n",
    "names = ['Atka','Javier','Hans','Aoiffe','Jamal','Marie']\n",
    "times = np.array([10,6,5,4,5,3])\n",
    "\n",
    "e = np.array([(N_days/N_people) for i in range(len(names))])\n",
    "\n",
    "# What is the likelihood that Atka is being treated unfairly?\n",
    "\n",
    "SS_total, p = stats.chisquare(times)\n",
    "print (\"SS_total = \",SS_total,\" Probability of random chance distribution = \",p)\n",
    "\n",
    "SS_e, p_e = stats.chisquare(e)\n",
    "print (\"SS_expected = \",SS_e,\" Probability of random chance distribution = \",p_e)\n",
    "\n",
    "times2 = np.array([33,0,0,0,0,0])\n",
    "\n",
    "SS_rare, p_rare = stats.chisquare(times2)\n",
    "print (\"SS_rare = \",SS_rare,\" Probability of random chance distribution = \",p_rare)"
   ]
  },
  {
   "cell_type": "code",
   "execution_count": null,
   "metadata": {},
   "outputs": [],
   "source": []
  }
 ],
 "metadata": {
  "kernelspec": {
   "display_name": "Python 3",
   "language": "python",
   "name": "python3"
  },
  "language_info": {
   "codemirror_mode": {
    "name": "ipython",
    "version": 3
   },
   "file_extension": ".py",
   "mimetype": "text/x-python",
   "name": "python",
   "nbconvert_exporter": "python",
   "pygments_lexer": "ipython3",
   "version": "3.6.8"
  }
 },
 "nbformat": 4,
 "nbformat_minor": 2
}
