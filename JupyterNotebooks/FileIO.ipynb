{
  "nbformat": 4,
  "nbformat_minor": 0,
  "metadata": {
    "kernelspec": {
      "display_name": "Python 3",
      "language": "python",
      "name": "python3"
    },
    "language_info": {
      "codemirror_mode": {
        "name": "ipython",
        "version": 3
      },
      "file_extension": ".py",
      "mimetype": "text/x-python",
      "name": "python",
      "nbconvert_exporter": "python",
      "pygments_lexer": "ipython3",
      "version": "3.6.8"
    },
    "colab": {
      "name": "FileIO.ipynb",
      "provenance": []
    }
  },
  "cells": [
    {
      "cell_type": "markdown",
      "metadata": {
        "id": "_LeMVKCC9DS_",
        "colab_type": "text"
      },
      "source": [
        "In this notebook, we will cover some of the basic aspects of getting data from external sources (flat files, Excel spreadsheets).\n",
        "\n",
        "We will use the pandas package to accomplish these tasks.  There are other (perhaps simpler) methods within Python, but as the DataFrame object of pandas has so many nice features, we will jump right ahead to using pandas for getting input data."
      ]
    },
    {
      "cell_type": "code",
      "metadata": {
        "id": "CVeDGZ-w9DTB",
        "colab_type": "code",
        "colab": {}
      },
      "source": [
        "# Let's start with getting data from a local flat text file.\n",
        "#\n",
        "# We begin with some basic ideas about local file system storage.\n",
        "\n",
        "import pandas as pd"
      ],
      "execution_count": 1,
      "outputs": []
    },
    {
      "cell_type": "code",
      "metadata": {
        "id": "EijMqio-9DTN",
        "colab_type": "code",
        "colab": {}
      },
      "source": [
        ""
      ],
      "execution_count": 1,
      "outputs": []
    },
    {
      "cell_type": "code",
      "metadata": {
        "id": "iW3MxD_f9DTU",
        "colab_type": "code",
        "colab": {
          "base_uri": "https://localhost:8080/",
          "height": 173
        },
        "outputId": "54e0fef1-9def-4736-f3e9-cd210c1df937"
      },
      "source": [
        "# Note:  Pandas read_csv method assumes that the first line in the data file will be\n",
        "# a header line that contains the names of each column.  If we do not have that, we \n",
        "# have to specify it explicitly.\n",
        "\n",
        "url = 'https://raw.githubusercontent.com/brash99/phys341/master/JupyterNotebooks/data.txt'\n",
        "\n",
        "df = pd.read_csv(url, header=None)\n",
        "df.head()"
      ],
      "execution_count": 2,
      "outputs": [
        {
          "output_type": "execute_result",
          "data": {
            "text/html": [
              "<div>\n",
              "<style scoped>\n",
              "    .dataframe tbody tr th:only-of-type {\n",
              "        vertical-align: middle;\n",
              "    }\n",
              "\n",
              "    .dataframe tbody tr th {\n",
              "        vertical-align: top;\n",
              "    }\n",
              "\n",
              "    .dataframe thead th {\n",
              "        text-align: right;\n",
              "    }\n",
              "</style>\n",
              "<table border=\"1\" class=\"dataframe\">\n",
              "  <thead>\n",
              "    <tr style=\"text-align: right;\">\n",
              "      <th></th>\n",
              "      <th>0</th>\n",
              "      <th>1</th>\n",
              "      <th>2</th>\n",
              "    </tr>\n",
              "  </thead>\n",
              "  <tbody>\n",
              "    <tr>\n",
              "      <th>0</th>\n",
              "      <td>1</td>\n",
              "      <td>1.3</td>\n",
              "      <td>0.6</td>\n",
              "    </tr>\n",
              "    <tr>\n",
              "      <th>1</th>\n",
              "      <td>2</td>\n",
              "      <td>2.1</td>\n",
              "      <td>0.7</td>\n",
              "    </tr>\n",
              "    <tr>\n",
              "      <th>2</th>\n",
              "      <td>3</td>\n",
              "      <td>4.8</td>\n",
              "      <td>0.8</td>\n",
              "    </tr>\n",
              "    <tr>\n",
              "      <th>3</th>\n",
              "      <td>4</td>\n",
              "      <td>3.3</td>\n",
              "      <td>0.9</td>\n",
              "    </tr>\n",
              "  </tbody>\n",
              "</table>\n",
              "</div>"
            ],
            "text/plain": [
              "   0    1    2\n",
              "0  1  1.3  0.6\n",
              "1  2  2.1  0.7\n",
              "2  3  4.8  0.8\n",
              "3  4  3.3  0.9"
            ]
          },
          "metadata": {
            "tags": []
          },
          "execution_count": 2
        }
      ]
    },
    {
      "cell_type": "code",
      "metadata": {
        "id": "PK8CcMzR9DTb",
        "colab_type": "code",
        "colab": {
          "base_uri": "https://localhost:8080/",
          "height": 34
        },
        "outputId": "19231b6c-51e7-4d98-bf7c-200a7f7612f5"
      },
      "source": [
        "# The problem here is that nobody has any idea what this data actually means!!!!\n",
        "# \n",
        "# Let's look at a nicer documented data file that actually contains a header line.\n",
        "#"
      ],
      "execution_count": 3,
      "outputs": [
        {
          "output_type": "stream",
          "text": [
            "cat: data_header.txt: No such file or directory\n"
          ],
          "name": "stdout"
        }
      ]
    },
    {
      "cell_type": "code",
      "metadata": {
        "id": "CTIM0eyq9DTf",
        "colab_type": "code",
        "colab": {
          "base_uri": "https://localhost:8080/",
          "height": 173
        },
        "outputId": "5e892208-fd05-4f24-ebf6-854b450748cd"
      },
      "source": [
        "url = 'https://raw.githubusercontent.com/brash99/phys341/master/JupyterNotebooks/data_header.txt'\n",
        "df = pd.read_csv(url)\n",
        "df.head()"
      ],
      "execution_count": 5,
      "outputs": [
        {
          "output_type": "execute_result",
          "data": {
            "text/html": [
              "<div>\n",
              "<style scoped>\n",
              "    .dataframe tbody tr th:only-of-type {\n",
              "        vertical-align: middle;\n",
              "    }\n",
              "\n",
              "    .dataframe tbody tr th {\n",
              "        vertical-align: top;\n",
              "    }\n",
              "\n",
              "    .dataframe thead th {\n",
              "        text-align: right;\n",
              "    }\n",
              "</style>\n",
              "<table border=\"1\" class=\"dataframe\">\n",
              "  <thead>\n",
              "    <tr style=\"text-align: right;\">\n",
              "      <th></th>\n",
              "      <th>Time</th>\n",
              "      <th>Distance</th>\n",
              "      <th>Error</th>\n",
              "    </tr>\n",
              "  </thead>\n",
              "  <tbody>\n",
              "    <tr>\n",
              "      <th>0</th>\n",
              "      <td>1</td>\n",
              "      <td>1.3</td>\n",
              "      <td>0.6</td>\n",
              "    </tr>\n",
              "    <tr>\n",
              "      <th>1</th>\n",
              "      <td>2</td>\n",
              "      <td>2.1</td>\n",
              "      <td>0.7</td>\n",
              "    </tr>\n",
              "    <tr>\n",
              "      <th>2</th>\n",
              "      <td>3</td>\n",
              "      <td>4.8</td>\n",
              "      <td>0.8</td>\n",
              "    </tr>\n",
              "    <tr>\n",
              "      <th>3</th>\n",
              "      <td>4</td>\n",
              "      <td>3.3</td>\n",
              "      <td>0.9</td>\n",
              "    </tr>\n",
              "  </tbody>\n",
              "</table>\n",
              "</div>"
            ],
            "text/plain": [
              "   Time  Distance  Error\n",
              "0     1       1.3    0.6\n",
              "1     2       2.1    0.7\n",
              "2     3       4.8    0.8\n",
              "3     4       3.3    0.9"
            ]
          },
          "metadata": {
            "tags": []
          },
          "execution_count": 5
        }
      ]
    },
    {
      "cell_type": "code",
      "metadata": {
        "id": "wfft-7ZJ9DTk",
        "colab_type": "code",
        "colab": {}
      },
      "source": [
        "# Pandas also does a nice thing which is to give us access to each column by name\n",
        "print (df.Time)\n",
        "print (df.Distance)\n",
        "print (df.Error)\n",
        "\n",
        "# We can also calculate new quantities from the raw data, and add these to the dataframe easily!\n",
        "averageSpeed = df.Distance/df.Time\n",
        "df['AverageSpeed'] = averageSpeed\n",
        "df.head()"
      ],
      "execution_count": null,
      "outputs": []
    },
    {
      "cell_type": "code",
      "metadata": {
        "id": "Nu464v-K9DTn",
        "colab_type": "code",
        "colab": {
          "base_uri": "https://localhost:8080/",
          "height": 173
        },
        "outputId": "6aa9f51a-d8c5-41ba-8aaf-211e52a32236"
      },
      "source": [
        "# Now, let's try reading data from an Excel spreadsheet!!!  A ton of publicly available data is provided\n",
        "# in this format.\n",
        "\n",
        "# We will use the Pandas method called ExcelFile\n",
        "\n",
        "url = 'https://raw.githubusercontent.com/brash99/phys341/master/JupyterNotebooks/data_excel.xlsx'\n",
        "xls = pd.ExcelFile(url) \n",
        "data = xls.parse('Sheet1', index_col=None, na_values=['NA'])\n",
        "\n",
        "averageSpeed = data.Distance/df.Time\n",
        "data['AverageSpeed'] = averageSpeed\n",
        "data.head()"
      ],
      "execution_count": 6,
      "outputs": [
        {
          "output_type": "execute_result",
          "data": {
            "text/html": [
              "<div>\n",
              "<style scoped>\n",
              "    .dataframe tbody tr th:only-of-type {\n",
              "        vertical-align: middle;\n",
              "    }\n",
              "\n",
              "    .dataframe tbody tr th {\n",
              "        vertical-align: top;\n",
              "    }\n",
              "\n",
              "    .dataframe thead th {\n",
              "        text-align: right;\n",
              "    }\n",
              "</style>\n",
              "<table border=\"1\" class=\"dataframe\">\n",
              "  <thead>\n",
              "    <tr style=\"text-align: right;\">\n",
              "      <th></th>\n",
              "      <th>Time</th>\n",
              "      <th>Distance</th>\n",
              "      <th>Error</th>\n",
              "      <th>AverageSpeed</th>\n",
              "    </tr>\n",
              "  </thead>\n",
              "  <tbody>\n",
              "    <tr>\n",
              "      <th>0</th>\n",
              "      <td>1</td>\n",
              "      <td>1.3</td>\n",
              "      <td>0.6</td>\n",
              "      <td>1.300</td>\n",
              "    </tr>\n",
              "    <tr>\n",
              "      <th>1</th>\n",
              "      <td>2</td>\n",
              "      <td>2.1</td>\n",
              "      <td>0.7</td>\n",
              "      <td>1.050</td>\n",
              "    </tr>\n",
              "    <tr>\n",
              "      <th>2</th>\n",
              "      <td>3</td>\n",
              "      <td>4.8</td>\n",
              "      <td>0.8</td>\n",
              "      <td>1.600</td>\n",
              "    </tr>\n",
              "    <tr>\n",
              "      <th>3</th>\n",
              "      <td>4</td>\n",
              "      <td>3.3</td>\n",
              "      <td>0.9</td>\n",
              "      <td>0.825</td>\n",
              "    </tr>\n",
              "  </tbody>\n",
              "</table>\n",
              "</div>"
            ],
            "text/plain": [
              "   Time  Distance  Error  AverageSpeed\n",
              "0     1       1.3    0.6         1.300\n",
              "1     2       2.1    0.7         1.050\n",
              "2     3       4.8    0.8         1.600\n",
              "3     4       3.3    0.9         0.825"
            ]
          },
          "metadata": {
            "tags": []
          },
          "execution_count": 6
        }
      ]
    },
    {
      "cell_type": "code",
      "metadata": {
        "id": "rhl-5CI59DTr",
        "colab_type": "code",
        "colab": {}
      },
      "source": [
        ""
      ],
      "execution_count": null,
      "outputs": []
    }
  ]
}