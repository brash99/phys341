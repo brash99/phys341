{
 "cells": [
  {
   "cell_type": "markdown",
   "metadata": {},
   "source": [
    "# Multiple Testing"
   ]
  },
  {
   "cell_type": "code",
   "execution_count": 1,
   "metadata": {},
   "outputs": [],
   "source": [
    "# Import standard packages\n",
    "import numpy as np\n",
    "import matplotlib.pyplot as plt\n",
    "from scipy import stats\n",
    "import pandas as pd"
   ]
  },
  {
   "cell_type": "code",
   "execution_count": 2,
   "metadata": {},
   "outputs": [],
   "source": [
    "from statsmodels.stats.multicomp import (pairwise_tukeyhsd,\n",
    "                                         MultiComparison)\n",
    "from statsmodels.formula.api import ols\n",
    "from statsmodels.stats.anova import anova_lm\n",
    "from statsmodels.stats.libqsturng import psturng"
   ]
  },
  {
   "cell_type": "code",
   "execution_count": 3,
   "metadata": {},
   "outputs": [],
   "source": [
    "def setData():\n",
    "    ''' Set up the data, as a structured array. '''\n",
    "    \n",
    "    # The first and last field are 32-bit intergers; the second field is an\n",
    "    # 8-byte string. Note that here we can also give names to the individual\n",
    "    # fields!\n",
    "    data = np.rec.array([\n",
    "    (  1,   'mental',  2 ),\n",
    "    (  2,   'mental',  2 ),\n",
    "    (  3,   'mental',  3 ),\n",
    "    (  4,   'mental',  4 ),\n",
    "    (  5,   'mental',  4 ),\n",
    "    (  6,   'mental',  5 ),\n",
    "    (  7,   'mental',  3 ),\n",
    "    (  8,   'mental',  4 ),\n",
    "    (  9,   'mental',  4 ),\n",
    "    ( 10,   'mental',  4 ),\n",
    "    ( 11, 'physical',  4 ),\n",
    "    ( 12, 'physical',  4 ),\n",
    "    ( 13, 'physical',  3 ),\n",
    "    ( 14, 'physical',  5 ),\n",
    "    ( 15, 'physical',  4 ),\n",
    "    ( 16, 'physical',  1 ),\n",
    "    ( 17, 'physical',  1 ),\n",
    "    ( 18, 'physical',  2 ),\n",
    "    ( 19, 'physical',  3 ),\n",
    "    ( 20, 'physical',  3 ),\n",
    "    ( 21,  'medical',  1 ),\n",
    "    ( 22,  'medical',  2 ),\n",
    "    ( 23,  'medical',  2 ),\n",
    "    ( 24,  'medical',  2 ),\n",
    "    ( 25,  'medical',  3 ),\n",
    "    ( 26,  'medical',  2 ),\n",
    "    ( 27,  'medical',  3 ),\n",
    "    ( 28,  'medical',  1 ),\n",
    "    ( 29,  'medical',  3 ),\n",
    "    ( 30,  'medical',  1 )], dtype=[('idx', '<i4'),\n",
    "                                    ('Treatment', '|S8'),\n",
    "                                    ('StressReduction', '<i4')])\n",
    "    return data"
   ]
  },
  {
   "cell_type": "code",
   "execution_count": 4,
   "metadata": {},
   "outputs": [],
   "source": [
    "def doAnova(data):\n",
    "    '''one-way ANOVA'''\n",
    "    \n",
    "    df = pd.DataFrame(data)\n",
    "    model = ols('StressReduction ~ C(Treatment)',df).fit()\n",
    "    \n",
    "    anovaResults =  anova_lm(model)\n",
    "    print(anovaResults)\n",
    "    if anovaResults['PR(>F)'][0] < 0.05:\n",
    "        print('One of the groups is different.')"
   ]
  },
  {
   "cell_type": "code",
   "execution_count": 5,
   "metadata": {},
   "outputs": [],
   "source": [
    "def doTukey(data, multiComp):    \n",
    "    '''Do a pairwise comparison, and show the confidence intervals'''\n",
    "    \n",
    "    print((multiComp.tukeyhsd().summary()))\n",
    "    \n",
    "    # Calculate the p-values:\n",
    "    res2 = pairwise_tukeyhsd(data['StressReduction'], data['Treatment'])\n",
    "    df = pd.DataFrame(data)\n",
    "    numData = len(df)\n",
    "    numTreatments = len(df.Treatment.unique())\n",
    "    dof = numData - numTreatments\n",
    "    \n",
    "    # Show the group names\n",
    "    print((multiComp.groupsunique))\n",
    "    \n",
    "    # Generate a print -------------------\n",
    "    \n",
    "    # Get the data\n",
    "    xvals = np.arange(3)\n",
    "    res2 = pairwise_tukeyhsd(data['StressReduction'], data['Treatment'])\n",
    "    errors = np.ravel(np.diff(res2.confint)/2)\n",
    "    \n",
    "    # Plot them\n",
    "    plt.plot(xvals, res2.meandiffs, 'o')\n",
    "    plt.errorbar(xvals, res2.meandiffs, yerr=errors, fmt='o')\n",
    "    \n",
    "    # Put on labels\n",
    "    pair_labels = multiComp.groupsunique[np.column_stack(res2._multicomp.pairindices)]\n",
    "    plt.xticks(xvals, pair_labels)\n",
    "    \n",
    "    # Format the plot\n",
    "    xlim = -0.5, 2.5\n",
    "    plt.hlines(0, *xlim)\n",
    "    plt.xlim(*xlim)\n",
    "    plt.title('Multiple Comparison of Means - Tukey HSD, FWER=0.05' +\n",
    "              '\\n Pairwise Mean Differences')          \n",
    "    \n",
    "    # Save to outfile, and show the data\n",
    "    #outFile = 'multComp.png'\n",
    "    #showData(outFile)"
   ]
  },
  {
   "cell_type": "code",
   "execution_count": 6,
   "metadata": {},
   "outputs": [
    {
     "name": "stdout",
     "output_type": "stream",
     "text": [
      "                df     sum_sq   mean_sq         F    PR(>F)\n",
      "C(Treatment)   2.0  11.666667  5.833333  5.163934  0.012617\n",
      "Residual      27.0  30.500000  1.129630       NaN       NaN\n",
      "One of the groups is different.\n",
      "    Multiple Comparison of Means - Tukey HSD, FWER=0.05     \n",
      "============================================================\n",
      "  group1      group2   meandiff p-adj   lower  upper  reject\n",
      "------------------------------------------------------------\n",
      "b'medical'   b'mental'      1.5 0.0105  0.3217 2.6783   True\n",
      "b'medical' b'physical'      1.0 0.1079 -0.1783 2.1783  False\n",
      " b'mental' b'physical'     -0.5 0.5498 -1.6783 0.6783  False\n",
      "------------------------------------------------------------\n",
      "[b'medical' b'mental' b'physical']\n"
     ]
    }
   ],
   "source": [
    "# Get the data\n",
    "    data = setData()\n",
    "    \n",
    "    # Do a one-way ANOVA\n",
    "    doAnova(data)\n",
    "    \n",
    "    #Then, do the multiple testing\n",
    "    multiComp = MultiComparison(data['StressReduction'], data['Treatment'])\n",
    "    \n",
    "    doTukey(data, multiComp)    # Tukey's HSD test"
   ]
  },
  {
   "cell_type": "code",
   "execution_count": 7,
   "metadata": {},
   "outputs": [
    {
     "data": {
      "image/png": "[encoded data removed]",
      "text/plain": [
       "<Figure size 432x288 with 1 Axes>"
      ]
     },
     "metadata": {
      "needs_background": "light"
     },
     "output_type": "display_data"
    }
   ],
   "source": [
    "plt.show()"
   ]
  },
  {
   "cell_type": "code",
   "execution_count": null,
   "metadata": {},
   "outputs": [],
   "source": []
  },
  {
   "cell_type": "code",
   "execution_count": null,
   "metadata": {},
   "outputs": [],
   "source": []
  }
 ],
 "metadata": {
  "kernelspec": {
   "display_name": "Python 3",
   "language": "python",
   "name": "python3"
  },
  "language_info": {
   "codemirror_mode": {
    "name": "ipython",
    "version": 3
   },
   "file_extension": ".py",
   "mimetype": "text/x-python",
   "name": "python",
   "nbconvert_exporter": "python",
   "pygments_lexer": "ipython3",
   "version": "3.6.8"
  }
 },
 "nbformat": 4,
 "nbformat_minor": 2
}
