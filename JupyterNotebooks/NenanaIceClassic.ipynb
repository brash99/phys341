{
  "cells": [
    {
      "cell_type": "markdown",
      "metadata": {
        "id": "64zJp0WogpDc"
      },
      "source": [
        "# Nenana Ice Classic\n",
        "\n"
      ]
    },
    {
      "cell_type": "code",
      "execution_count": 16,
      "metadata": {
        "id": "xd-3W5GjgpDe"
      },
      "outputs": [],
      "source": [
        "import numpy as np\n",
        "import pandas as pd\n",
        "import matplotlib.pyplot as plt"
      ]
    },
    {
      "cell_type": "code",
      "execution_count": 16,
      "metadata": {
        "id": "anXEG1ArgpDf"
      },
      "outputs": [],
      "source": [
        ""
      ]
    },
    {
      "cell_type": "code",
      "execution_count": 17,
      "metadata": {
        "id": "I4PCdIiEgpDf",
        "outputId": "78237428-8c8c-42e0-d791-eebf1d764d24",
        "colab": {
          "base_uri": "https://localhost:8080/",
          "height": 586
        }
      },
      "outputs": [
        {
          "output_type": "stream",
          "name": "stdout",
          "text": [
            "Model: Gaussian1D\n",
            "Inputs: ('x',)\n",
            "Outputs: ('y',)\n",
            "Model set size: 1\n",
            "Parameters:\n",
            "        amplitude             mean             stddev    \n",
            "    ------------------ ------------------ ---------------\n",
            "    6.1450315632027825 123.41480810046444 7.4015855687935\n"
          ]
        },
        {
          "output_type": "stream",
          "name": "stderr",
          "text": [
            "/usr/local/lib/python3.7/dist-packages/ipykernel_launcher.py:6: SettingWithCopyWarning: \n",
            "A value is trying to be set on a copy of a slice from a DataFrame\n",
            "\n",
            "See the caveats in the documentation: https://pandas.pydata.org/pandas-docs/stable/user_guide/indexing.html#returning-a-view-versus-a-copy\n",
            "  \n",
            "/usr/local/lib/python3.7/dist-packages/ipykernel_launcher.py:8: SettingWithCopyWarning: \n",
            "A value is trying to be set on a copy of a slice from a DataFrame\n",
            "\n",
            "See the caveats in the documentation: https://pandas.pydata.org/pandas-docs/stable/user_guide/indexing.html#returning-a-view-versus-a-copy\n",
            "  \n"
          ]
        },
        {
          "output_type": "display_data",
          "data": {
            "text/plain": [
              "<Figure size 432x288 with 1 Axes>"
            ],
            "image/png": "[encoded data removed]"
          },
          "metadata": {
            "needs_background": "light"
          }
        }
      ],
      "source": [
        "df = pd.read_csv(\"sample_data/Nenana_Day.csv\")\n",
        "df['DayOfYear']=0\n",
        "\n",
        "for i in range(len(df)):\n",
        "    if (df['Month'][i]=='April'):\n",
        "        df['DayOfYear'][i]=31+28+31+df['Day'][i]\n",
        "    else:\n",
        "        df['DayOfYear'][i]=31+28+31+30+df['Day'][i]\n",
        "        \n",
        "df = df[(df['Number'] > 0)]\n",
        "\n",
        "x = df['DayOfYear']\n",
        "y = df['Number']\n",
        "\n",
        "plt.plot(x,y,'o')\n",
        "\n",
        "from astropy import modeling\n",
        "fitter = modeling.fitting.LevMarLSQFitter()\n",
        "model = modeling.models.Gaussian1D(20,120,20)   # depending on the data you need to give some initial values\n",
        "fitted_model = fitter(model, x, y)\n",
        "\n",
        "plt.plot(x, fitted_model(x))\n",
        "\n",
        "print (fitted_model)\n",
        "doy = int(fitted_model.mean.value)"
      ]
    },
    {
      "cell_type": "code",
      "execution_count": 18,
      "metadata": {
        "id": "sMoHwlBxgpDg",
        "outputId": "478d5917-b3cf-46e9-fc2b-b05665efc8eb",
        "colab": {
          "base_uri": "https://localhost:8080/",
          "height": 408
        }
      },
      "outputs": [
        {
          "output_type": "stream",
          "name": "stdout",
          "text": [
            "Model: Gaussian1D\n",
            "Inputs: ('x',)\n",
            "Outputs: ('y',)\n",
            "Model set size: 1\n",
            "Parameters:\n",
            "        amplitude            mean              stddev     \n",
            "    ----------------- ------------------ -----------------\n",
            "    9.425861992001884 13.648552102141819 4.922430967696323\n"
          ]
        },
        {
          "output_type": "display_data",
          "data": {
            "text/plain": [
              "<Figure size 432x288 with 1 Axes>"
            ],
            "image/png": "[encoded data removed]"
          },
          "metadata": {
            "needs_background": "light"
          }
        }
      ],
      "source": [
        "df = pd.read_csv(\"sample_data/Nenana_Hour.csv\")\n",
        "        \n",
        "df = df[(df['Number'] > 0)]\n",
        "\n",
        "x = df['Hour']\n",
        "y = df['Number']\n",
        "\n",
        "plt.plot(x,y,'o')\n",
        "\n",
        "from astropy import modeling\n",
        "fitter = modeling.fitting.LevMarLSQFitter()\n",
        "model = modeling.models.Gaussian1D(10,12,4)   # depending on the data you need to give some initial values\n",
        "fitted_model = fitter(model, x, y)\n",
        "\n",
        "plt.plot(x, fitted_model(x))\n",
        "\n",
        "print (fitted_model)\n",
        "tof = fitted_model.mean.value"
      ]
    },
    {
      "cell_type": "code",
      "execution_count": 19,
      "metadata": {
        "id": "3JR2gkeEgpDh",
        "outputId": "6d55189a-dc75-490d-b357-2257630c5d04",
        "colab": {
          "base_uri": "https://localhost:8080/"
        }
      },
      "outputs": [
        {
          "output_type": "stream",
          "name": "stdout",
          "text": [
            "Best Guess:  05-03-2022 13:38:54\n"
          ]
        }
      ],
      "source": [
        "from datetime import datetime\n",
        "year = \"2022\"\n",
        "result = datetime.strptime(year + \"-\" + str(doy), \"%Y-%j\").strftime(\"%m-%d-%Y\")\n",
        "\n",
        "def get_duration(duration):\n",
        "    hours = int(duration / 3600)\n",
        "    minutes = int(duration % 3600 / 60)\n",
        "    seconds = int((duration % 3600) % 60)\n",
        "    return '{:02d}:{:02d}:{:02d}'.format(hours, minutes, seconds)\n",
        "\n",
        "duration = tof*3600.0\n",
        "\n",
        "print (\"Best Guess: \",result,get_duration(duration))"
      ]
    },
    {
      "cell_type": "code",
      "execution_count": null,
      "metadata": {
        "id": "8JyWK7kUgpDh"
      },
      "outputs": [],
      "source": [
        ""
      ]
    }
  ],
  "metadata": {
    "kernelspec": {
      "display_name": "Python 3",
      "language": "python",
      "name": "python3"
    },
    "language_info": {
      "codemirror_mode": {
        "name": "ipython",
        "version": 3
      },
      "file_extension": ".py",
      "mimetype": "text/x-python",
      "name": "python",
      "nbconvert_exporter": "python",
      "pygments_lexer": "ipython3",
      "version": "3.6.8"
    },
    "latex_envs": {
      "LaTeX_envs_menu_present": true,
      "autoclose": false,
      "autocomplete": true,
      "bibliofile": "biblio.bib",
      "cite_by": "apalike",
      "current_citInitial": 1,
      "eqLabelWithNumbers": true,
      "eqNumInitial": 1,
      "hotkeys": {
        "equation": "Ctrl-E",
        "itemize": "Ctrl-I"
      },
      "labels_anchors": false,
      "latex_user_defs": false,
      "report_style_numbering": false,
      "user_envs_cfg": false
    },
    "colab": {
      "name": "NenanaIceClassic.ipynb",
      "provenance": []
    }
  },
  "nbformat": 4,
  "nbformat_minor": 0
}