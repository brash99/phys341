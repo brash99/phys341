{
 "cells": [
  {
   "cell_type": "markdown",
   "metadata": {
    "colab_type": "text",
    "id": "rHFcqs53-gZN"
   },
   "source": [
    "# Non Linear Regression Models"
   ]
  },
  {
   "cell_type": "code",
   "execution_count": 3,
   "metadata": {
    "colab": {
     "base_uri": "https://localhost:8080/",
     "height": 71
    },
    "colab_type": "code",
    "id": "UnIycOrI-gZP",
    "outputId": "fb80fa87-b233-4ed9-a13c-cc74abe968a9"
   },
   "outputs": [],
   "source": [
    "import numpy as np\n",
    "import pandas as pd\n",
    "import matplotlib.pyplot as plt\n",
    "import statsmodels.formula.api as sm\n",
    "from statsmodels.stats.anova import anova_lm\n",
    "import scipy.stats as stats\n",
    "from sklearn.linear_model import LinearRegression"
   ]
  },
  {
   "cell_type": "code",
   "execution_count": 4,
   "metadata": {
    "colab": {
     "base_uri": "https://localhost:8080/",
     "height": 607
    },
    "colab_type": "code",
    "id": "2dTidAXd-gZX",
    "outputId": "388a0a2f-4908-413b-f090-d45662b19337"
   },
   "outputs": [
    {
     "data": {
      "text/html": [
       "<div>\n",
       "<style scoped>\n",
       "    .dataframe tbody tr th:only-of-type {\n",
       "        vertical-align: middle;\n",
       "    }\n",
       "\n",
       "    .dataframe tbody tr th {\n",
       "        vertical-align: top;\n",
       "    }\n",
       "\n",
       "    .dataframe thead th {\n",
       "        text-align: right;\n",
       "    }\n",
       "</style>\n",
       "<table border=\"1\" class=\"dataframe\">\n",
       "  <thead>\n",
       "    <tr style=\"text-align: right;\">\n",
       "      <th></th>\n",
       "      <th>FactoryID</th>\n",
       "      <th>Production_Rate</th>\n",
       "    </tr>\n",
       "  </thead>\n",
       "  <tbody>\n",
       "    <tr>\n",
       "      <th>0</th>\n",
       "      <td>1</td>\n",
       "      <td>103</td>\n",
       "    </tr>\n",
       "    <tr>\n",
       "      <th>1</th>\n",
       "      <td>1</td>\n",
       "      <td>102</td>\n",
       "    </tr>\n",
       "    <tr>\n",
       "      <th>2</th>\n",
       "      <td>1</td>\n",
       "      <td>96</td>\n",
       "    </tr>\n",
       "    <tr>\n",
       "      <th>3</th>\n",
       "      <td>2</td>\n",
       "      <td>98</td>\n",
       "    </tr>\n",
       "    <tr>\n",
       "      <th>4</th>\n",
       "      <td>2</td>\n",
       "      <td>86</td>\n",
       "    </tr>\n",
       "    <tr>\n",
       "      <th>5</th>\n",
       "      <td>2</td>\n",
       "      <td>92</td>\n",
       "    </tr>\n",
       "    <tr>\n",
       "      <th>6</th>\n",
       "      <td>3</td>\n",
       "      <td>87</td>\n",
       "    </tr>\n",
       "    <tr>\n",
       "      <th>7</th>\n",
       "      <td>3</td>\n",
       "      <td>91</td>\n",
       "    </tr>\n",
       "    <tr>\n",
       "      <th>8</th>\n",
       "      <td>3</td>\n",
       "      <td>94</td>\n",
       "    </tr>\n",
       "    <tr>\n",
       "      <th>9</th>\n",
       "      <td>4</td>\n",
       "      <td>96</td>\n",
       "    </tr>\n",
       "    <tr>\n",
       "      <th>10</th>\n",
       "      <td>4</td>\n",
       "      <td>91</td>\n",
       "    </tr>\n",
       "    <tr>\n",
       "      <th>11</th>\n",
       "      <td>4</td>\n",
       "      <td>99</td>\n",
       "    </tr>\n",
       "    <tr>\n",
       "      <th>12</th>\n",
       "      <td>5</td>\n",
       "      <td>104</td>\n",
       "    </tr>\n",
       "    <tr>\n",
       "      <th>13</th>\n",
       "      <td>5</td>\n",
       "      <td>100</td>\n",
       "    </tr>\n",
       "    <tr>\n",
       "      <th>14</th>\n",
       "      <td>5</td>\n",
       "      <td>101</td>\n",
       "    </tr>\n",
       "    <tr>\n",
       "      <th>15</th>\n",
       "      <td>6</td>\n",
       "      <td>110</td>\n",
       "    </tr>\n",
       "    <tr>\n",
       "      <th>16</th>\n",
       "      <td>6</td>\n",
       "      <td>111</td>\n",
       "    </tr>\n",
       "    <tr>\n",
       "      <th>17</th>\n",
       "      <td>6</td>\n",
       "      <td>117</td>\n",
       "    </tr>\n",
       "  </tbody>\n",
       "</table>\n",
       "</div>"
      ],
      "text/plain": [
       "    FactoryID  Production_Rate\n",
       "0           1              103\n",
       "1           1              102\n",
       "2           1               96\n",
       "3           2               98\n",
       "4           2               86\n",
       "5           2               92\n",
       "6           3               87\n",
       "7           3               91\n",
       "8           3               94\n",
       "9           4               96\n",
       "10          4               91\n",
       "11          4               99\n",
       "12          5              104\n",
       "13          5              100\n",
       "14          5              101\n",
       "15          6              110\n",
       "16          6              111\n",
       "17          6              117"
      ]
     },
     "execution_count": 4,
     "metadata": {},
     "output_type": "execute_result"
    }
   ],
   "source": [
    "# Read in the data\n",
    "url = 'https://raw.githubusercontent.com/brash99/phys341/master/JupyterNotebooks/sample_data/nonlinear_data.txt'\n",
    "df = pd.read_csv(url)\n",
    "df.head(100)"
   ]
  },
  {
   "cell_type": "code",
   "execution_count": 5,
   "metadata": {
    "colab": {},
    "colab_type": "code",
    "id": "TXTdAVwc-gZd",
    "outputId": "21e5caa7-a7c6-4f51-c410-87251aca0f93"
   },
   "outputs": [
    {
     "data": {
      "image/png": "[encoded data removed]",
      "text/plain": [
       "<Figure size 432x288 with 1 Axes>"
      ]
     },
     "metadata": {
      "needs_background": "light"
     },
     "output_type": "display_data"
    }
   ],
   "source": [
    "# plot the data\n",
    "df.plot('FactoryID','Production_Rate',style='o')\n",
    "plt.ylabel('Production Rate')\n",
    "plt.title('Factory Performance Data')\n",
    "plt.show()"
   ]
  },
  {
   "cell_type": "markdown",
   "metadata": {
    "colab_type": "text",
    "id": "gDHeUQS7-gZk"
   },
   "source": [
    "## Observations:\n",
    "\n",
    "There appears to be a nonlinear trend with factory ID number.\n",
    "\n",
    "The procedure here is as follows:\n",
    "\n",
    "1.  Determine the overall effect - that is, determine SS_treatment, SS_error, SS_total\n",
    "2.  Perform a linear fit - use this to determine what fraction of SS_treatment is due to a linear dependence.\n",
    "3.  Perform a quadratic fit - use this to determine what fraction of SS_treatment is due to a quadratic dependence.\n",
    "4.  Keep going until we run our of non-linear dependence."
   ]
  },
  {
   "cell_type": "markdown",
   "metadata": {
    "colab_type": "text",
    "id": "w84eqFkw-gZl"
   },
   "source": [
    "## Step 1:  Carry out a basic Signal/Noise Analysis, using one-way ANOVA"
   ]
  },
  {
   "cell_type": "code",
   "execution_count": 8,
   "metadata": {
    "colab": {},
    "colab_type": "code",
    "id": "5emKgpui-gZl",
    "outputId": "75b3b25a-74b9-4a27-b8d0-b5c00621c7c0"
   },
   "outputs": [
    {
     "name": "stdout",
     "output_type": "stream",
     "text": [
      "                df      sum_sq     mean_sq          F    PR(>F)\n",
      "C(FactoryID)   5.0  981.777778  196.355556  12.062799  0.000243\n",
      "Residual      12.0  195.333333   16.277778        NaN       NaN\n",
      "\n",
      "SS_treatment, SS_error, SS_total, v_treatment, v_error, v_total\n",
      "981.7777777777796 195.33333333333334 1177.111111111113 5.0 12.0 17.0\n"
     ]
    }
   ],
   "source": [
    "## Step 1:  Carry out a basic Signal/Noise Analysis, using one-way ANOVA\n",
    "\n",
    "model = sm.ols('Production_Rate ~ C(FactoryID)',df).fit()\n",
    "anovaResults = anova_lm(model)\n",
    "\n",
    "print (anovaResults)\n",
    "\n",
    "## Remember the SS values:\n",
    "\n",
    "SS_treatment = anovaResults[:]['sum_sq'][0]\n",
    "SS_error_0 = anovaResults[:]['sum_sq'][1]\n",
    "SS_total_0 = SS_treatment + SS_error_0\n",
    "\n",
    "v_treatment = anovaResults[:]['df'][0]\n",
    "v_error_0 = anovaResults[:]['df'][1]\n",
    "v_total_0 = v_treatment + v_error_0\n",
    "\n",
    "print ()\n",
    "print (\"SS_treatment, SS_error, SS_total, v_treatment, v_error, v_total\")\n",
    "print (SS_treatment, SS_error_0, SS_total_0, v_treatment, v_error_0, v_total_0)"
   ]
  },
  {
   "cell_type": "code",
   "execution_count": 9,
   "metadata": {
    "colab": {},
    "colab_type": "code",
    "id": "Sz4DLToF-gZp",
    "outputId": "6bc9897e-02ff-461b-eb21-ebd98945f9f9"
   },
   "outputs": [
    {
     "name": "stdout",
     "output_type": "stream",
     "text": [
      "Indeed, a one-way ANOVA confirms that there is some dependence of the production rate\n",
      "on factory ID number.\n"
     ]
    }
   ],
   "source": [
    "print (\"Indeed, a one-way ANOVA confirms that there is some dependence of the production rate\")\n",
    "print (\"on factory ID number.\")"
   ]
  },
  {
   "cell_type": "markdown",
   "metadata": {
    "colab_type": "text",
    "id": "MOJvbGAn-gZt"
   },
   "source": [
    "## Step 2:  Perform a linear fit to the data, and extract SS_linear"
   ]
  },
  {
   "cell_type": "code",
   "execution_count": 10,
   "metadata": {
    "colab": {},
    "colab_type": "code",
    "id": "CrHac4NY-gZu",
    "outputId": "e115449f-adb9-4eb9-b147-a98c8ba65d14"
   },
   "outputs": [
    {
     "name": "stdout",
     "output_type": "stream",
     "text": [
      "                            OLS Regression Results                            \n",
      "==============================================================================\n",
      "Dep. Variable:        Production_Rate   R-squared:                       0.331\n",
      "Model:                            OLS   Adj. R-squared:                  0.289\n",
      "Method:                 Least Squares   F-statistic:                     7.913\n",
      "Date:                Fri, 05 Nov 2021   Prob (F-statistic):             0.0125\n",
      "Time:                        08:55:25   Log-Likelihood:                -59.549\n",
      "No. Observations:                  18   AIC:                             123.1\n",
      "Df Residuals:                      16   BIC:                             124.9\n",
      "Df Model:                           1                                         \n",
      "Covariance Type:            nonrobust                                         \n",
      "==============================================================================\n",
      "                 coef    std err          t      P>|t|      [0.025      0.975]\n",
      "------------------------------------------------------------------------------\n",
      "Intercept     89.2444      3.771     23.666      0.000      81.250      97.239\n",
      "FactoryID      2.7238      0.968      2.813      0.013       0.671       4.777\n",
      "==============================================================================\n",
      "Omnibus:                        1.114   Durbin-Watson:                   0.622\n",
      "Prob(Omnibus):                  0.573   Jarque-Bera (JB):                0.856\n",
      "Skew:                           0.232   Prob(JB):                        0.652\n",
      "Kurtosis:                       2.038   Cond. No.                         9.36\n",
      "==============================================================================\n",
      "\n",
      "Warnings:\n",
      "[1] Standard Errors assume that the covariance matrix of the errors is correctly specified.\n"
     ]
    },
    {
     "name": "stderr",
     "output_type": "stream",
     "text": [
      "/usr/local/lib64/python3.6/site-packages/scipy/stats/stats.py:1604: UserWarning: kurtosistest only valid for n>=20 ... continuing anyway, n=18\n",
      "  \"anyway, n=%i\" % int(n))\n"
     ]
    },
    {
     "data": {
      "image/png": "[encoded data removed]",
      "text/plain": [
       "<Figure size 432x288 with 1 Axes>"
      ]
     },
     "metadata": {
      "needs_background": "light"
     },
     "output_type": "display_data"
    }
   ],
   "source": [
    "# Step 2:  Perform a linear fit to the data, and extract SS_linear\n",
    "import seaborn as sns\n",
    "sns.regplot('FactoryID', 'Production_Rate', df, ci=95)\n",
    "\n",
    "linear = sm.ols('Production_Rate ~ FactoryID',df,).fit()\n",
    "print (linear.summary())"
   ]
  },
  {
   "cell_type": "code",
   "execution_count": 12,
   "metadata": {
    "colab": {},
    "colab_type": "code",
    "id": "c_bS34fv-gZx"
   },
   "outputs": [],
   "source": [
    "yint = linear.params[0]\n",
    "slope = linear.params[1]\n",
    "\n",
    "r2 = linear.rsquared\n",
    "\n",
    "N_linear = 2\n",
    "v_linear = N_linear - 1\n",
    "\n",
    "N = len(df['FactoryID'])\n",
    "v_total_1 = N - 1\n",
    "v_error_1 = v_total_1 - v_linear"
   ]
  },
  {
   "cell_type": "code",
   "execution_count": 19,
   "metadata": {
    "colab": {},
    "colab_type": "code",
    "id": "7P3XVzu0-gZ0"
   },
   "outputs": [],
   "source": [
    "SS_total_1 = (N-1)*df['Production_Rate'].var()\n",
    "\n",
    "SS_linear = r2*SS_total_1\n",
    "\n",
    "SS_error_1 = SS_total_1 - SS_linear\n",
    "\n",
    "MS_linear = SS_linear/v_linear\n",
    "MS_error_1 = SS_error_1/v_error_1\n",
    "fvalue = MS_linear/MS_error_1"
   ]
  },
  {
   "cell_type": "code",
   "execution_count": 20,
   "metadata": {
    "colab": {},
    "colab_type": "code",
    "id": "elAZ1Vpp-gZ2",
    "outputId": "cd9bfa2b-b825-49f8-a523-eb683e743663"
   },
   "outputs": [
    {
     "name": "stdout",
     "output_type": "stream",
     "text": [
      "\n",
      "SS_treatment, SS_error_0, SS_total, v_treatment, v_error_0, v_total\n",
      "981.7777777777796 195.33333333333334 1177.111111111113 5.0 12.0 17.0\n",
      "\n",
      "SS_linear, SS_error_1, SS_total, v_linear, v_error_1, v_total\n",
      "389.5047619047622 787.6063492063491 1177.1111111111113 1 16 17\n",
      "\n",
      "MS_linear, MS_error_1, F\n",
      "389.5047619047622 49.22539682539682 7.912678962982078\n"
     ]
    }
   ],
   "source": [
    "print ()\n",
    "print (\"SS_treatment, SS_error_0, SS_total, v_treatment, v_error_0, v_total\")\n",
    "print (SS_treatment, SS_error_0, SS_total_0, v_treatment, v_error_0, v_total_0)\n",
    "\n",
    "print ()\n",
    "print (\"SS_linear, SS_error_1, SS_total, v_linear, v_error_1, v_total\")\n",
    "print (SS_linear, SS_error_1, SS_total_1, v_linear, v_error_1, v_total_1)\n",
    "\n",
    "print ()\n",
    "print (\"MS_linear, MS_error_1, F\")\n",
    "print (MS_linear, MS_error_1, fvalue)\n"
   ]
  },
  {
   "cell_type": "markdown",
   "metadata": {
    "colab_type": "text",
    "id": "CyVXFXCP-gZ5"
   },
   "source": [
    "## Intermediate Conclusions:\n",
    "\n",
    "We see that of the total effect (SS_treatment = 981.7777), approximatley 40% (SS_linear = 389.5048) is due to a linear dependence.  The remainder then must be due to a non-linear dependence!"
   ]
  },
  {
   "cell_type": "code",
   "execution_count": 27,
   "metadata": {
    "colab": {},
    "colab_type": "code",
    "id": "WPDiiW2V-gZ5",
    "outputId": "7504f984-b850-4712-c140-128d35a9ae92"
   },
   "outputs": [
    {
     "name": "stdout",
     "output_type": "stream",
     "text": [
      "Source     df     Sum of Squares Mean Square     f     P-value\n",
      "linear      1       389.50           389.50        23.93    0.000\n",
      "nonlinear   4       592.27           148.07        9.10    0.001\n",
      "Error      12       195.33           16.28\n",
      "Total      17       1177.11\n"
     ]
    }
   ],
   "source": [
    "SS_nonlinear = SS_treatment - SS_linear\n",
    "v_nonlinear = v_treatment - v_linear\n",
    "\n",
    "MS_linear = SS_linear/v_linear\n",
    "MS_nonlinear = SS_nonlinear/v_nonlinear\n",
    "MS_error = SS_error_0/v_error_0\n",
    "\n",
    "fSN_linear = MS_linear/MS_error\n",
    "fSN_nonlinear = MS_nonlinear/MS_error\n",
    "\n",
    "alpha = 0.05\n",
    "\n",
    "fdist_linear = stats.f(v_linear,v_error_0)\n",
    "fhigh_linear = fdist_linear.ppf(1-alpha)\n",
    "\n",
    "pvalue_linear = 1-fdist_linear.cdf(fSN_linear)\n",
    "\n",
    "fdist_nonlinear = stats.f(v_nonlinear,v_error_0)\n",
    "fhigh_nonlinear = fdist_nonlinear.ppf(1-alpha)\n",
    "\n",
    "pvalue_nonlinear = 1-fdist_nonlinear.cdf(fSN_nonlinear)\n",
    "\n",
    "# print table\n",
    "\n",
    "print (\"Source     df     Sum of Squares Mean Square     f     P-value\")\n",
    "print (\"linear      %0.0f       %0.2f           %0.2f        %0.2f    %0.3f\" %(v_linear,SS_linear,MS_linear,fSN_linear,pvalue_linear))\n",
    "print (\"nonlinear   %0.0f       %0.2f           %0.2f        %0.2f    %0.3f\" %(v_nonlinear,SS_nonlinear,MS_nonlinear,fSN_nonlinear,pvalue_nonlinear))\n",
    "print (\"Error      %0.0f       %0.2f           %0.2f\" %(v_error_0,SS_error_0,MS_error))\n",
    "print (\"Total      %0.0f       %0.2f\" %(v_total_1,SS_total_1))"
   ]
  },
  {
   "cell_type": "markdown",
   "metadata": {
    "colab_type": "text",
    "id": "aUNY-1oP-gZ8"
   },
   "source": [
    "## Step 3:  Perform a Quadratic Fit to the Data"
   ]
  },
  {
   "cell_type": "code",
   "execution_count": 35,
   "metadata": {
    "colab": {},
    "colab_type": "code",
    "id": "UyxeJcIP-gZ8",
    "outputId": "2e639060-e15b-47cc-daeb-e55a2cb880df"
   },
   "outputs": [
    {
     "name": "stdout",
     "output_type": "stream",
     "text": [
      "                            OLS Regression Results                            \n",
      "==============================================================================\n",
      "Dep. Variable:        Production_Rate   R-squared:                       0.823\n",
      "Model:                            OLS   Adj. R-squared:                  0.799\n",
      "Method:                 Least Squares   F-statistic:                     34.83\n",
      "Date:                Fri, 05 Nov 2021   Prob (F-statistic):           2.31e-06\n",
      "Time:                        09:23:31   Log-Likelihood:                -47.589\n",
      "No. Observations:                  18   AIC:                             101.2\n",
      "Df Residuals:                      15   BIC:                             103.8\n",
      "Df Model:                           2                                         \n",
      "Covariance Type:            nonrobust                                         \n",
      "==========================================================================================\n",
      "                             coef    std err          t      P>|t|      [0.025      0.975]\n",
      "------------------------------------------------------------------------------------------\n",
      "Intercept                110.4667      3.851     28.686      0.000     102.259     118.675\n",
      "np.power(FactoryID, 2)     2.2738      0.352      6.454      0.000       1.523       3.025\n",
      "FactoryID                -13.1929      2.519     -5.237      0.000     -18.563      -7.823\n",
      "==============================================================================\n",
      "Omnibus:                        1.011   Durbin-Watson:                   2.296\n",
      "Prob(Omnibus):                  0.603   Jarque-Bera (JB):                0.837\n",
      "Skew:                          -0.259   Prob(JB):                        0.658\n",
      "Kurtosis:                       2.079   Cond. No.                         103.\n",
      "==============================================================================\n",
      "\n",
      "Warnings:\n",
      "[1] Standard Errors assume that the covariance matrix of the errors is correctly specified.\n"
     ]
    },
    {
     "name": "stderr",
     "output_type": "stream",
     "text": [
      "/usr/local/lib64/python3.6/site-packages/scipy/stats/stats.py:1604: UserWarning: kurtosistest only valid for n>=20 ... continuing anyway, n=18\n",
      "  \"anyway, n=%i\" % int(n))\n"
     ]
    },
    {
     "data": {
      "image/png": "[encoded data removed]",
      "text/plain": [
       "<Figure size 432x288 with 1 Axes>"
      ]
     },
     "metadata": {
      "needs_background": "light"
     },
     "output_type": "display_data"
    }
   ],
   "source": [
    "# Step 3:  Perform a Quadratic Fit to the Data\n",
    "import seaborn as sns\n",
    "sns.regplot('FactoryID', 'Production_Rate', df, ci=95, order=2)\n",
    "\n",
    "quadratic = sm.ols('Production_Rate ~ np.power(FactoryID,2) + FactoryID',df,).fit()\n",
    "print (quadratic.summary())"
   ]
  },
  {
   "cell_type": "code",
   "execution_count": 36,
   "metadata": {
    "colab": {},
    "colab_type": "code",
    "id": "Lx6XaKSV-gZ_"
   },
   "outputs": [],
   "source": [
    "# Equation -> y = a*x^2 + bx + c\n",
    "\n",
    "c = quadratic.params[0]\n",
    "a = quadratic.params[1]\n",
    "b = quadratic.params[2]\n",
    "\n",
    "r2 = quadratic.rsquared\n",
    "\n",
    "N_quadraticlinear = 3\n",
    "v_quadraticlinear = N_quadraticlinear - 1\n",
    "\n",
    "N = len(df['FactoryID'])\n",
    "v_total_2 = N - 1\n",
    "v_error_2 = v_total_2 - v_quadraticlinear\n",
    "\n"
   ]
  },
  {
   "cell_type": "code",
   "execution_count": 37,
   "metadata": {
    "colab": {},
    "colab_type": "code",
    "id": "6TpOwXiv-gaB"
   },
   "outputs": [],
   "source": [
    "SS_total_2 = (N-1)*df['Production_Rate'].var()\n",
    "\n",
    "SS_quadraticlinear = r2*SS_total_1\n",
    "\n",
    "SS_error_2 = SS_total_1 - SS_quadraticlinear"
   ]
  },
  {
   "cell_type": "code",
   "execution_count": 38,
   "metadata": {
    "colab": {},
    "colab_type": "code",
    "id": "bAGk3wOh-gaD",
    "outputId": "428c261a-9f3f-41ba-ec08-9af706999e5a"
   },
   "outputs": [
    {
     "name": "stdout",
     "output_type": "stream",
     "text": [
      "\n",
      "SS_treatment, SS_error_0, SS_total, v_treatment, v_error_0, v_total\n",
      "981.7777777777796 195.33333333333334 1177.111111111113 5.0 12.0 17.0\n",
      "\n",
      "SS_linear, SS_error_1, SS_total, v_linear, v_error_1, v_total\n",
      "389.5047619047622 787.6063492063491 1177.1111111111113 1 16 17\n",
      "\n",
      "SS_quadraticlinear, SS_error_2, SS_total, v_quadraticlinear, v_error_2, v_total\n",
      "968.5682539682542 208.5428571428571 1177.1111111111113 2 15 17\n"
     ]
    }
   ],
   "source": [
    "print ()\n",
    "print (\"SS_treatment, SS_error_0, SS_total, v_treatment, v_error_0, v_total\")\n",
    "print (SS_treatment, SS_error_0, SS_total_0, v_treatment, v_error_0, v_total_0)\n",
    "\n",
    "print ()\n",
    "print (\"SS_linear, SS_error_1, SS_total, v_linear, v_error_1, v_total\")\n",
    "print (SS_linear, SS_error_1, SS_total_1, v_linear, v_error_1, v_total_1)\n",
    "\n",
    "print ()\n",
    "print (\"SS_quadraticlinear, SS_error_2, SS_total, v_quadraticlinear, v_error_2, v_total\")\n",
    "print (SS_quadraticlinear, SS_error_2, SS_total_2, v_quadraticlinear, v_error_2, v_total_2)"
   ]
  },
  {
   "cell_type": "markdown",
   "metadata": {
    "colab_type": "text",
    "id": "XRSE3XyK-gaF"
   },
   "source": [
    "## Intermediate Conclusions:\n",
    "\n",
    "We see that of the quadratic + linear fit (SS_quadraticlinear = 968.5682), approximatley 38% (SS_linear = 389.5048) is due to a linear dependence.  The remainder then must be due to a quadratic dependence!\n",
    "\n",
    "We also see that of the total fit (SS_treatment = 981.7777), approximatley 99% (SS_quadratic = 968.5682) is due to a quadratic + linear dependence.  The remainder then must be due to a higher order dependence, and also must be very small!"
   ]
  },
  {
   "cell_type": "code",
   "execution_count": 41,
   "metadata": {
    "colab": {},
    "colab_type": "code",
    "id": "DcmtIe2T-gaG",
    "outputId": "771cf288-4d85-4dbb-a9d5-d04f1ef209d9"
   },
   "outputs": [
    {
     "name": "stdout",
     "output_type": "stream",
     "text": [
      "Source     df     Sum of Squares Mean Square     f     P-value\n",
      "linear      1       389.50           389.50        23.93    0.000\n",
      "quadratic   1       579.06           579.06        35.57    0.000\n",
      "higher      3       13.21            4.40          0.27     0.846\n",
      "Error      12       195.33           16.28\n",
      "Total      17       1177.11\n"
     ]
    }
   ],
   "source": [
    "SS_quadratic = SS_quadraticlinear-SS_linear\n",
    "v_quadratic = v_quadraticlinear-v_linear\n",
    "\n",
    "SS_higherorder = SS_treatment - SS_quadraticlinear\n",
    "v_higherorder = v_treatment - v_quadraticlinear\n",
    "\n",
    "MS_quadratic = SS_quadratic/v_quadratic\n",
    "MS_higherorder = SS_higherorder/v_higherorder\n",
    "\n",
    "fSN_quadratic = MS_quadratic/MS_error\n",
    "fSN_higherorder = MS_higherorder/MS_error\n",
    "\n",
    "fdist_quadratic = stats.f(v_quadratic,v_error_1)\n",
    "fhigh_quadratic = fdist_quadratic.ppf(1-alpha)\n",
    "\n",
    "pvalue_quadratic = 1-fdist_quadratic.cdf(fSN_quadratic)\n",
    "\n",
    "fdist_higherorder = stats.f(v_higherorder,v_error_1)\n",
    "fhigh_higherorder = fdist_higherorder.ppf(1-alpha)\n",
    "\n",
    "pvalue_higherorder = 1-fdist_higherorder.cdf(fSN_higherorder)\n",
    "\n",
    "# print table\n",
    "\n",
    "print (\"Source     df     Sum of Squares Mean Square     f     P-value\")\n",
    "print (\"linear      %0.0f       %0.2f           %0.2f        %0.2f    %0.3f\" %(v_linear,SS_linear,MS_linear,fSN_linear,pvalue_linear))\n",
    "print (\"quadratic   %0.0f       %0.2f           %0.2f        %0.2f    %0.3f\" %(v_quadratic,SS_quadratic,MS_quadratic,fSN_quadratic,pvalue_quadratic))\n",
    "print (\"higher      %0.0f       %0.2f            %0.2f          %0.2f     %0.3f\" %(v_higherorder,SS_higherorder,MS_higherorder,fSN_higherorder,pvalue_higherorder))\n",
    "print (\"Error      %0.0f       %0.2f           %0.2f\" %(v_error_0,SS_error_0,MS_error))\n",
    "print (\"Total      %0.0f       %0.2f\" %(v_total_1,SS_total_1))"
   ]
  },
  {
   "cell_type": "markdown",
   "metadata": {
    "colab_type": "text",
    "id": "qDTn-GN0-gaI"
   },
   "source": [
    "# Conclusion\n",
    "\n",
    "1.  There is a linear term (p = 0.000)\n",
    "2.  There is a quadratic term (p = 0.000)\n",
    "3.  There is no evidence for higher order terms (p = 0.846)"
   ]
  },
  {
   "cell_type": "code",
   "execution_count": null,
   "metadata": {
    "colab": {},
    "colab_type": "code",
    "id": "oaQ5f23O-gaI"
   },
   "outputs": [],
   "source": []
  },
  {
   "cell_type": "code",
   "execution_count": null,
   "metadata": {
    "colab": {},
    "colab_type": "code",
    "id": "nm2HE7w_-gaK"
   },
   "outputs": [],
   "source": []
  },
  {
   "cell_type": "code",
   "execution_count": null,
   "metadata": {
    "colab": {},
    "colab_type": "code",
    "id": "ellQ8wZp-gaM"
   },
   "outputs": [],
   "source": []
  },
  {
   "cell_type": "code",
   "execution_count": null,
   "metadata": {
    "colab": {},
    "colab_type": "code",
    "id": "MAMT-iLJ-gaP"
   },
   "outputs": [],
   "source": []
  },
  {
   "cell_type": "code",
   "execution_count": null,
   "metadata": {
    "colab": {},
    "colab_type": "code",
    "id": "vPQu1MDb-gaR"
   },
   "outputs": [],
   "source": []
  },
  {
   "cell_type": "code",
   "execution_count": null,
   "metadata": {
    "colab": {},
    "colab_type": "code",
    "id": "LRfmPGky-gaT"
   },
   "outputs": [],
   "source": []
  }
 ],
 "metadata": {
  "colab": {
   "name": "NonLinearRegression.ipynb",
   "provenance": []
  },
  "kernelspec": {
   "display_name": "Python 3",
   "language": "python",
   "name": "python3"
  },
  "language_info": {
   "codemirror_mode": {
    "name": "ipython",
    "version": 3
   },
   "file_extension": ".py",
   "mimetype": "text/x-python",
   "name": "python",
   "nbconvert_exporter": "python",
   "pygments_lexer": "ipython3",
   "version": "3.6.8"
  }
 },
 "nbformat": 4,
 "nbformat_minor": 4
}
