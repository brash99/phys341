{
  "nbformat": 4,
  "nbformat_minor": 0,
  "metadata": {
    "kernelspec": {
      "display_name": "Python 3",
      "language": "python",
      "name": "python3"
    },
    "language_info": {
      "codemirror_mode": {
        "name": "ipython",
        "version": 3
      },
      "file_extension": ".py",
      "mimetype": "text/x-python",
      "name": "python",
      "nbconvert_exporter": "python",
      "pygments_lexer": "ipython3",
      "version": "3.6.8"
    },
    "colab": {
      "name": "LinearRegression.ipynb",
      "provenance": []
    }
  },
  "cells": [
    {
      "cell_type": "markdown",
      "metadata": {
        "id": "uzR3GGdt-1sK",
        "colab_type": "text"
      },
      "source": [
        "# Linear Regression Models"
      ]
    },
    {
      "cell_type": "code",
      "metadata": {
        "id": "4ZZDsekk-1sM",
        "colab_type": "code",
        "colab": {}
      },
      "source": [
        "import numpy as np\n",
        "import pandas as pd\n",
        "import matplotlib.pyplot as plt\n",
        "import statsmodels.formula.api as sm\n",
        "from statsmodels.stats.anova import anova_lm\n",
        "import scipy.stats as stats\n",
        "from sklearn.linear_model import LinearRegression"
      ],
      "execution_count": 4,
      "outputs": []
    },
    {
      "cell_type": "code",
      "metadata": {
        "id": "6VEtrhfU-1sU",
        "colab_type": "code",
        "colab": {
          "base_uri": "https://localhost:8080/",
          "height": 390
        },
        "outputId": "c8ac845e-f79f-4532-9331-0123a266e2e0"
      },
      "source": [
        "# Read in the data\n",
        "\n",
        "url = 'https://raw.githubusercontent.com/brash99/phys341/master/JupyterNotebooks/alcohol_tobacco.txt'\n",
        "df = pd.read_csv(url)\n",
        "df.head(100)"
      ],
      "execution_count": 7,
      "outputs": [
        {
          "output_type": "execute_result",
          "data": {
            "text/html": [
              "<div>\n",
              "<style scoped>\n",
              "    .dataframe tbody tr th:only-of-type {\n",
              "        vertical-align: middle;\n",
              "    }\n",
              "\n",
              "    .dataframe tbody tr th {\n",
              "        vertical-align: top;\n",
              "    }\n",
              "\n",
              "    .dataframe thead th {\n",
              "        text-align: right;\n",
              "    }\n",
              "</style>\n",
              "<table border=\"1\" class=\"dataframe\">\n",
              "  <thead>\n",
              "    <tr style=\"text-align: right;\">\n",
              "      <th></th>\n",
              "      <th>Region</th>\n",
              "      <th>Alcohol</th>\n",
              "      <th>Tobacco</th>\n",
              "    </tr>\n",
              "  </thead>\n",
              "  <tbody>\n",
              "    <tr>\n",
              "      <th>0</th>\n",
              "      <td>North</td>\n",
              "      <td>6.47</td>\n",
              "      <td>4.03</td>\n",
              "    </tr>\n",
              "    <tr>\n",
              "      <th>1</th>\n",
              "      <td>Yorkshire</td>\n",
              "      <td>6.13</td>\n",
              "      <td>3.76</td>\n",
              "    </tr>\n",
              "    <tr>\n",
              "      <th>2</th>\n",
              "      <td>Northeast</td>\n",
              "      <td>6.19</td>\n",
              "      <td>3.77</td>\n",
              "    </tr>\n",
              "    <tr>\n",
              "      <th>3</th>\n",
              "      <td>East_Midlands</td>\n",
              "      <td>4.89</td>\n",
              "      <td>3.34</td>\n",
              "    </tr>\n",
              "    <tr>\n",
              "      <th>4</th>\n",
              "      <td>West_Midlands</td>\n",
              "      <td>5.63</td>\n",
              "      <td>3.47</td>\n",
              "    </tr>\n",
              "    <tr>\n",
              "      <th>5</th>\n",
              "      <td>East_Anglia</td>\n",
              "      <td>4.52</td>\n",
              "      <td>2.92</td>\n",
              "    </tr>\n",
              "    <tr>\n",
              "      <th>6</th>\n",
              "      <td>Southeast</td>\n",
              "      <td>5.89</td>\n",
              "      <td>3.20</td>\n",
              "    </tr>\n",
              "    <tr>\n",
              "      <th>7</th>\n",
              "      <td>Southwest</td>\n",
              "      <td>4.79</td>\n",
              "      <td>2.71</td>\n",
              "    </tr>\n",
              "    <tr>\n",
              "      <th>8</th>\n",
              "      <td>Wales</td>\n",
              "      <td>5.27</td>\n",
              "      <td>3.53</td>\n",
              "    </tr>\n",
              "    <tr>\n",
              "      <th>9</th>\n",
              "      <td>Scotland</td>\n",
              "      <td>6.08</td>\n",
              "      <td>4.51</td>\n",
              "    </tr>\n",
              "    <tr>\n",
              "      <th>10</th>\n",
              "      <td>Northern_Ireland</td>\n",
              "      <td>4.02</td>\n",
              "      <td>4.56</td>\n",
              "    </tr>\n",
              "  </tbody>\n",
              "</table>\n",
              "</div>"
            ],
            "text/plain": [
              "              Region  Alcohol  Tobacco\n",
              "0              North     6.47     4.03\n",
              "1          Yorkshire     6.13     3.76\n",
              "2          Northeast     6.19     3.77\n",
              "3      East_Midlands     4.89     3.34\n",
              "4      West_Midlands     5.63     3.47\n",
              "5        East_Anglia     4.52     2.92\n",
              "6          Southeast     5.89     3.20\n",
              "7          Southwest     4.79     2.71\n",
              "8              Wales     5.27     3.53\n",
              "9           Scotland     6.08     4.51\n",
              "10  Northern_Ireland     4.02     4.56"
            ]
          },
          "metadata": {
            "tags": []
          },
          "execution_count": 7
        }
      ]
    },
    {
      "cell_type": "code",
      "metadata": {
        "id": "Adzx_v6p-1sZ",
        "colab_type": "code",
        "colab": {},
        "outputId": "7d2c6c20-9e3e-438f-ef7d-ac21c69b36e6"
      },
      "source": [
        "# plot the data\n",
        "\n",
        "df.plot('Tobacco','Alcohol',style='o')\n",
        "plt.ylabel('Alcohol')\n",
        "plt.title('Sales of Alcohol and Tobacco in Several UK Regions')\n",
        "plt.show()"
      ],
      "execution_count": null,
      "outputs": [
        {
          "output_type": "display_data",
          "data": {
            "image/png": "[encoded data removed]",
            "text/plain": [
              "<Figure size 432x288 with 1 Axes>"
            ]
          },
          "metadata": {
            "tags": [],
            "needs_background": "light"
          }
        }
      ]
    },
    {
      "cell_type": "markdown",
      "metadata": {
        "id": "E9Jhemdn-1se",
        "colab_type": "text"
      },
      "source": [
        "Observations:\n",
        "\n",
        "There appears to be a slight linear trend that associates higher alcohol sales with higher tobacco sales.  The data point corresponding to Northern Ireland appears to be an outlier (it has the lowest alcohol sales and the highest tobacco sales.\n",
        "\n",
        "Let's do some analysis that first determines if it is reasonable to consider removing Northern Ireland from this data set."
      ]
    },
    {
      "cell_type": "code",
      "metadata": {
        "id": "aXdtTuHX-1sf",
        "colab_type": "code",
        "colab": {},
        "outputId": "ed7de510-cceb-4d8a-ecba-513d2300351c"
      },
      "source": [
        "result = sm.ols('Alcohol ~ Tobacco',df,).fit()\n",
        "print (result.summary())"
      ],
      "execution_count": null,
      "outputs": [
        {
          "output_type": "stream",
          "text": [
            "                            OLS Regression Results                            \n",
            "==============================================================================\n",
            "Dep. Variable:                Alcohol   R-squared:                       0.050\n",
            "Model:                            OLS   Adj. R-squared:                 -0.056\n",
            "Method:                 Least Squares   F-statistic:                    0.4735\n",
            "Date:                Mon, 31 Aug 2020   Prob (F-statistic):              0.509\n",
            "Time:                        00:53:04   Log-Likelihood:                -12.317\n",
            "No. Observations:                  11   AIC:                             28.63\n",
            "Df Residuals:                       9   BIC:                             29.43\n",
            "Df Model:                           1                                         \n",
            "Covariance Type:            nonrobust                                         \n",
            "==============================================================================\n",
            "                 coef    std err          t      P>|t|      [0.025      0.975]\n",
            "------------------------------------------------------------------------------\n",
            "Intercept      4.3512      1.607      2.708      0.024       0.717       7.986\n",
            "Tobacco        0.3019      0.439      0.688      0.509      -0.691       1.295\n",
            "==============================================================================\n",
            "Omnibus:                        3.123   Durbin-Watson:                   1.655\n",
            "Prob(Omnibus):                  0.210   Jarque-Bera (JB):                1.397\n",
            "Skew:                          -0.873   Prob(JB):                        0.497\n",
            "Kurtosis:                       3.022   Cond. No.                         25.5\n",
            "==============================================================================\n",
            "\n",
            "Warnings:\n",
            "[1] Standard Errors assume that the covariance matrix of the errors is correctly specified.\n"
          ],
          "name": "stdout"
        },
        {
          "output_type": "stream",
          "text": [
            "/usr/local/lib64/python3.6/site-packages/scipy/stats/stats.py:1604: UserWarning: kurtosistest only valid for n>=20 ... continuing anyway, n=11\n",
            "  \"anyway, n=%i\" % int(n))\n"
          ],
          "name": "stderr"
        }
      ]
    },
    {
      "cell_type": "markdown",
      "metadata": {
        "id": "-CTkQlQS-1sk",
        "colab_type": "text"
      },
      "source": [
        "## Summary of information in the regression result table\n",
        "\n",
        "### Top Left Column:\n",
        "\n",
        "This section is fairly self explanatory.  It reports the dependent variable (i.e. the y-axis variable), along with the relevant degrees of freedom.  For our purposes here, Df Residuals (= $\\nu_{error}$) and Df Model (=$\\nu_{treatment}$) are the most important results.\n",
        "\n",
        "### Top Right Column:\n",
        "\n",
        "In this section, several important parameters are reported that are related to the statistical significance of\n",
        "the linear fit.  The F-statistic and the Prob (F-statistic), or p-value, are already familar to us.  We will\n",
        "discuss some of the others as we go along in the analysis.\n",
        "\n",
        "### Bottom Table\n",
        "\n",
        "In a linear fit, there are two parameters - the slope and the y-intercept.  The \"best fit\" values for these parameters are given in this table (coef), along with the uncertainties (std err) on each of these values.  This table also shows the t-values associated with these values ... a t-value of zero would indicate that the expected value of the parameter is zero, for example.  So, in this case, we see that the analysis shows that we can say that the y-intercept is statistically different from zero (P_intercept = 0.024), but the slope is not (P_slope = 0.509).  We see this is consistent with the 95% confidence interval limits given in this table as well."
      ]
    },
    {
      "cell_type": "code",
      "metadata": {
        "id": "lRsIlN0t-1sk",
        "colab_type": "code",
        "colab": {},
        "outputId": "e7566c71-a176-46ac-b393-8436ef6452d0"
      },
      "source": [
        "# Extract information from the result object and plot along with the data.\n",
        "\n",
        "yint = result.params[0]\n",
        "slope = result.params[1]\n",
        "\n",
        "r2 = result.rsquared\n",
        "\n",
        "print (yint,slope,r2)"
      ],
      "execution_count": null,
      "outputs": [
        {
          "output_type": "stream",
          "text": [
            "4.351168486048515 0.3019383581272961 0.049984490275868376\n"
          ],
          "name": "stdout"
        }
      ]
    },
    {
      "cell_type": "code",
      "metadata": {
        "id": "cjPBXwHr-1so",
        "colab_type": "code",
        "colab": {},
        "outputId": "902382f2-07e8-4d11-c5ed-14136e39f5a7"
      },
      "source": [
        "yfit = yint + slope*df['Tobacco']\n",
        "x = df['Tobacco']\n",
        "\n",
        "df.plot('Tobacco','Alcohol',style='o')\n",
        "plt.ylabel('Alcohol')\n",
        "plt.title('Sales of Alcohol and Tobacco in Several UK Regions')\n",
        "plt.plot(x,yfit)\n",
        "plt.show()"
      ],
      "execution_count": null,
      "outputs": [
        {
          "output_type": "display_data",
          "data": {
            "image/png": "[encoded data removed]",
            "text/plain": [
              "<Figure size 432x288 with 1 Axes>"
            ]
          },
          "metadata": {
            "tags": [],
            "needs_background": "light"
          }
        }
      ]
    },
    {
      "cell_type": "markdown",
      "metadata": {
        "id": "fCnQx_DK-1ss",
        "colab_type": "text"
      },
      "source": [
        "## The key here is that we really need to include somehow the UNCERTAINTIES in the parameters in plotting the fit.  Otherwise, our fit is totally useless!!!!!\n",
        "\n",
        "It turns out that it is actually quite a difficult mathematical exercise to do this.  Fortunately, Python has some utilities to help us.  Someday, maybe you will learn in detail why this works the way that it does (and you should).  But for now, we are going to just trust in the folks that wrote the software and assume that they got it right (which they did)."
      ]
    },
    {
      "cell_type": "code",
      "metadata": {
        "id": "Ez9sqhUe-1st",
        "colab_type": "code",
        "colab": {},
        "outputId": "09d58385-061f-4a10-9aa4-b9e4cf667220"
      },
      "source": [
        "import seaborn as sns\n",
        "sns.regplot('Tobacco', 'Alcohol', df, ci=99)\n",
        "\n",
        "# Let's do a linear fit using the curve_fit utility from scipy, for comparision with seaborn regplot.\n",
        "\n",
        "from scipy.optimize import curve_fit\n",
        "\n",
        "def fitfunction(x,*paramlist):\n",
        "    return paramlist[0]+paramlist[1]*x\n",
        "\n",
        "init_vals = [0.0 for x in range(2)]\n",
        "x = np.array(df['Tobacco'])\n",
        "y = np.array(df['Alcohol'])\n",
        "popt, pcov = curve_fit(fitfunction,x,y,p0=init_vals)\n",
        "\n",
        "#xi = np.linspace(np.min(x),np.max(x),100)\n",
        "xi = np.linspace(2.5,5,100)\n",
        "ps = np.random.multivariate_normal(popt,pcov,10000)\n",
        "ysample=np.asarray([fitfunction(xi,*pi) for pi in ps])\n",
        "lower = np.percentile(ysample,.5,axis=0)\n",
        "upper = np.percentile(ysample,99.5,axis=0)\n",
        "\n",
        "print(\"Coefficients (from curve_fit)\")\n",
        "print (popt)\n",
        "print(\"Covariance Matrix (from curve_fit)\")\n",
        "print (pcov)\n",
        "\n",
        "plt.plot(xi,lower)\n",
        "plt.plot(xi,upper)\n",
        "plt.show()"
      ],
      "execution_count": null,
      "outputs": [
        {
          "output_type": "stream",
          "text": [
            "Coefficients (from curve_fit)\n",
            "[4.35116853 0.30193835]\n",
            "Covariance Matrix (from curve_fit)\n",
            "[[ 2.58147706 -0.69659433]\n",
            " [-0.69659433  0.19252607]]\n"
          ],
          "name": "stdout"
        },
        {
          "output_type": "display_data",
          "data": {
            "image/png": "[encoded data removed]",
            "text/plain": [
              "<Figure size 432x288 with 1 Axes>"
            ]
          },
          "metadata": {
            "tags": [],
            "needs_background": "light"
          }
        }
      ]
    },
    {
      "cell_type": "markdown",
      "metadata": {
        "id": "FX22wnMp-1sy",
        "colab_type": "text"
      },
      "source": [
        "## Conclusion:  We are more than 99.99% sure that Northern Ireland is an outlier.  Let's remove it from the data set!"
      ]
    },
    {
      "cell_type": "code",
      "metadata": {
        "id": "K7HEwVqL-1sy",
        "colab_type": "code",
        "colab": {},
        "outputId": "a2be25f3-f986-46a1-fe6c-c8df5aa40cb0"
      },
      "source": [
        "result = sm.ols('Alcohol ~ Tobacco',df[:-1],).fit()\n",
        "print (result.summary())"
      ],
      "execution_count": null,
      "outputs": [
        {
          "output_type": "stream",
          "text": [
            "                            OLS Regression Results                            \n",
            "==============================================================================\n",
            "Dep. Variable:                Alcohol   R-squared:                       0.615\n",
            "Model:                            OLS   Adj. R-squared:                  0.567\n",
            "Method:                 Least Squares   F-statistic:                     12.78\n",
            "Date:                Mon, 31 Aug 2020   Prob (F-statistic):            0.00723\n",
            "Time:                        00:53:12   Log-Likelihood:                -4.9998\n",
            "No. Observations:                  10   AIC:                             14.00\n",
            "Df Residuals:                       8   BIC:                             14.60\n",
            "Df Model:                           1                                         \n",
            "Covariance Type:            nonrobust                                         \n",
            "==============================================================================\n",
            "                 coef    std err          t      P>|t|      [0.025      0.975]\n",
            "------------------------------------------------------------------------------\n",
            "Intercept      2.0412      1.001      2.038      0.076      -0.268       4.350\n",
            "Tobacco        1.0059      0.281      3.576      0.007       0.357       1.655\n",
            "==============================================================================\n",
            "Omnibus:                        2.542   Durbin-Watson:                   1.975\n",
            "Prob(Omnibus):                  0.281   Jarque-Bera (JB):                0.904\n",
            "Skew:                          -0.014   Prob(JB):                        0.636\n",
            "Kurtosis:                       1.527   Cond. No.                         27.2\n",
            "==============================================================================\n",
            "\n",
            "Warnings:\n",
            "[1] Standard Errors assume that the covariance matrix of the errors is correctly specified.\n"
          ],
          "name": "stdout"
        },
        {
          "output_type": "stream",
          "text": [
            "/usr/local/lib64/python3.6/site-packages/scipy/stats/stats.py:1604: UserWarning: kurtosistest only valid for n>=20 ... continuing anyway, n=10\n",
            "  \"anyway, n=%i\" % int(n))\n"
          ],
          "name": "stderr"
        }
      ]
    },
    {
      "cell_type": "code",
      "metadata": {
        "id": "ygbgaUxx-1s1",
        "colab_type": "code",
        "colab": {},
        "outputId": "6fed2d3d-80d4-40e9-f65f-21b25adbbe87"
      },
      "source": [
        "# Extract information from the result object and plot along with the data.\n",
        "\n",
        "yint = result.params[0]\n",
        "slope = result.params[1]\n",
        "\n",
        "r2 = result.rsquared\n",
        "\n",
        "print (yint,slope,r2)\n",
        "\n",
        "import seaborn as sns\n",
        "sns.regplot('Tobacco', 'Alcohol', df[:-1], ci=95)\n",
        "\n",
        "# Let's do a linear fit using the curve_fit utility from scipy, for comparision with seaborn regplot.\n",
        "\n",
        "from scipy.optimize import curve_fit\n",
        "\n",
        "def fitfunction(x,*paramlist):\n",
        "    return paramlist[0]+paramlist[1]*x\n",
        "\n",
        "init_vals = [0.0 for x in range(2)]\n",
        "x = np.array(df['Tobacco'][:-1])\n",
        "y = np.array(df['Alcohol'][:-1])\n",
        "popt, pcov = curve_fit(fitfunction,x,y,p0=init_vals)\n",
        "\n",
        "#xi = np.linspace(np.min(x),np.max(x),100)\n",
        "xi = np.linspace(2.5,5,100)\n",
        "ps = np.random.multivariate_normal(popt,pcov,10000)\n",
        "ysample=np.asarray([fitfunction(xi,*pi) for pi in ps])\n",
        "lower = np.percentile(ysample,2.5,axis=0)\n",
        "upper = np.percentile(ysample,97.5,axis=0)\n",
        "\n",
        "print(\"Coefficients (from curve_fit)\")\n",
        "print (popt)\n",
        "print(\"Covariance Matrix (from curve_fit)\")\n",
        "print (pcov)\n",
        "\n",
        "plt.plot(xi,lower)\n",
        "plt.plot(xi,upper)\n",
        "plt.show()"
      ],
      "execution_count": null,
      "outputs": [
        {
          "output_type": "stream",
          "text": [
            "2.041223086838216 1.0058958323387581 0.6151066005541356\n",
            "Coefficients (from curve_fit)\n",
            "[2.04122312 1.00589582]\n",
            "Covariance Matrix (from curve_fit)\n",
            "[[ 1.0027222  -0.2788958 ]\n",
            " [-0.2788958   0.07914183]]\n"
          ],
          "name": "stdout"
        },
        {
          "output_type": "display_data",
          "data": {
            "image/png": "[encoded data removed]",
            "text/plain": [
              "<Figure size 432x288 with 1 Axes>"
            ]
          },
          "metadata": {
            "tags": [],
            "needs_background": "light"
          }
        }
      ]
    },
    {
      "cell_type": "markdown",
      "metadata": {
        "id": "Z7MmcVJD-1s5",
        "colab_type": "text"
      },
      "source": [
        "## Conclusion:  For these 10 regions, there is a statistically significant correlaton between alcohol and tobacco sales (p = 0.007).\n",
        "\n",
        "So, the next question is, what is the connection between this analysis and the one-way ANOVA analysis that we could have performed on this data?  Let's find out!"
      ]
    },
    {
      "cell_type": "code",
      "metadata": {
        "id": "r0J8JZFj-1s5",
        "colab_type": "code",
        "colab": {},
        "outputId": "56b4e4e5-2c96-4ae3-c03d-abbb1bd4eea0"
      },
      "source": [
        "N_model = 2\n",
        "v_model = N_model - 1\n",
        "\n",
        "print (df['Tobacco'][:-1])\n",
        "\n",
        "N = len(df['Tobacco'][:-1])\n",
        "v_total = N - 1\n",
        "v_error = v_total - v_model\n",
        "\n",
        "print (\"v_total, v_model, v_error = \", v_total,v_model,v_error)"
      ],
      "execution_count": null,
      "outputs": [
        {
          "output_type": "stream",
          "text": [
            "0    4.03\n",
            "1    3.76\n",
            "2    3.77\n",
            "3    3.34\n",
            "4    3.47\n",
            "5    2.92\n",
            "6    3.20\n",
            "7    2.71\n",
            "8    3.53\n",
            "9    4.51\n",
            "Name: Tobacco, dtype: float64\n",
            "v_total, v_model, v_error =  9 1 8\n"
          ],
          "name": "stdout"
        }
      ]
    },
    {
      "cell_type": "code",
      "metadata": {
        "id": "5g973o1r-1s8",
        "colab_type": "code",
        "colab": {},
        "outputId": "c7592662-ee7f-4d7c-bc88-50e199713f6a"
      },
      "source": [
        "SS_total = (N-1)*df['Alcohol'][:-1].var()\n",
        "\n",
        "SS_model = r2*SS_total\n",
        "\n",
        "SS_error = SS_total - SS_model\n",
        "\n",
        "print (SS_total, SS_model, SS_error)"
      ],
      "execution_count": null,
      "outputs": [
        {
          "output_type": "stream",
          "text": [
            "4.134840000000001 2.543367376235263 1.5914726237647385\n"
          ],
          "name": "stdout"
        }
      ]
    },
    {
      "cell_type": "code",
      "metadata": {
        "id": "_URLQnHT-1tA",
        "colab_type": "code",
        "colab": {},
        "outputId": "2042634e-c027-4b6e-f88b-dc0019d1f157"
      },
      "source": [
        "# Proceed with normal ANOVA from here\n",
        "MS_model = SS_model/v_model\n",
        "MS_error = SS_error/v_error\n",
        "\n",
        "fSN = MS_model/MS_error\n",
        "\n",
        "print (\"F Signal/Noise = %0.2f \" % fSN)\n",
        "\n",
        "alpha = 0.05\n",
        "\n",
        "fdist = stats.f(v_model,v_error)\n",
        "fhigh = fdist.ppf(1-alpha)\n",
        "\n",
        "print (\"Critical F-value = %0.2f\" % (fhigh))\n",
        "\n",
        "pvalue = (1-fdist.cdf(fSN))\n",
        "    \n",
        "print (\"Pvalue = %0.3f\" % (pvalue))\n",
        "\n",
        "# print table\n",
        "\n",
        "print (\"Source     df     Sum of Squares Mean Square     f     P-value\")\n",
        "print (\"Model      %0.0f       %0.2f           %0.2f        %0.2f    %0.3f\" %(v_model,SS_model,MS_model,fSN,pvalue))\n",
        "print (\"Error      %0.0f       %0.2f           %0.2f\" %(v_error,SS_error,MS_error))\n",
        "print (\"Total      %0.0f       %0.2f\" %(v_total,SS_total))"
      ],
      "execution_count": null,
      "outputs": [
        {
          "output_type": "stream",
          "text": [
            "F Signal/Noise = 0.47 \n",
            "Critical F-value = 5.12\n",
            "Pvalue = 0.509\n",
            "Source     df     Sum of Squares Mean Square     f     P-value\n",
            "Model      1       0.32           0.32        0.47    0.509\n",
            "Error      9       6.05           0.67\n",
            "Total      10       6.36\n"
          ],
          "name": "stdout"
        }
      ]
    },
    {
      "cell_type": "code",
      "metadata": {
        "id": "pRdY0LAV-1tD",
        "colab_type": "code",
        "colab": {},
        "outputId": "d51f9314-37ca-48dd-99c3-df9e9c348c13"
      },
      "source": [
        "# Let's go back and look at the full data set (with Northern Ireland included)\n",
        "\n",
        "result = sm.ols('Alcohol ~ Tobacco',df,).fit()\n",
        "print (result.summary())"
      ],
      "execution_count": null,
      "outputs": [
        {
          "output_type": "stream",
          "text": [
            "                            OLS Regression Results                            \n",
            "==============================================================================\n",
            "Dep. Variable:                Alcohol   R-squared:                       0.050\n",
            "Model:                            OLS   Adj. R-squared:                 -0.056\n",
            "Method:                 Least Squares   F-statistic:                    0.4735\n",
            "Date:                Sun, 23 Aug 2020   Prob (F-statistic):              0.509\n",
            "Time:                        22:30:56   Log-Likelihood:                -12.317\n",
            "No. Observations:                  11   AIC:                             28.63\n",
            "Df Residuals:                       9   BIC:                             29.43\n",
            "Df Model:                           1                                         \n",
            "Covariance Type:            nonrobust                                         \n",
            "==============================================================================\n",
            "                 coef    std err          t      P>|t|      [0.025      0.975]\n",
            "------------------------------------------------------------------------------\n",
            "Intercept      4.3512      1.607      2.708      0.024       0.717       7.986\n",
            "Tobacco        0.3019      0.439      0.688      0.509      -0.691       1.295\n",
            "==============================================================================\n",
            "Omnibus:                        3.123   Durbin-Watson:                   1.655\n",
            "Prob(Omnibus):                  0.210   Jarque-Bera (JB):                1.397\n",
            "Skew:                          -0.873   Prob(JB):                        0.497\n",
            "Kurtosis:                       3.022   Cond. No.                         25.5\n",
            "==============================================================================\n",
            "\n",
            "Warnings:\n",
            "[1] Standard Errors assume that the covariance matrix of the errors is correctly specified.\n"
          ],
          "name": "stdout"
        }
      ]
    },
    {
      "cell_type": "code",
      "metadata": {
        "id": "8ts8kGz4-1tF",
        "colab_type": "code",
        "colab": {}
      },
      "source": [
        ""
      ],
      "execution_count": null,
      "outputs": []
    },
    {
      "cell_type": "code",
      "metadata": {
        "id": "9Ge5IC5H-1tI",
        "colab_type": "code",
        "colab": {},
        "outputId": "931b1805-0cd1-4f04-e635-1eb84dd40340"
      },
      "source": [
        "# Extract information from the result object and plot along with the data.\n",
        "\n",
        "yint = result.params[0]\n",
        "slope = result.params[1]\n",
        "\n",
        "r2 = result.rsquared\n",
        "\n",
        "N_model = 2\n",
        "v_model = N_model - 1\n",
        "\n",
        "N = len(df['Tobacco'])\n",
        "v_total = N - 1\n",
        "v_error = v_total - v_model\n",
        "\n",
        "print (\"v_total, v_model, v_error = \", v_total,v_model,v_error)\n",
        "\n",
        "SS_total = (N-1)*df['Alcohol'].var()\n",
        "\n",
        "SS_model = r2*SS_total\n",
        "\n",
        "SS_error = SS_total - SS_model\n",
        "\n",
        "print (SS_total, SS_model, SS_error)\n",
        "\n",
        "# Proceed with normal ANOVA from here\n",
        "MS_model = SS_model/v_model\n",
        "MS_error = SS_error/v_error\n",
        "\n",
        "fSN = MS_model/MS_error\n",
        "\n",
        "print (\"F Signal/Noise = %0.2f \" % fSN)\n",
        "\n",
        "alpha = 0.05\n",
        "\n",
        "fdist = stats.f(v_model,v_error)\n",
        "fhigh = fdist.ppf(1-alpha)\n",
        "\n",
        "print (\"Critical F-value = %0.2f\" % (fhigh))\n",
        "\n",
        "pvalue = 1-fdist.cdf(fSN)\n",
        "    \n",
        "print (\"Pvalue = %0.3f\" % (pvalue))\n",
        "\n",
        "# print table\n",
        "\n",
        "print (\"Source     df     Sum of Squares Mean Square     f     P-value\")\n",
        "print (\"Model      %0.0f       %0.2f           %0.2f        %0.2f    %0.3f\" %(v_model,SS_model,MS_model,fSN,pvalue))\n",
        "print (\"Error      %0.0f       %0.2f           %0.2f\" %(v_error,SS_error,MS_error))\n",
        "print (\"Total      %0.0f       %0.2f\" %(v_total,SS_total))"
      ],
      "execution_count": null,
      "outputs": [
        {
          "output_type": "stream",
          "text": [
            "v_total, v_model, v_error =  10 1 9\n",
            "6.364254545454548 0.31811401944042395 6.046140526014124\n",
            "F Signal/Noise = 0.47 \n",
            "Critical F-value = 5.12\n",
            "Pvalue = 0.509\n",
            "Source     df     Sum of Squares Mean Square     f     P-value\n",
            "Model      1       0.32           0.32        0.47    0.509\n",
            "Error      9       6.05           0.67\n",
            "Total      10       6.36\n"
          ],
          "name": "stdout"
        }
      ]
    },
    {
      "cell_type": "code",
      "metadata": {
        "id": "liAcR06A-1tK",
        "colab_type": "code",
        "colab": {}
      },
      "source": [
        ""
      ],
      "execution_count": null,
      "outputs": []
    },
    {
      "cell_type": "code",
      "metadata": {
        "id": "PEokiIFt-1tM",
        "colab_type": "code",
        "colab": {}
      },
      "source": [
        ""
      ],
      "execution_count": null,
      "outputs": []
    }
  ]
}