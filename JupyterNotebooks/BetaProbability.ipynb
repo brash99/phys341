{
 "cells": [
  {
   "cell_type": "code",
   "execution_count": 3,
   "metadata": {},
   "outputs": [],
   "source": [
    "# Import the required packages, \n",
    "# with their conventional names \n",
    "import matplotlib.pyplot as plt \n",
    "import numpy as np \n",
    "import scipy.stats as stats"
   ]
  },
  {
   "cell_type": "markdown",
   "metadata": {},
   "source": [
    "We now turn to the situation where the mean of the population is NOT what we think it is.  In this case, we are hoping to detect this difference through our measurements.\n",
    "\n",
    "For this example, we will assume that $\\mu_{expected} = 100.0$ and that $\\mu_{actual} = 90.0$"
   ]
  },
  {
   "cell_type": "code",
   "execution_count": 5,
   "metadata": {},
   "outputs": [
    {
     "data": {
      "text/plain": [
       "[<matplotlib.lines.Line2D at 0x7f6326d2cfd0>]"
      ]
     },
     "execution_count": 5,
     "metadata": {},
     "output_type": "execute_result"
    },
    {
     "data": {
      "image/png": "[encoded data removed]",
      "text/plain": [
       "<Figure size 432x288 with 1 Axes>"
      ]
     },
     "metadata": {
      "needs_background": "light"
     },
     "output_type": "display_data"
    }
   ],
   "source": [
    "# Generate some data ... 5000 samples chosen from a Gaussian distribution with a mean of 100 and a sigma of 10.\n",
    "npts = 5000\n",
    "mu_actual = 90.0\n",
    "mu_expected = 100.0\n",
    "sigma = 10.0\n",
    "\n",
    "x_actual = stats.norm.rvs(size=npts,loc=mu_actual,scale=sigma)\n",
    "x_expected = stats.norm.rvs(size=npts,loc=mu_expected,scale=sigma)\n",
    "\n",
    "# calculate the sample mean, and the sample standard deviation (unbiased).\n",
    "xbar = np.mean(x_actual)\n",
    "stdev = np.std(x_actual,ddof=1)\n",
    "\n",
    "# create a plot that shows the histogram of the generated data, along with a curve of a Gaussian distribution based on the\n",
    "# expected mean.\n",
    "\n",
    "nbins = 100\n",
    "plt.hist(x_actual,nbins)\n",
    "\n",
    "bins=np.histogram(x_actual, bins=nbins)[1] #get the bin edges\n",
    "\n",
    "dx = (bins[len(bins)-1] - bins[0])/nbins\n",
    "\n",
    "amplitude = (npts*dx)/(np.sqrt(2*np.pi)*sigma)\n",
    "xa = -1.0*(bins-mu_actual)**2/(2.0*sigma**2)\n",
    "xe = -1.0*(bins-mu_expected)**2/(2.0*sigma**2)\n",
    "\n",
    "ya = amplitude*np.exp(xa)\n",
    "ye = amplitude*np.exp(xe)\n",
    "\n",
    "#plt.plot(bins,ya)\n",
    "plt.plot(bins,ye)\n"
   ]
  },
  {
   "cell_type": "markdown",
   "metadata": {},
   "source": [
    "As we can see from the plot, it is pretty easy to tell in this case that the distribution that we are sampling from has a different mean value that the one that we expect.  But, as the difference between the actual mean and the expected mean becomes smaller, it becomes much harder to tell."
   ]
  },
  {
   "cell_type": "markdown",
   "metadata": {},
   "source": [
    "We can understand what is going on better if again consider the notion of performing our experiment many times.  Each time, we will get a new value of $\\bar{x}$ from our sample.  We calculate a $z$ value for that sample, and then we can histogram all of the $z$ values, as before.  We now see that this histogram of the $z$ values is no longer a Gaussian with a centroid of zero, however, because we are sampling from a population that has a different mean than what we expect."
   ]
  },
  {
   "cell_type": "code",
   "execution_count": 3,
   "metadata": {},
   "outputs": [
    {
     "name": "stdout",
     "output_type": "stream",
     "text": [
      "Z critical =  -1.2815515655446004\n",
      "If we measure a value ABOVE z = z_critical, we will conclude that there is NOT a problem!!!\n"
     ]
    },
    {
     "data": {
      "text/plain": [
       "(array([ 0.,  0.,  0.,  0.,  0.,  0.,  0.,  0.,  0.,  0.,  0.,  0.,  0.,\n",
       "         0.,  0.,  0.,  0.,  0.,  0.,  0.,  0.,  0.,  0.,  0.,  0.,  0.,\n",
       "         0.,  0.,  0.,  0.,  0.,  0.,  0.,  0.,  0.,  0.,  0.,  0.,  0.,\n",
       "         0.,  0.,  0.,  0.,  0.,  0.,  0.,  0.,  0.,  0.,  0.,  0.,  0.,\n",
       "         0.,  0.,  0.,  0.,  0.,  0.,  0.,  0.,  0.,  0., 14., 16., 17.,\n",
       "        10., 19., 16., 14., 13., 10.,  9., 11.,  7.,  5.,  4.,  3.,  2.,\n",
       "         4.,  6.,  6.,  2.,  7.,  0.,  0.,  3.,  2.,  1.,  1.,  1.,  1.,\n",
       "         2.,  0.,  2.,  0.,  0.,  1.,  0.,  0.,  1.]),\n",
       " array([-4.9882677 , -4.92854766, -4.86882763, -4.80910759, -4.74938755,\n",
       "        -4.68966751, -4.62994747, -4.57022743, -4.51050739, -4.45078735,\n",
       "        -4.39106731, -4.33134727, -4.27162723, -4.21190719, -4.15218715,\n",
       "        -4.09246711, -4.03274707, -3.97302704, -3.913307  , -3.85358696,\n",
       "        -3.79386692, -3.73414688, -3.67442684, -3.6147068 , -3.55498676,\n",
       "        -3.49526672, -3.43554668, -3.37582664, -3.3161066 , -3.25638656,\n",
       "        -3.19666652, -3.13694649, -3.07722645, -3.01750641, -2.95778637,\n",
       "        -2.89806633, -2.83834629, -2.77862625, -2.71890621, -2.65918617,\n",
       "        -2.59946613, -2.53974609, -2.48002605, -2.42030601, -2.36058597,\n",
       "        -2.30086594, -2.2411459 , -2.18142586, -2.12170582, -2.06198578,\n",
       "        -2.00226574, -1.9425457 , -1.88282566, -1.82310562, -1.76338558,\n",
       "        -1.70366554, -1.6439455 , -1.58422546, -1.52450542, -1.46478539,\n",
       "        -1.40506535, -1.34534531, -1.28562527, -1.22590523, -1.16618519,\n",
       "        -1.10646515, -1.04674511, -0.98702507, -0.92730503, -0.86758499,\n",
       "        -0.80786495, -0.74814491, -0.68842487, -0.62870483, -0.5689848 ,\n",
       "        -0.50926476, -0.44954472, -0.38982468, -0.33010464, -0.2703846 ,\n",
       "        -0.21066456, -0.15094452, -0.09122448, -0.03150444,  0.0282156 ,\n",
       "         0.08793564,  0.14765568,  0.20737572,  0.26709575,  0.32681579,\n",
       "         0.38653583,  0.44625587,  0.50597591,  0.56569595,  0.62541599,\n",
       "         0.68513603,  0.74485607,  0.80457611,  0.86429615,  0.92401619,\n",
       "         0.98373623]),\n",
       " <a list of 100 Patch objects>)"
      ]
     },
     "execution_count": 3,
     "metadata": {},
     "output_type": "execute_result"
    },
    {
     "data": {
      "image/png": "[encoded data removed]",
      "text/plain": [
       "<Figure size 432x288 with 1 Axes>"
      ]
     },
     "metadata": {
      "needs_background": "light"
     },
     "output_type": "display_data"
    }
   ],
   "source": [
    "sem = sigma/np.sqrt(npts)\n",
    "alpha = 0.10\n",
    "zCritical = stats.norm.ppf(alpha)\n",
    "xbarLower = mu_expected + zCritical*sem\n",
    "\n",
    "print(\"Z critical = \",zCritical)\n",
    "print(\"If we measure a value ABOVE z = z_critical, we will conclude that there is NOT a problem!!!\")\n",
    "\n",
    "# We will take a sample of 3000 points from a Gaussian distribution with mu_actual=99.5 and sigma=10.0, \n",
    "# and each time we do this, we will calculate xbar.  Then, we will calculate the z value corresponding \n",
    "# to that value of xbar.   Finally, we will create a histogram of these z-values.\n",
    "\n",
    "mu_actual = 99.7\n",
    "\n",
    "xbararray = []\n",
    "\n",
    "# perform the experiment 10000 times\n",
    "for i in range(1000):\n",
    "    x = stats.norm.rvs(size=npts,loc=mu_actual,scale=sigma)\n",
    "    xbararray.append(np.mean(x))\n",
    "    \n",
    "xbararray = np.array(xbararray)\n",
    "\n",
    "# IMPORTANT!!! When we calculate the z value, we do so by comparing to the EXPECTED mean, mu_expected!!!\n",
    "zscorearray = (xbararray-mu_expected)/sem\n",
    "        \n",
    "zhigh = zscorearray[(zscorearray>zCritical)]\n",
    "\n",
    "bins=np.histogram(np.hstack((zscorearray,zhigh)), bins=nbins)[1] #get the bin edges\n",
    "\n",
    "plt.hist(zscorearray,bins)\n",
    "plt.hist(zhigh,bins)"
   ]
  },
  {
   "cell_type": "markdown",
   "metadata": {},
   "source": [
    "The area shown in orange in the plot above corresponds to the probability that we have measured a value of z above the (alpha) critical value, and thus will conclude that there is NOT a problem (i.e. that our data is consistent with $\\mu = 100.0$).  This probability is the TYPE II Error Probability, $\\beta$.\n",
    "\n",
    "In order to calculate this probability, $\\beta$, we need the integral of the z distribution that corresponds to $\\mu_{actual}$.  But, we do NOT know what $\\mu_{actual}$ is!!!  So, we can only calculate $\\beta$ as a function of $\\mu_{actual}$."
   ]
  },
  {
   "cell_type": "code",
   "execution_count": 7,
   "metadata": {},
   "outputs": [
    {
     "name": "stdout",
     "output_type": "stream",
     "text": [
      "mu_actual_guess, beta =  [99.4, 99.5, 99.60000000000001, 99.7, 99.80000000000001, 99.9] [0.0015327660944542965, 0.012098639482207907, 0.060946627821411026, 0.20051902120773057, 0.44723034964066755, 0.7171665726179017]\n"
     ]
    },
    {
     "data": {
      "image/png": "[encoded data removed]",
      "text/plain": [
       "<Figure size 432x288 with 6 Axes>"
      ]
     },
     "metadata": {
      "needs_background": "light"
     },
     "output_type": "display_data"
    },
    {
     "data": {
      "image/png": "[encoded data removed]",
      "text/plain": [
       "<Figure size 432x288 with 1 Axes>"
      ]
     },
     "metadata": {
      "needs_background": "light"
     },
     "output_type": "display_data"
    }
   ],
   "source": [
    "# IMPORTANT!!! When we calculate the z value, we do so by comparing to the EXPECTED mean, mu_expected!!!\n",
    "\n",
    "fig, axs = plt.subplots(2, 3)\n",
    "\n",
    "mu_actual_guess = []\n",
    "beta = []\n",
    "for i in range(6):\n",
    "    yp = int(i%3)\n",
    "    xp = int(i/3)\n",
    "    mu_actual_guess.append(99.4 + i*0.1)\n",
    "    \n",
    "    xbararray = []\n",
    "\n",
    "    # perform the experiment 1000 times\n",
    "    for j in range(1000):\n",
    "        x = stats.norm.rvs(size=npts,loc=mu_actual_guess[i],scale=sigma)\n",
    "        xbararray.append(np.mean(x))\n",
    "    \n",
    "    xbararray = np.array(xbararray)\n",
    "\n",
    "    zscorearray = (xbararray-mu_actual_guess[i])/sem\n",
    "\n",
    "    xbar_alpha = mu_expected + zCritical*sem\n",
    "    zbeta_critical = (xbar_alpha - mu_actual_guess[i])/sem\n",
    "        \n",
    "    zhigh = zscorearray[(zscorearray>zbeta_critical)]\n",
    "\n",
    "    bins=np.histogram(np.hstack((zscorearray,zhigh)), bins=nbins)[1] #get the bin edges\n",
    "\n",
    "    axs[xp,yp].hist(zscorearray,bins)\n",
    "    axs[xp,yp].hist(zhigh,bins)\n",
    "\n",
    "    beta.append(1.0 - stats.norm.cdf(zbeta_critical))\n",
    "    \n",
    "fig, axs = plt.subplots(1,1)\n",
    "axs.plot(mu_actual_guess,beta)\n",
    "    \n",
    "print(\"mu_actual_guess, beta = \",mu_actual_guess,beta)"
   ]
  },
  {
   "cell_type": "code",
   "execution_count": 21,
   "metadata": {},
   "outputs": [
    {
     "name": "stdout",
     "output_type": "stream",
     "text": [
      "-1.6448536269514729 0.8416212335729143 10.0 0.3\n",
      "N =  6869.508035577523\n"
     ]
    }
   ],
   "source": [
    "# Step 1:  Choose a value of alpha that you can live with\n",
    "\n",
    "alpha = 0.10\n",
    "\n",
    "# Step 2:  Choose a value of beta that you can live with\n",
    "\n",
    "beta = 0.20\n",
    "\n",
    "# Step 3:  Choose a sensitivity that you want to be able to detect - delta(mu)\n",
    "\n",
    "delta_mu = .3\n",
    "\n",
    "# Step 4:  Calculate z_alpha\n",
    "\n",
    "z_alpha = stats.norm.ppf(alpha/2)\n",
    "\n",
    "# Step 5:  Calculate z_beta\n",
    "\n",
    "z_beta = stats.norm.ppf(1-beta)\n",
    "\n",
    "# Step 6:  Calculate N\n",
    "\n",
    "N = (sigma*(z_beta-z_alpha)/delta_mu)**2\n",
    "\n",
    "print (z_alpha,z_beta,sigma,delta_mu)\n",
    "\n",
    "print(\"N = \",N)"
   ]
  },
  {
   "cell_type": "code",
   "execution_count": 26,
   "metadata": {},
   "outputs": [
    {
     "name": "stdout",
     "output_type": "stream",
     "text": [
      "Nobs =  6869.82859639288\n",
      "Delta_mu =  0.30001841941452045\n"
     ]
    }
   ],
   "source": [
    "from statsmodels.stats import power\n",
    "\n",
    "N = power.tt_ind_solve_power(effect_size = np.sqrt(2)*delta_mu/sigma, alpha=alpha, power=1-beta)\n",
    "\n",
    "print (\"Nobs = \",N)\n",
    "\n",
    "effect_size = power.tt_ind_solve_power(alpha=alpha, power=1-beta, nobs1=6869)\n",
    "\n",
    "print (\"Delta_mu = \",effect_size*sigma/np.sqrt(2))"
   ]
  },
  {
   "cell_type": "code",
   "execution_count": null,
   "metadata": {},
   "outputs": [],
   "source": []
  }
 ],
 "metadata": {
  "kernelspec": {
   "display_name": "Python 3",
   "language": "python",
   "name": "python3"
  },
  "language_info": {
   "codemirror_mode": {
    "name": "ipython",
    "version": 3
   },
   "file_extension": ".py",
   "mimetype": "text/x-python",
   "name": "python",
   "nbconvert_exporter": "python",
   "pygments_lexer": "ipython3",
   "version": "3.6.8"
  }
 },
 "nbformat": 4,
 "nbformat_minor": 2
}
