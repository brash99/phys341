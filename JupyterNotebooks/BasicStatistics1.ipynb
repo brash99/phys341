{
 "cells": [
  {
   "cell_type": "markdown",
   "metadata": {},
   "source": [
    "This notebook demonstrates some basic statistical principles - mean, median, mode, range, variance, and standard deviation."
   ]
  },
  {
   "cell_type": "code",
   "execution_count": 1,
   "metadata": {},
   "outputs": [],
   "source": [
    "# Import the required packages, \n",
    "# with their conventional names \n",
    "import matplotlib.pyplot as plt \n",
    "import numpy as np \n",
    "import scipy.stats as stats "
   ]
  },
  {
   "cell_type": "code",
   "execution_count": 4,
   "metadata": {},
   "outputs": [
    {
     "name": "stdout",
     "output_type": "stream",
     "text": [
      "[118.95067948 103.62516236  91.69999951 ...  97.03589358 104.41272748\n",
      " 115.11372432]\n"
     ]
    }
   ],
   "source": [
    "# Generate some data ... 10000 samples chosen from a Gaussian distribution with a mean of 100 and a sigma of 10.\n",
    "npts = 10000\n",
    "mu = 100.0\n",
    "sigma = 10.0\n",
    "\n",
    "x = stats.norm.rvs(size=npts,loc=mu,scale=sigma)\n",
    "\n",
    "print (x)"
   ]
  },
  {
   "cell_type": "code",
   "execution_count": 5,
   "metadata": {},
   "outputs": [
    {
     "data": {
      "text/plain": [
       "(array([  2.,   2.,   0.,   1.,   1.,   1.,   0.,   3.,   4.,   1.,   2.,\n",
       "          2.,   6.,   9.,   8.,  14.,  14.,  24.,  22.,  22.,  36.,  33.,\n",
       "         49.,  55.,  71.,  65.,  79.,  84., 127., 127., 113., 150., 151.,\n",
       "        166., 190., 196., 242., 243., 252., 266., 292., 301., 323., 346.,\n",
       "        345., 333., 347., 339., 274., 317., 322., 301., 320., 285., 285.,\n",
       "        254., 232., 207., 219., 183., 161., 159., 130., 140.,  98., 107.,\n",
       "         74.,  75.,  58.,  56.,  40.,  45.,  40.,  26.,  22.,  23.,  22.,\n",
       "         16.,  11.,   6.,  11.,   4.,   1.,   6.,   4.,   2.,   2.,   2.,\n",
       "          0.,   0.,   0.,   0.,   0.,   0.,   0.,   0.,   0.,   0.,   0.,\n",
       "          1.]), array([ 61.57109714,  62.39414843,  63.21719971,  64.04025099,\n",
       "         64.86330228,  65.68635356,  66.50940484,  67.33245612,\n",
       "         68.15550741,  68.97855869,  69.80160997,  70.62466125,\n",
       "         71.44771254,  72.27076382,  73.0938151 ,  73.91686638,\n",
       "         74.73991767,  75.56296895,  76.38602023,  77.20907151,\n",
       "         78.0321228 ,  78.85517408,  79.67822536,  80.50127664,\n",
       "         81.32432793,  82.14737921,  82.97043049,  83.79348177,\n",
       "         84.61653306,  85.43958434,  86.26263562,  87.0856869 ,\n",
       "         87.90873819,  88.73178947,  89.55484075,  90.37789203,\n",
       "         91.20094332,  92.0239946 ,  92.84704588,  93.67009716,\n",
       "         94.49314845,  95.31619973,  96.13925101,  96.96230229,\n",
       "         97.78535358,  98.60840486,  99.43145614, 100.25450742,\n",
       "        101.07755871, 101.90060999, 102.72366127, 103.54671255,\n",
       "        104.36976384, 105.19281512, 106.0158664 , 106.83891768,\n",
       "        107.66196897, 108.48502025, 109.30807153, 110.13112282,\n",
       "        110.9541741 , 111.77722538, 112.60027666, 113.42332795,\n",
       "        114.24637923, 115.06943051, 115.89248179, 116.71553308,\n",
       "        117.53858436, 118.36163564, 119.18468692, 120.00773821,\n",
       "        120.83078949, 121.65384077, 122.47689205, 123.29994334,\n",
       "        124.12299462, 124.9460459 , 125.76909718, 126.59214847,\n",
       "        127.41519975, 128.23825103, 129.06130231, 129.8843536 ,\n",
       "        130.70740488, 131.53045616, 132.35350744, 133.17655873,\n",
       "        133.99961001, 134.82266129, 135.64571257, 136.46876386,\n",
       "        137.29181514, 138.11486642, 138.9379177 , 139.76096899,\n",
       "        140.58402027, 141.40707155, 142.23012283, 143.05317412,\n",
       "        143.8762254 ]), <a list of 100 Patch objects>)"
      ]
     },
     "execution_count": 5,
     "metadata": {},
     "output_type": "execute_result"
    },
    {
     "data": {
      "image/png": "[encoded data removed]",
      "text/plain": [
       "<Figure size 432x288 with 1 Axes>"
      ]
     },
     "metadata": {
      "needs_background": "light"
     },
     "output_type": "display_data"
    }
   ],
   "source": [
    "# Plot a histogram of the data\n",
    "numbins = 100\n",
    "plt.hist(x, bins=numbins)\n",
    "\n",
    "# The information printed out is as follows:\n",
    "#\n",
    "# The first array is the number of entries in each bin.\n",
    "# The second array gives the x-values of the EDGES of the bins, which are\n",
    "# determined automatically by matplotlib.pyplot/numpy.  Thus, there are (numbins+1) values in this array."
   ]
  },
  {
   "cell_type": "code",
   "execution_count": 6,
   "metadata": {},
   "outputs": [
    {
     "name": "stdout",
     "output_type": "stream",
     "text": [
      "Sample mean =  100.03706864010499\n",
      "\n",
      "I wonder how many of those decimal places are meaningful?\n"
     ]
    }
   ],
   "source": [
    "# calculate the sample mean ... this is the mathematical average of the all of the data points.\n",
    "# Note that this number is not exactly 100!  The reason is that the sample mean is an ESTIMATE\n",
    "# of the true mean (100.0) which is based on the actual data.\n",
    "\n",
    "xbar = np.mean(x)\n",
    "print (\"Sample mean = \",xbar)\n",
    "\n",
    "print()\n",
    "print (\"I wonder how many of those decimal places are meaningful?\")"
   ]
  },
  {
   "cell_type": "code",
   "execution_count": 7,
   "metadata": {},
   "outputs": [
    {
     "name": "stdout",
     "output_type": "stream",
     "text": [
      "Sample median =  99.95307699806001\n"
     ]
    }
   ],
   "source": [
    "# calculate the sample median ... this is the value of x that has as many points below as above.  For a symmetric\n",
    "# distribution like the Gaussian, we would expect the mean and median to be the same number.\n",
    "#\n",
    "# Note that they are NOT the same number, precisely!  The median is thus another ESTIMATE of the true mean (100.0).\n",
    "\n",
    "xmed = np.median(x)\n",
    "print (\"Sample median = \",xmed)"
   ]
  },
  {
   "cell_type": "code",
   "execution_count": 8,
   "metadata": {},
   "outputs": [
    {
     "name": "stdout",
     "output_type": "stream",
     "text": [
      "[  2   2   0   1   1   1   0   3   4   1   2   2   6   9   8  14  14  24\n",
      "  22  22  36  33  49  55  71  65  79  84 127 127 113 150 151 166 190 196\n",
      " 242 243 252 266 292 301 323 346 345 333 347 339 274 317 322 301 320 285\n",
      " 285 254 232 207 219 183 161 159 130 140  98 107  74  75  58  56  40  45\n",
      "  40  26  22  23  22  16  11   6  11   4   1   6   4   2   2   2   0   0\n",
      "   0   0   0   0   0   0   0   0   0   1] [ 61.57109714  62.39414843  63.21719971  64.04025099  64.86330228\n",
      "  65.68635356  66.50940484  67.33245612  68.15550741  68.97855869\n",
      "  69.80160997  70.62466125  71.44771254  72.27076382  73.0938151\n",
      "  73.91686638  74.73991767  75.56296895  76.38602023  77.20907151\n",
      "  78.0321228   78.85517408  79.67822536  80.50127664  81.32432793\n",
      "  82.14737921  82.97043049  83.79348177  84.61653306  85.43958434\n",
      "  86.26263562  87.0856869   87.90873819  88.73178947  89.55484075\n",
      "  90.37789203  91.20094332  92.0239946   92.84704588  93.67009716\n",
      "  94.49314845  95.31619973  96.13925101  96.96230229  97.78535358\n",
      "  98.60840486  99.43145614 100.25450742 101.07755871 101.90060999\n",
      " 102.72366127 103.54671255 104.36976384 105.19281512 106.0158664\n",
      " 106.83891768 107.66196897 108.48502025 109.30807153 110.13112282\n",
      " 110.9541741  111.77722538 112.60027666 113.42332795 114.24637923\n",
      " 115.06943051 115.89248179 116.71553308 117.53858436 118.36163564\n",
      " 119.18468692 120.00773821 120.83078949 121.65384077 122.47689205\n",
      " 123.29994334 124.12299462 124.9460459  125.76909718 126.59214847\n",
      " 127.41519975 128.23825103 129.06130231 129.8843536  130.70740488\n",
      " 131.53045616 132.35350744 133.17655873 133.99961001 134.82266129\n",
      " 135.64571257 136.46876386 137.29181514 138.11486642 138.9379177\n",
      " 139.76096899 140.58402027 141.40707155 142.23012283 143.05317412\n",
      " 143.8762254 ]\n",
      "[46]\n",
      "Sample mode =  [99.84298178]\n"
     ]
    }
   ],
   "source": [
    "# calculate the sample mode ... The mode is the value of x that is the \"most popular\".  If we look at the plot\n",
    "# plot above, that would correspond to the bin with the largest number of counts in it.  But, of course, that \n",
    "# is dependent on how we bin the data, right?  So, calculating the mode is a bit more complicated than calculating\n",
    "# the mean or the median.  In other words, our estimate of the value of the mode depends on HOW WE BIN THE DATA!!!!\n",
    "#\n",
    "# For a symmetric distribution, like the Gaussian, the mode is yet another ESTIMATE of the true mean (100.0).\n",
    "# For an asymmetric distribution, the sample mean, sample median, and sample mode can be quite different numbers!\n",
    "\n",
    "# We start by creating a histogram ARRAY (which was actually done behind the scenes for creating the plot above)\n",
    "\n",
    "xhist = np.histogram(x,numbins)\n",
    "print(xhist[0],xhist[1])\n",
    "\n",
    "# xhist[0] contains the number of entries in each bin\n",
    "# xhist[1] contains the x-values of the EDGES of the bins.  This means that there are (numbins+1) elements in\n",
    "# this array.\n",
    "#\n",
    "# Next, we find the index of the bin that has the maximum entries:\n",
    "\n",
    "index = np.where(xhist[0] == np.amax(xhist[0]))\n",
    "print (index[0])\n",
    "\n",
    "# Finally, we find the mode by calculating the central value of the bin associated with the maximum entries.\n",
    "\n",
    "xmode = (xhist[1][index[0]] + xhist[1][index[0]+1])/2.0\n",
    "\n",
    "print (\"Sample mode = \",xmode)\n"
   ]
  },
  {
   "cell_type": "code",
   "execution_count": 9,
   "metadata": {},
   "outputs": [
    {
     "name": "stdout",
     "output_type": "stream",
     "text": [
      "Sample range =  82.30512825465215\n"
     ]
    }
   ],
   "source": [
    "# calculate the sample range ... this is the difference between the max and min values.\n",
    "\n",
    "xrange = np.ptp(x)\n",
    "print (\"Sample range = \",xrange)"
   ]
  },
  {
   "cell_type": "code",
   "execution_count": 10,
   "metadata": {},
   "outputs": [
    {
     "name": "stdout",
     "output_type": "stream",
     "text": [
      "Biased Sample Variance =  99.35957363351139\n",
      "Biased Sample Standard Deviation =  9.967927248606472\n",
      "Unbiased Sample Variance =  99.36951058456984\n",
      "Unbiased Sample Standard Deviation =  9.968425682351745\n"
     ]
    }
   ],
   "source": [
    "# calculate the sample variance and sample standard deviation\n",
    "#\n",
    "# NOTE:  the default variance and stdev methods in numpy calculate the BIASED versions!!! Yikes!!!! In general,\n",
    "#        you should not use these!!!\n",
    "\n",
    "variance = np.var(x)\n",
    "stdev = np.std(x)\n",
    "\n",
    "print (\"Biased Sample Variance = \",variance)\n",
    "print (\"Biased Sample Standard Deviation = \",stdev)\n",
    "\n",
    "# Calculate the UNBIASED variance and standard deviations.  \n",
    "\n",
    "variance = np.var(x,ddof=1)\n",
    "stdev = np.std(x,ddof=1)\n",
    "\n",
    "print (\"Unbiased Sample Variance = \",variance)\n",
    "print (\"Unbiased Sample Standard Deviation = \",stdev)"
   ]
  },
  {
   "cell_type": "code",
   "execution_count": 11,
   "metadata": {},
   "outputs": [
    {
     "name": "stdout",
     "output_type": "stream",
     "text": [
      "Variances =  99.35957363351159 99.36951058457004 99.37944952341627\n",
      "Std. Devs =  9.967927248606482 9.968425682351754 9.968924190875175\n"
     ]
    }
   ],
   "source": [
    "# calculate the biased (N), unbiased (N-1), and overly biased (N-2) variances by hand:\n",
    "\n",
    "vsum = 0.0\n",
    "for i in range(len(x)):\n",
    "    vsum = vsum + (x[i]-xbar)**2\n",
    "    \n",
    "variance_b = vsum/npts\n",
    "variance_ub = vsum/(npts-1)\n",
    "variance_ob = vsum/(npts-2)\n",
    "\n",
    "print (\"Variances = \",variance_b,variance_ub,variance_ob)\n",
    "\n",
    "print (\"Std. Devs = \",np.sqrt(variance_b),np.sqrt(variance_ub),np.sqrt(variance_ob))"
   ]
  },
  {
   "cell_type": "code",
   "execution_count": 13,
   "metadata": {},
   "outputs": [
    {
     "name": "stdout",
     "output_type": "stream",
     "text": [
      "8.364128179431114 9.351379590864767 10.798043048160288\n"
     ]
    },
    {
     "data": {
      "image/png": "[encoded data removed]",
      "text/plain": [
       "<Figure size 432x288 with 1 Axes>"
      ]
     },
     "metadata": {
      "needs_background": "light"
     },
     "output_type": "display_data"
    }
   ],
   "source": [
    "# write a loop to calculate the biased, unbiased, and overly biased variances/stdevs of a series of many samples,\n",
    "# for comparision with one another\n",
    "\n",
    "# create some lists to hold the sample standard deviations at each iteration of the loop\n",
    "sb = []\n",
    "sub = []\n",
    "sob = []\n",
    "\n",
    "# do the experiment 2000 times\n",
    "for j in range(2000):\n",
    "    # Sample a Gaussian with mean of 100.0 and a standard deviation of 10.0 ... 5 times.\n",
    "    npts = 5\n",
    "    mu = 100.0\n",
    "    sigma = 10.0\n",
    "\n",
    "    x = stats.norm.rvs(size=npts,loc=mu,scale=sigma)\n",
    "    \n",
    "    # calculate the sample mean (5 samples)\n",
    "    xbar = np.mean(x)\n",
    "\n",
    "    # calculate the variance by hand\n",
    "    vsum = 0.0\n",
    "    for i in range(len(x)):\n",
    "        vsum = vsum + (x[i]-xbar)**2\n",
    "    \n",
    "    # calculate the variance in three ways - biased (N), unbiased (N-1), and overly biased (N-2)\n",
    "    variance_b = vsum/npts\n",
    "    variance_ub = vsum/(npts-1)\n",
    "    variance_ob = vsum/(npts-2)\n",
    "\n",
    "    # calculate the standard deviation three ways\n",
    "    sb.append(np.sqrt(variance_b))\n",
    "    sub.append(np.sqrt(variance_ub))\n",
    "    sob.append(np.sqrt(variance_ob))\n",
    "\n",
    "# convert this lists to numpy arrays\n",
    "sb = np.array(sb)\n",
    "sub = np.array(sub)\n",
    "sob = np.array(sob)\n",
    "\n",
    "# plot histograms of the standard deviations for all 2000 experiments\n",
    "# The unbiased version is plotted in solid blue, and the others are plotted as line plots for better visualization.\n",
    "#\n",
    "plt.hist(sub,bins=20)\n",
    "plt.hist(sb,bins=20,histtype='step')\n",
    "plt.hist(sob,bins=20,histtype='step')\n",
    "\n",
    "# compare the means of the calculated standard deviations ... NOTE:  The UNBIASED method gives the best estimate!\n",
    "print(np.mean(sb),np.mean(sub),np.mean(sob))"
   ]
  },
  {
   "cell_type": "code",
   "execution_count": null,
   "metadata": {},
   "outputs": [],
   "source": []
  },
  {
   "cell_type": "code",
   "execution_count": null,
   "metadata": {},
   "outputs": [],
   "source": []
  }
 ],
 "metadata": {
  "kernelspec": {
   "display_name": "Python 3",
   "language": "python",
   "name": "python3"
  },
  "language_info": {
   "codemirror_mode": {
    "name": "ipython",
    "version": 3
   },
   "file_extension": ".py",
   "mimetype": "text/x-python",
   "name": "python",
   "nbconvert_exporter": "python",
   "pygments_lexer": "ipython3",
   "version": "3.6.8"
  }
 },
 "nbformat": 4,
 "nbformat_minor": 2
}
