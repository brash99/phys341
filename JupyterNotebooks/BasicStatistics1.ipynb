{
 "cells": [
  {
   "cell_type": "markdown",
   "metadata": {},
   "source": [
    "This notebook demonstrates some basic statistical principles - mean, median, mode, range, variance, and standard deviation."
   ]
  },
  {
   "cell_type": "code",
   "execution_count": 11,
   "metadata": {},
   "outputs": [],
   "source": [
    "# Import the required packages, \n",
    "# with their conventional names \n",
    "import matplotlib.pyplot as plt \n",
    "import numpy as np \n",
    "import scipy.stats as stats \n",
    "\n",
    "dark_mode = True\n",
    "# plotting choices for dark-mode\n",
    "if (dark_mode):\n",
    "    from jupyterthemes import jtplot\n",
    "    jtplot.style(theme='monokai', context='notebook', ticks=True, grid=False)\n",
    "    linecolor = 'w'\n",
    "else:\n",
    "    linecolor = 'k'"
   ]
  },
  {
   "cell_type": "code",
   "execution_count": 17,
   "metadata": {},
   "outputs": [
    {
     "name": "stdout",
     "output_type": "stream",
     "text": [
      "[50.41792417 59.54420951 59.23941869 ... 53.76393428 61.68310844\n",
      " 58.07106615]\n"
     ]
    }
   ],
   "source": [
    "# Generate some data ... 10000 samples chosen from a Gaussian distribution with a mean of 100 and a sigma of 10.\n",
    "npts = 10000\n",
    "mu = 55.74\n",
    "sigma = 7.86\n",
    "\n",
    "x = stats.norm.rvs(size=npts,loc=mu,scale=sigma)\n",
    "\n",
    "print (x)"
   ]
  },
  {
   "cell_type": "code",
   "execution_count": 18,
   "metadata": {},
   "outputs": [
    {
     "data": {
      "text/plain": [
       "(array([  1.,   1.,   0.,   0.,   0.,   0.,   0.,   0.,   0.,   1.,   0.,\n",
       "          0.,   0.,   3.,   2.,   4.,   5.,   3.,   5.,   9.,  13.,  12.,\n",
       "         11.,  15.,  24.,  21.,  37.,  39.,  41.,  46.,  62.,  50.,  73.,\n",
       "         83., 110., 109., 102., 139., 164., 154., 162., 189., 198., 225.,\n",
       "        253., 234., 242., 276., 285., 269., 283., 292., 282., 266., 276.,\n",
       "        323., 296., 282., 272., 288., 251., 264., 251., 231., 207., 202.,\n",
       "        197., 189., 185., 169., 153., 167., 131., 105., 107.,  92.,  88.,\n",
       "         71.,  51.,  49.,  44.,  44.,  28.,  42.,  27.,  28.,  15.,  15.,\n",
       "         14.,   8.,  12.,   8.,   6.,   3.,   5.,   3.,   4.,   1.,   0.,\n",
       "          1.]),\n",
       " array([22.88374217, 23.4810022 , 24.07826223, 24.67552226, 25.27278229,\n",
       "        25.87004231, 26.46730234, 27.06456237, 27.6618224 , 28.25908243,\n",
       "        28.85634246, 29.45360249, 30.05086252, 30.64812255, 31.24538257,\n",
       "        31.8426426 , 32.43990263, 33.03716266, 33.63442269, 34.23168272,\n",
       "        34.82894275, 35.42620278, 36.02346281, 36.62072283, 37.21798286,\n",
       "        37.81524289, 38.41250292, 39.00976295, 39.60702298, 40.20428301,\n",
       "        40.80154304, 41.39880307, 41.99606309, 42.59332312, 43.19058315,\n",
       "        43.78784318, 44.38510321, 44.98236324, 45.57962327, 46.1768833 ,\n",
       "        46.77414333, 47.37140335, 47.96866338, 48.56592341, 49.16318344,\n",
       "        49.76044347, 50.3577035 , 50.95496353, 51.55222356, 52.14948359,\n",
       "        52.74674361, 53.34400364, 53.94126367, 54.5385237 , 55.13578373,\n",
       "        55.73304376, 56.33030379, 56.92756382, 57.52482385, 58.12208387,\n",
       "        58.7193439 , 59.31660393, 59.91386396, 60.51112399, 61.10838402,\n",
       "        61.70564405, 62.30290408, 62.90016411, 63.49742413, 64.09468416,\n",
       "        64.69194419, 65.28920422, 65.88646425, 66.48372428, 67.08098431,\n",
       "        67.67824434, 68.27550437, 68.87276439, 69.47002442, 70.06728445,\n",
       "        70.66454448, 71.26180451, 71.85906454, 72.45632457, 73.0535846 ,\n",
       "        73.65084463, 74.24810465, 74.84536468, 75.44262471, 76.03988474,\n",
       "        76.63714477, 77.2344048 , 77.83166483, 78.42892486, 79.02618489,\n",
       "        79.62344491, 80.22070494, 80.81796497, 81.415225  , 82.01248503,\n",
       "        82.60974506]),\n",
       " <a list of 100 Patch objects>)"
      ]
     },
     "execution_count": 18,
     "metadata": {},
     "output_type": "execute_result"
    },
    {
     "data": {
      "image/png": "[encoded data removed]",
      "text/plain": [
       "<Figure size 640x480 with 1 Axes>"
      ]
     },
     "metadata": {},
     "output_type": "display_data"
    }
   ],
   "source": [
    "# Plot a histogram of the data\n",
    "numbins = 100\n",
    "plt.figure(figsize=(8, 6), dpi=80)\n",
    "plt.hist(x, bins=numbins)\n",
    "\n",
    "# The information printed out is as follows:\n",
    "#\n",
    "# The first array is the number of entries in each bin.\n",
    "# The second array gives the x-values of the EDGES of the bins, which are\n",
    "# determined automatically by matplotlib.pyplot/numpy.  Thus, there are (numbins+1) values in this array."
   ]
  },
  {
   "cell_type": "code",
   "execution_count": 19,
   "metadata": {},
   "outputs": [
    {
     "name": "stdout",
     "output_type": "stream",
     "text": [
      "Sample mean =  55.62281212500051\n",
      "\n",
      "I wonder how many of those decimal places are meaningful?\n"
     ]
    }
   ],
   "source": [
    "# calculate the sample mean ... this is the mathematical average of the all of the data points.\n",
    "# Note that this number is not exactly 100!  The reason is that the sample mean is an ESTIMATE\n",
    "# of the true mean (100.0) which is based on the actual data.\n",
    "\n",
    "xbar = np.mean(x)\n",
    "print (\"Sample mean = \",xbar)\n",
    "\n",
    "print()\n",
    "print (\"I wonder how many of those decimal places are meaningful?\")"
   ]
  },
  {
   "cell_type": "code",
   "execution_count": 5,
   "metadata": {},
   "outputs": [
    {
     "name": "stdout",
     "output_type": "stream",
     "text": [
      "Sample median =  55.19506497842593\n"
     ]
    }
   ],
   "source": [
    "# calculate the sample median ... this is the value of x that has as many points below as above.  For a symmetric\n",
    "# distribution like the Gaussian, we would expect the mean and median to be the same number.\n",
    "#\n",
    "# Note that they are NOT the same number, precisely!  The median is thus another ESTIMATE of the true mean (100.0).\n",
    "\n",
    "xmed = np.median(x)\n",
    "print (\"Sample median = \",xmed)"
   ]
  },
  {
   "cell_type": "code",
   "execution_count": 6,
   "metadata": {},
   "outputs": [
    {
     "name": "stdout",
     "output_type": "stream",
     "text": [
      "[1 0 0 0 1 0 1 0 1 1 0 1 0 0 0 1 0 2 3 1 1 0 0 3 4 0 1 1 1 2 3 2 3 1 3 3 1\n",
      " 2 0 3 2 3 2 3 2 1 1 6 2 2 1 0 1 1 2 2 0 1 1 2 0 1 1 0 0 2 0 1 1 0 2 1 0 0\n",
      " 0 0 0 0 0 1 0 1 0 0 1 2 0 0 1 1 0 0 0 0 0 0 0 0 1 1] [40.10199689 40.46553072 40.82906455 41.19259839 41.55613222 41.91966606\n",
      " 42.28319989 42.64673373 43.01026756 43.37380139 43.73733523 44.10086906\n",
      " 44.4644029  44.82793673 45.19147057 45.5550044  45.91853824 46.28207207\n",
      " 46.6456059  47.00913974 47.37267357 47.73620741 48.09974124 48.46327508\n",
      " 48.82680891 49.19034274 49.55387658 49.91741041 50.28094425 50.64447808\n",
      " 51.00801192 51.37154575 51.73507958 52.09861342 52.46214725 52.82568109\n",
      " 53.18921492 53.55274876 53.91628259 54.27981642 54.64335026 55.00688409\n",
      " 55.37041793 55.73395176 56.0974856  56.46101943 56.82455327 57.1880871\n",
      " 57.55162093 57.91515477 58.2786886  58.64222244 59.00575627 59.36929011\n",
      " 59.73282394 60.09635777 60.45989161 60.82342544 61.18695928 61.55049311\n",
      " 61.91402695 62.27756078 62.64109461 63.00462845 63.36816228 63.73169612\n",
      " 64.09522995 64.45876379 64.82229762 65.18583145 65.54936529 65.91289912\n",
      " 66.27643296 66.63996679 67.00350063 67.36703446 67.7305683  68.09410213\n",
      " 68.45763596 68.8211698  69.18470363 69.54823747 69.9117713  70.27530514\n",
      " 70.63883897 71.0023728  71.36590664 71.72944047 72.09297431 72.45650814\n",
      " 72.82004198 73.18357581 73.54710964 73.91064348 74.27417731 74.63771115\n",
      " 75.00124498 75.36477882 75.72831265 76.09184648 76.45538032]\n",
      "[47]\n",
      "Sample mode =  [57.36985402]\n"
     ]
    }
   ],
   "source": [
    "# calculate the sample mode ... The mode is the value of x that is the \"most popular\".  If we look at the plot\n",
    "# plot above, that would correspond to the bin with the largest number of counts in it.  But, of course, that \n",
    "# is dependent on how we bin the data, right?  So, calculating the mode is a bit more complicated than calculating\n",
    "# the mean or the median.  In other words, our estimate of the value of the mode depends on HOW WE BIN THE DATA!!!!\n",
    "#\n",
    "# For a symmetric distribution, like the Gaussian, the mode is yet another ESTIMATE of the true mean (100.0).\n",
    "# For an asymmetric distribution, the sample mean, sample median, and sample mode can be quite different numbers!\n",
    "\n",
    "# We start by creating a histogram ARRAY (which was actually done behind the scenes for creating the plot above)\n",
    "\n",
    "xhist = np.histogram(x,numbins)\n",
    "print(xhist[0],xhist[1])\n",
    "\n",
    "# xhist[0] contains the number of entries in each bin\n",
    "# xhist[1] contains the x-values of the EDGES of the bins.  This means that there are (numbins+1) elements in\n",
    "# this array.\n",
    "#\n",
    "# Next, we find the index of the bin that has the maximum entries:\n",
    "\n",
    "index = np.where(xhist[0] == np.amax(xhist[0]))\n",
    "print (index[0])\n",
    "\n",
    "# Finally, we find the mode by calculating the central value of the bin associated with the maximum entries.\n",
    "\n",
    "xmode = (xhist[1][index[0]] + xhist[1][index[0]+1])/2.0\n",
    "\n",
    "print (\"Sample mode = \",xmode)\n"
   ]
  },
  {
   "cell_type": "code",
   "execution_count": 7,
   "metadata": {},
   "outputs": [
    {
     "name": "stdout",
     "output_type": "stream",
     "text": [
      "Sample range =  36.353383433606794\n"
     ]
    }
   ],
   "source": [
    "# calculate the sample range ... this is the difference between the max and min values.\n",
    "\n",
    "xrange = np.ptp(x)\n",
    "print (\"Sample range = \",xrange)"
   ]
  },
  {
   "cell_type": "code",
   "execution_count": 8,
   "metadata": {},
   "outputs": [
    {
     "name": "stdout",
     "output_type": "stream",
     "text": [
      "Biased Sample Variance =  58.478096087048996\n",
      "Biased Sample Standard Deviation =  7.647097232744526\n",
      "Unbiased Sample Variance =  59.06878392631212\n",
      "Unbiased Sample Standard Deviation =  7.685621895872326\n"
     ]
    }
   ],
   "source": [
    "# calculate the sample variance and sample standard deviation\n",
    "#\n",
    "# NOTE:  the default variance and stdev methods in numpy calculate the BIASED versions!!! Yikes!!!! In general,\n",
    "#        you should not use these!!!\n",
    "\n",
    "variance = np.var(x)\n",
    "stdev = np.std(x)\n",
    "\n",
    "print (\"Biased Sample Variance = \",variance)\n",
    "print (\"Biased Sample Standard Deviation = \",stdev)\n",
    "\n",
    "# Calculate the UNBIASED variance and standard deviations.  \n",
    "\n",
    "variance = np.var(x,ddof=1)\n",
    "stdev = np.std(x,ddof=1)\n",
    "\n",
    "print (\"Unbiased Sample Variance = \",variance)\n",
    "print (\"Unbiased Sample Standard Deviation = \",stdev)"
   ]
  },
  {
   "cell_type": "code",
   "execution_count": 9,
   "metadata": {},
   "outputs": [
    {
     "name": "stdout",
     "output_type": "stream",
     "text": [
      "Variances =  58.47809608704898 59.0687839263121 59.671526619437735\n",
      "Std. Devs =  7.6470972327445255 7.685621895872324 7.724734728095052\n"
     ]
    }
   ],
   "source": [
    "# calculate the biased (N), unbiased (N-1), and overly biased (N-2) variances by hand:\n",
    "\n",
    "vsum = 0.0\n",
    "for i in range(len(x)):\n",
    "    vsum = vsum + (x[i]-xbar)**2\n",
    "    \n",
    "variance_b = vsum/npts\n",
    "variance_ub = vsum/(npts-1)\n",
    "variance_ob = vsum/(npts-2)\n",
    "\n",
    "print (\"Variances = \",variance_b,variance_ub,variance_ob)\n",
    "\n",
    "print (\"Std. Devs = \",np.sqrt(variance_b),np.sqrt(variance_ub),np.sqrt(variance_ob))"
   ]
  },
  {
   "cell_type": "code",
   "execution_count": 10,
   "metadata": {},
   "outputs": [
    {
     "name": "stdout",
     "output_type": "stream",
     "text": [
      "8.51349411643202 9.51837578519325 10.990873643658679\n"
     ]
    },
    {
     "data": {
      "image/png": "[encoded data removed]",
      "text/plain": [
       "<Figure size 432x288 with 1 Axes>"
      ]
     },
     "metadata": {
      "needs_background": "light"
     },
     "output_type": "display_data"
    }
   ],
   "source": [
    "# write a loop to calculate the biased, unbiased, and overly biased variances/stdevs of a series of many samples,\n",
    "# for comparision with one another\n",
    "\n",
    "# create some lists to hold the sample standard deviations at each iteration of the loop\n",
    "sb = []\n",
    "sub = []\n",
    "sob = []\n",
    "\n",
    "# do the experiment 2000 times\n",
    "for j in range(2000):\n",
    "    # Sample a Gaussian with mean of 100.0 and a standard deviation of 10.0 ... 5 times.\n",
    "    npts = 5\n",
    "    mu = 100.0\n",
    "    sigma = 10.0\n",
    "\n",
    "    x = stats.norm.rvs(size=npts,loc=mu,scale=sigma)\n",
    "    \n",
    "    # calculate the sample mean (5 samples)\n",
    "    xbar = np.mean(x)\n",
    "\n",
    "    # calculate the variance by hand\n",
    "    vsum = 0.0\n",
    "    for i in range(len(x)):\n",
    "        vsum = vsum + (x[i]-xbar)**2\n",
    "    \n",
    "    # calculate the variance in three ways - biased (N), unbiased (N-1), and overly biased (N-2)\n",
    "    variance_b = vsum/npts\n",
    "    variance_ub = vsum/(npts-1)\n",
    "    variance_ob = vsum/(npts-2)\n",
    "\n",
    "    # calculate the standard deviation three ways\n",
    "    sb.append(np.sqrt(variance_b))\n",
    "    sub.append(np.sqrt(variance_ub))\n",
    "    sob.append(np.sqrt(variance_ob))\n",
    "\n",
    "# convert this lists to numpy arrays\n",
    "sb = np.array(sb)\n",
    "sub = np.array(sub)\n",
    "sob = np.array(sob)\n",
    "\n",
    "# plot histograms of the standard deviations for all 2000 experiments\n",
    "# The unbiased version is plotted in solid blue, and the others are plotted as line plots for better visualization.\n",
    "#\n",
    "plt.hist(sub,bins=20)\n",
    "plt.hist(sb,bins=20,histtype='step')\n",
    "plt.hist(sob,bins=20,histtype='step')\n",
    "\n",
    "# compare the means of the calculated standard deviations ... NOTE:  The UNBIASED method gives the best estimate!\n",
    "print(np.mean(sb),np.mean(sub),np.mean(sob))"
   ]
  },
  {
   "cell_type": "code",
   "execution_count": null,
   "metadata": {},
   "outputs": [],
   "source": []
  },
  {
   "cell_type": "code",
   "execution_count": null,
   "metadata": {},
   "outputs": [],
   "source": []
  }
 ],
 "metadata": {
  "kernelspec": {
   "display_name": "Python 3",
   "language": "python",
   "name": "python3"
  },
  "language_info": {
   "codemirror_mode": {
    "name": "ipython",
    "version": 3
   },
   "file_extension": ".py",
   "mimetype": "text/x-python",
   "name": "python",
   "nbconvert_exporter": "python",
   "pygments_lexer": "ipython3",
   "version": "3.6.8"
  },
  "latex_envs": {
   "LaTeX_envs_menu_present": true,
   "autoclose": false,
   "autocomplete": true,
   "bibliofile": "biblio.bib",
   "cite_by": "apalike",
   "current_citInitial": 1,
   "eqLabelWithNumbers": true,
   "eqNumInitial": 1,
   "hotkeys": {
    "equation": "Ctrl-E",
    "itemize": "Ctrl-I"
   },
   "labels_anchors": false,
   "latex_user_defs": false,
   "report_style_numbering": false,
   "user_envs_cfg": false
  }
 },
 "nbformat": 4,
 "nbformat_minor": 2
}
