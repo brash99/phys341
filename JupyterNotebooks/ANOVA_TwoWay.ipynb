{
 "cells": [
  {
   "cell_type": "markdown",
   "metadata": {},
   "source": [
    "# Two-way Analysis of Variance\n",
    "\n",
    "In the vast majority of experiments, there exist more than one treatment factor.  This may be by design, or unintentional.  For example, we may be interested in the yield of some chemical process as a function of BOTH the temperature AND the pressure, and we would collect data for a range of temperatures and pressures.  Or, we might be studying some disease process where there are a multitude of factors (age, sex, race, weight, height, etc.) that could affect the data.  We might only be interested in understanding the dependence on age, but of course we need to take into account all of the other factors.  Moreover, we need to consider the CORRELATION between various factors.  Two-way ANOVA is designed to allow us to carry out this type of analysis.\n",
    "\n",
    "Suppose that we have an experiment that depends on two factors, $A$ and $B$.  Our data collection might look like this:\n",
    "\n",
    "Number of groups associated with factor $A = a$\n",
    "\n",
    "Number of groups associated with factor $B = b$\n",
    "\n",
    "Number of settings of the experiment = $ab$\n",
    "\n",
    "Number of data points for each setting $A/B$ of the experiment = $n$\n",
    "\n",
    "Total number of data points = $N = n \\cdot a \\cdot b$\n",
    "\n",
    "The various relevant degrees of freedom are calculated as follows:\n",
    "\n",
    "$\\nu_A = a - 1$\n",
    "\n",
    "$\\nu_B = b - 1$\n",
    "\n",
    "$\\nu_{AB} = (a-1)(b-1)$\n",
    "\n",
    "If we consider the total number of treatment degrees of freedom, that must be equal to $ab - 1$.  As a check, we can calculate that:\n",
    "\n",
    "$\\nu_{treatment} = \\nu_A + \\nu_B + \\nu_{AB} = (a - 1) + (b - 1) + (a-1)(b-1) = a + b - 2 + ab - b - a + 1 = ab - 1$\n",
    "\n",
    "The total number of degrees of freedom is, as usual:\n",
    "\n",
    "$\\nu_{total} = N - 1 = nab - 1$ \n",
    "\n",
    "From here, we can calculate the number of error degrees of freedom:\n",
    "\n",
    "$\\nu_{error} = \\nu_{total} - \\nu_{treatment} = nab - 1 - (ab - 1) = nab - ab = ab(n - 1)$\n",
    "\n",
    "This reveals an important experiment design consideration.  In order to measure correlations ($\\nu_{AB}$) AND statistical fluctuations ($\\nu_{error}$) simultaneously, we MUST have multiple data points at each setting of the\n",
    "experiment!  That is, we must have $n \\ge 2$."
   ]
  },
  {
   "cell_type": "markdown",
   "metadata": {},
   "source": [
    "The calculation of the various sums-of-squares (SS) is more complicated than in one-way ANOVA, but is straightforward:\n",
    "\n",
    "The overall average of all $N$ data points = $\\bar{\\bar{x}} = \\frac{1}{N} \\sum_{k=1}^{b} \\sum_{i=1}^{a} \\sum_{j=1}^{n} {x_{ijk}}$\n",
    "\n",
    "The average of the $n$ data points for setting = $\\bar{x}_{ik} = \\frac{1}{n} \\sum_{j=1}^{n} {x_{ijk}}$\n",
    "\n",
    "The average of the $b\\cdot n$ data points for group a = $\\bar{x}_i = \\frac{1}{nb} \\sum_{k=1}^{b} \\sum_{j=1}^{n} {x_{ijk}}$\n",
    "\n",
    "The average of the $a\\cdot n$ data points for group b = $\\bar{x}_k = \\frac{1}{na} \\sum_{i=1}^{a} \\sum_{j=1}^{n} {x_{ijk}}$\n",
    "\n",
    "The sums of squares are then:\n",
    "\n",
    "$SS_{total} = \\sum_{k=1}^{b} \\sum_{i=1}^{a} \\sum_{j=1}^{n} {(x_{ijk}-\\bar{\\bar{x}})^2} = (N-1) \\cdot S^2$\n",
    "\n",
    "$SS_{treatment} = \\sum_{k=1}^{b} \\sum_{i=1}^{a} n(\\bar{x}_{ik} - \\bar{\\bar{x}})^2$\n",
    "\n",
    "We can calculate the error sum of squares using:\n",
    "\n",
    "$SS_{error} = SS_{total} - SS_{treatment}$\n",
    "\n",
    "Finally, we can calculate the individual factor and correlation sums of squares using:\n",
    "\n",
    "$SS_{A} = \\sum_{i=1}^{a} nb(\\bar{x}_{i} - \\bar{\\bar{x}})^2$\n",
    "\n",
    "$SS_{B} = \\sum_{k=1}^{b} na(\\bar{x}_{k} - \\bar{\\bar{x}})^2$\n",
    "\n",
    "$SS_{AB} = SS_{treatment} - SS_{A} - SS_{B}$"
   ]
  },
  {
   "cell_type": "markdown",
   "metadata": {},
   "source": [
    "# Example 1 - Two Way ANOVA with Raw Data\n",
    "\n",
    "Consider the following set of raw data:\n",
    "\n",
    "$$\n",
    "\\begin{matrix}\n",
    "63 &\t47 &\t48 \\\\\n",
    "52 &\t49 &\t50 \\\\\n",
    "47 &\t45 &\t51 \\\\\n",
    "49 &\t45 &\t50 \\\\\n",
    "\\end{matrix}\n",
    "$$\n",
    "\n",
    "where we see that at each setting of the experiment, we have collected a single data point (n = 1).  We will call each row a setting of factor $A$ (i=1..4), and each column a setting of factor $B$ (k=1..3). \n",
    "\n",
    "Because we only have a single data point at each setting, we CANNOT measure correlations!\n",
    "\n"
   ]
  },
  {
   "cell_type": "code",
   "execution_count": 1,
   "metadata": {},
   "outputs": [],
   "source": [
    "import numpy as np\n",
    "import matplotlib.pyplot as plt\n",
    "import scipy.stats as stats\n",
    "import pandas as pd\n",
    "\n",
    "from statsmodels.formula.api import ols\n",
    "from statsmodels.stats.anova import anova_lm\n",
    "\n",
    "xijk = np.array([[63,1,1],[47,1,2],[48,1,3],\n",
    "                [52,2,1],[49,2,2],[50,2,3],\n",
    "                [47,3,1],[45,3,2],[51,3,3],\n",
    "                [49,4,1],[45,4,2],[50,4,3]])"
   ]
  },
  {
   "cell_type": "code",
   "execution_count": 2,
   "metadata": {},
   "outputs": [
    {
     "name": "stdout",
     "output_type": "stream",
     "text": [
      "           df      sum_sq    mean_sq         F    PR(>F)\n",
      "C(A)      3.0   48.666667  16.222222  0.812239  0.531998\n",
      "C(B)      2.0   78.166667  39.083333  1.956885  0.221686\n",
      "Residual  6.0  119.833333  19.972222       NaN       NaN\n"
     ]
    }
   ],
   "source": [
    "df = pd.DataFrame(xijk,columns=['value','A','B'])\n",
    "\n",
    "formula = 'value ~ C(A) + C(B)'\n",
    "lm = ols(formula,df).fit()\n",
    "anovaResults = anova_lm(lm)\n",
    "print (anovaResults)"
   ]
  },
  {
   "cell_type": "markdown",
   "metadata": {},
   "source": [
    "# Example 2 - Two Way ANOVA with Raw Data and Multiple Data Points\n",
    "\n",
    "Consider the following set of raw data:\n",
    "\n",
    "$$\n",
    "\\begin{matrix}\n",
    "63/60 &\t47/45 &\t48/46 \\\\\n",
    "52/54 &\t49/45 &\t50/52 \\\\\n",
    "47/49 &\t45/44 &\t51/50 \\\\\n",
    "49/45 &\t45/48 &\t50/48 \\\\\n",
    "\\end{matrix}\n",
    "$$\n",
    "\n",
    "where we see now that at each setting of the experiment, we have collected two data points (n = 2).  We will call each row a setting of factor $A$ (i=1..4), and each column a setting of factor $B$ (k=1..3). "
   ]
  },
  {
   "cell_type": "code",
   "execution_count": 3,
   "metadata": {},
   "outputs": [],
   "source": [
    "import numpy as np\n",
    "import matplotlib.pyplot as plt\n",
    "import scipy.stats as stats\n",
    "import pandas as pd\n",
    "\n",
    "from statsmodels.formula.api import ols\n",
    "from statsmodels.stats.anova import anova_lm\n",
    "\n",
    "xijk = np.array([[63,1,1],[47,1,2],[48,1,3],\n",
    "                [52,2,1],[49,2,2],[50,2,3],\n",
    "                [47,3,1],[45,3,2],[51,3,3],\n",
    "                [49,4,1],[45,4,2],[50,4,3],\n",
    "                [52,1,1],[45,1,2],[46,1,3],\n",
    "                [54,2,1],[45,2,2],[52,2,3],\n",
    "                [49,3,1],[44,3,2],[50,3,3],\n",
    "                [45,4,1],[48,4,2],[48,4,3]])"
   ]
  },
  {
   "cell_type": "code",
   "execution_count": 4,
   "metadata": {},
   "outputs": [],
   "source": [
    "df = pd.DataFrame(xijk,columns=['value','A','B'])"
   ]
  },
  {
   "cell_type": "code",
   "execution_count": 5,
   "metadata": {},
   "outputs": [
    {
     "name": "stdout",
     "output_type": "stream",
     "text": [
      "             df      sum_sq    mean_sq         F    PR(>F)\n",
      "C(A)        3.0   42.833333  14.277778  1.822695  0.196680\n",
      "C(B)        2.0  118.083333  59.041667  7.537234  0.007581\n",
      "C(A):C(B)   6.0  124.916667  20.819444  2.657801  0.070580\n",
      "Residual   12.0   94.000000   7.833333       NaN       NaN\n"
     ]
    }
   ],
   "source": [
    "formula = 'value ~ C(A) + C(B) + C(A):C(B)'\n",
    "lm = ols(formula,df).fit()\n",
    "anovaResults = anova_lm(lm)\n",
    "print (anovaResults)"
   ]
  },
  {
   "cell_type": "markdown",
   "metadata": {},
   "source": [
    "# Example 3 - Two Way ANOVA with Summary Statistics\n",
    "\n",
    "As in the case of one-way ANOVA, oftentimes we only have access to the summary statistics from an experiment,\n",
    "rather than to the full raw data set.\n",
    "\n",
    "In such cases, we use the underlying sum of squares and degree of freedom definitions to calculate the relevant quantities.\n",
    "\n",
    "Consider the following problem:\n",
    "\n",
    "An experiment reports that for five settings of factor A, and four settings of factor B, with one data point taken at each setting, the sums of squares are $SS_A = 30.3$, $SS_B = 44.4$, and $SS_{error} = 59.3$."
   ]
  },
  {
   "cell_type": "code",
   "execution_count": 6,
   "metadata": {},
   "outputs": [
    {
     "name": "stdout",
     "output_type": "stream",
     "text": [
      "F Signal/Noise A = 1.53 \n",
      "Critical F-value A = 3.26\n",
      "Pvalue A = 0.255\n",
      "F Signal/Noise B = 2.99 \n",
      "Critical F-value B = 3.49\n",
      "Pvalue B = 0.073\n",
      "\n",
      "Source     df     Sum of Squares Mean Square     f     P-value\n",
      "A          4       30.30            7.58       1.53    0.255\n",
      "B          3       44.40           14.80       2.99    0.073\n",
      "Error      12      59.30            4.94\n",
      "Total      19     134.00\n"
     ]
    }
   ],
   "source": [
    "a = 5\n",
    "b = 4\n",
    "n = 1\n",
    "\n",
    "N = n*a*b\n",
    "\n",
    "v_total = N - 1\n",
    "v_a = a - 1\n",
    "v_b = b - 1\n",
    "v_error = v_total - v_a - v_b\n",
    "\n",
    "# NOTE!!  As only one data point is taken at each settings, we cannot determine correlations.\n",
    "\n",
    "SS_a = 30.3\n",
    "SS_b = 44.4\n",
    "SS_error = 59.3\n",
    "\n",
    "SS_total = SS_a + SS_b + SS_error\n",
    "\n",
    "# Calculate Mean squares, calculate f values, critical f values, and p values.\n",
    "\n",
    "MS_a = SS_a/v_a\n",
    "MS_b = SS_b/v_b\n",
    "MS_error = SS_error/v_error\n",
    "\n",
    "fSN_a = MS_a/MS_error\n",
    "fSN_b = MS_b/MS_error\n",
    "\n",
    "print (\"F Signal/Noise A = %0.2f \" % fSN_a)\n",
    "\n",
    "alpha = 0.05\n",
    "\n",
    "fdist_a = stats.f(v_a,v_error)\n",
    "fhigh_a = fdist_a.ppf(1-alpha)\n",
    "\n",
    "print (\"Critical F-value A = %0.2f\" % (fhigh_a))\n",
    "\n",
    "if (fSN_a > 1):\n",
    "    pvalue_a = (1-fdist_a.cdf(fSN_a))\n",
    "else:\n",
    "    pvalue_a = fdist_a.cdf(fSN_a)\n",
    "    \n",
    "print (\"Pvalue A = %0.3f\" % (pvalue_a))\n",
    "\n",
    "print (\"F Signal/Noise B = %0.2f \" % fSN_b)\n",
    "\n",
    "fdist_b = stats.f(v_b,v_error)\n",
    "fhigh_b = fdist_b.ppf(1-alpha)\n",
    "\n",
    "print (\"Critical F-value B = %0.2f\" % (fhigh_b))\n",
    "\n",
    "if (fSN_b > 1):\n",
    "    pvalue_b = (1-fdist_b.cdf(fSN_b))\n",
    "else:\n",
    "    pvalue_b = fdist_b.cdf(fSN_b)\n",
    "    \n",
    "print (\"Pvalue B = %0.3f\" % (pvalue_b))\n",
    "\n",
    "# Print table\n",
    "print()\n",
    "print (\"Source     df     Sum of Squares Mean Square     f     P-value\")\n",
    "print (\"A          %0.0f       %0.2f            %0.2f       %0.2f    %0.3f\" %(v_a,SS_a,MS_a,fSN_a,pvalue_a))\n",
    "print (\"B          %0.0f       %0.2f           %0.2f       %0.2f    %0.3f\" %(v_b,SS_b,MS_b,fSN_b,pvalue_b))\n",
    "print (\"Error      %0.0f      %0.2f            %0.2f\" %(v_error,SS_error,MS_error))\n",
    "print (\"Total      %0.0f     %0.2f\" %(v_total,SS_total))"
   ]
  },
  {
   "cell_type": "markdown",
   "metadata": {},
   "source": [
    "# Example 4 - Two Way ANOVA with Raw Data Using Definitions\n",
    "\n",
    "We can also analyze the raw data using the underlying definitions for the sums of squares and degrees of freedom.\n",
    "\n",
    "Consider the data from Example 2 above."
   ]
  },
  {
   "cell_type": "code",
   "execution_count": 7,
   "metadata": {},
   "outputs": [
    {
     "name": "stdout",
     "output_type": "stream",
     "text": [
      "v_a, v_b, v_ab, v_error, v_total =  3 2 6 12 23\n",
      "\n",
      "Xbarbar =  48.916666666666664\n",
      "\n",
      "SS_total =  379.8333333333335\n",
      "\n",
      "SS_a =  42.83333333333337\n",
      "\n",
      "SS_b =  118.08333333333333\n",
      "\n",
      "SS_ab =  124.91666666666673\n",
      "\n",
      "SS_error =  94.00000000000007\n",
      "\n",
      "F Signal/Noise A = 1.82 \n",
      "Critical F-value A = 3.49\n",
      "Pvalue A = 0.197\n",
      "F Signal/Noise B = 7.54 \n",
      "Critical F-value B = 3.89\n",
      "Pvalue B = 0.008\n",
      "F Signal/Noise AB = 2.51 \n",
      "Critical F-value AB = 3.00\n",
      "Pvalue AB = 0.082\n",
      "\n",
      "Source     df     Sum of Squares Mean Square     f     P-value\n",
      "A          3       42.83            14.28       1.82    0.1967\n",
      "B          2       118.08           59.04       7.54    0.0076\n",
      "AB         6       124.92           19.68       2.51    0.0823\n",
      "Error      12      94.00            7.83\n",
      "Total      23     379.83\n"
     ]
    }
   ],
   "source": [
    "import numpy as np\n",
    "import matplotlib.pyplot as plt\n",
    "import scipy.stats as stats\n",
    "\n",
    "xijk = np.array([[63,1,1],[47,1,2],[48,1,3],\n",
    "                [52,2,1],[49,2,2],[50,2,3],\n",
    "                [47,3,1],[45,3,2],[51,3,3],\n",
    "                [49,4,1],[45,4,2],[50,4,3],\n",
    "                [52,1,1],[45,1,2],[46,1,3],\n",
    "                [54,2,1],[45,2,2],[52,2,3],\n",
    "                [49,3,1],[44,3,2],[50,3,3],\n",
    "                [45,4,1],[48,4,2],[48,4,3]])\n",
    "\n",
    "df = pd.DataFrame(xijk,columns=['value','A','B'])\n",
    "\n",
    "# calculate all degrees of freedom\n",
    "\n",
    "N = len(xijk)\n",
    "v_total = N - 1\n",
    "\n",
    "a = 4\n",
    "b = 3\n",
    "\n",
    "n = N/(a*b)\n",
    "\n",
    "v_a = a - 1\n",
    "v_b = b - 1\n",
    "v_ab = v_a*v_b\n",
    "\n",
    "v_error = v_total - v_a - v_b - v_ab\n",
    "\n",
    "print (\"v_a, v_b, v_ab, v_error, v_total = \",v_a, v_b, v_ab, v_error, v_total)\n",
    "\n",
    "# calculate the relevant averages and sums of squares\n",
    "xbarbar = df['value'].mean()\n",
    "print()\n",
    "print (\"Xbarbar = \",xbarbar)\n",
    "\n",
    "SS_total = (N-1)*df['value'].std()**2\n",
    "\n",
    "print()\n",
    "print (\"SS_total = \",SS_total)\n",
    "\n",
    "x_a = df.groupby(['A'])[['value']].mean()\n",
    "x_a_bb = N/a*(x_a['value']-xbarbar)**2\n",
    "SS_a = x_a_bb.sum()\n",
    "print()\n",
    "print (\"SS_a = \",SS_a)\n",
    "\n",
    "x_b = df.groupby(['B'])[['value']].mean()\n",
    "x_b_bb = N/b*(x_b['value']-xbarbar)**2\n",
    "SS_b = x_b_bb.sum()\n",
    "print()\n",
    "print (\"SS_b = \",SS_b)\n",
    "\n",
    "x_ab = df.groupby(['A','B'])[['value']].mean()\n",
    "x_ab_bb = N/(a*b)*(x_ab['value']-xbarbar)**2\n",
    "SS_treatment = x_ab_bb.sum()\n",
    "SS_ab = SS_treatment-SS_a-SS_b\n",
    "print()\n",
    "print (\"SS_ab = \",SS_ab)\n",
    "\n",
    "SS_error = SS_total - SS_a - SS_b - SS_ab\n",
    "print()\n",
    "print (\"SS_error = \",SS_error)\n",
    "print()\n",
    "\n",
    "MS_a = SS_a/v_a\n",
    "MS_b = SS_b/v_b\n",
    "MS_ab = SS_b/v_ab\n",
    "MS_error = SS_error/v_error\n",
    "\n",
    "fSN_a = MS_a/MS_error\n",
    "fSN_b = MS_b/MS_error\n",
    "fSN_ab = MS_ab/MS_error\n",
    "\n",
    "print (\"F Signal/Noise A = %0.2f \" % fSN_a)\n",
    "\n",
    "alpha = 0.05\n",
    "\n",
    "fdist_a = stats.f(v_a,v_error)\n",
    "fhigh_a = fdist_a.ppf(1-alpha)\n",
    "\n",
    "print (\"Critical F-value A = %0.2f\" % (fhigh_a))\n",
    "\n",
    "if (fSN_a > 1):\n",
    "    pvalue_a = (1-fdist_a.cdf(fSN_a))\n",
    "else:\n",
    "    pvalue_a = fdist_a.cdf(fSN_a)\n",
    "    \n",
    "print (\"Pvalue A = %0.3f\" % (pvalue_a))\n",
    "\n",
    "\n",
    "print (\"F Signal/Noise B = %0.2f \" % fSN_b)\n",
    "\n",
    "fdist_b = stats.f(v_b,v_error)\n",
    "fhigh_b = fdist_b.ppf(1-alpha)\n",
    "\n",
    "print (\"Critical F-value B = %0.2f\" % (fhigh_b))\n",
    "\n",
    "if (fSN_b > 1):\n",
    "    pvalue_b = (1-fdist_b.cdf(fSN_b))\n",
    "else:\n",
    "    pvalue_b = fdist_b.cdf(fSN_b)\n",
    "    \n",
    "print (\"Pvalue B = %0.3f\" % (pvalue_b))\n",
    "\n",
    "print (\"F Signal/Noise AB = %0.2f \" % fSN_ab)\n",
    "\n",
    "fdist_ab = stats.f(v_ab,v_error)\n",
    "fhigh_ab = fdist_ab.ppf(1-alpha)\n",
    "\n",
    "print (\"Critical F-value AB = %0.2f\" % (fhigh_ab))\n",
    "\n",
    "if (fSN_ab > 1):\n",
    "    pvalue_ab = (1-fdist_ab.cdf(fSN_ab))\n",
    "else:\n",
    "    pvalue_ab = fdist_ab.cdf(fSN_ab)\n",
    "    \n",
    "print (\"Pvalue AB = %0.3f\" % (pvalue_ab))\n",
    "\n",
    "# Print table\n",
    "print()\n",
    "print (\"Source     df     Sum of Squares Mean Square     f     P-value\")\n",
    "print (\"A          %0.0f       %0.2f            %0.2f       %0.2f    %0.4f\" %(v_a,SS_a,MS_a,fSN_a,pvalue_a))\n",
    "print (\"B          %0.0f       %0.2f           %0.2f       %0.2f    %0.4f\" %(v_b,SS_b,MS_b,fSN_b,pvalue_b))\n",
    "print (\"AB         %0.0f       %0.2f           %0.2f       %0.2f    %0.4f\" %(v_ab,SS_ab,MS_ab,fSN_ab,pvalue_ab))\n",
    "print (\"Error      %0.0f      %0.2f            %0.2f\" %(v_error,SS_error,MS_error))\n",
    "print (\"Total      %0.0f     %0.2f\" %(v_total,SS_total))"
   ]
  },
  {
   "cell_type": "markdown",
   "metadata": {},
   "source": [
    "# Visualization of Raw Data"
   ]
  },
  {
   "cell_type": "code",
   "execution_count": 9,
   "metadata": {},
   "outputs": [
    {
     "data": {
      "text/plain": [
       "<seaborn.axisgrid.FacetGrid at 0x7f43573d93c8>"
      ]
     },
     "execution_count": 9,
     "metadata": {},
     "output_type": "execute_result"
    },
    {
     "data": {
      "image/png": "[encoded data removed]",
      "text/plain": [
       "<Figure size 406.6x360 with 1 Axes>"
      ]
     },
     "metadata": {},
     "output_type": "display_data"
    },
    {
     "data": {
      "image/png": "[encoded data removed]",
      "text/plain": [
       "<Figure size 406.6x360 with 1 Axes>"
      ]
     },
     "metadata": {},
     "output_type": "display_data"
    }
   ],
   "source": [
    "import seaborn as sns\n",
    "\n",
    "sns.set(style=\"whitegrid\")\n",
    "\n",
    "sns.catplot(\"A\",\"value\",data=df,kind=\"point\",hue=\"B\")\n",
    "sns.catplot(\"B\",\"value\",data=df,kind=\"point\",hue=\"A\")"
   ]
  },
  {
   "cell_type": "code",
   "execution_count": null,
   "metadata": {},
   "outputs": [],
   "source": []
  }
 ],
 "metadata": {
  "kernelspec": {
   "display_name": "Python 3",
   "language": "python",
   "name": "python3"
  },
  "language_info": {
   "codemirror_mode": {
    "name": "ipython",
    "version": 3
   },
   "file_extension": ".py",
   "mimetype": "text/x-python",
   "name": "python",
   "nbconvert_exporter": "python",
   "pygments_lexer": "ipython3",
   "version": "3.6.8"
  }
 },
 "nbformat": 4,
 "nbformat_minor": 2
}
