{
  "nbformat": 4,
  "nbformat_minor": 0,
  "metadata": {
    "colab": {
      "name": "Untitled6.ipynb",
      "provenance": [],
      "authorship_tag": "ABX9TyMPM3I4i5NtuwwfE4OdQpsn",
      "include_colab_link": true
    },
    "kernelspec": {
      "name": "python3",
      "display_name": "Python 3"
    }
  },
  "cells": [
    {
      "cell_type": "markdown",
      "metadata": {
        "id": "view-in-github",
        "colab_type": "text"
      },
      "source": [
        "<a href=\"https://colab.research.google.com/github/chandlereskey17/phys341/blob/master/Exam2.ipynb\" target=\"_parent\"><img src=\"https://colab.research.google.com/assets/colab-badge.svg\" alt=\"Open In Colab\"/></a>"
      ]
    },
    {
      "cell_type": "code",
      "metadata": {
        "colab": {
          "base_uri": "https://localhost:8080/"
        },
        "id": "JFKVCDDwAFbS",
        "outputId": "1bce52c9-87e2-4317-eefc-2665c0476985"
      },
      "source": [
        "\n",
        "import scipy.stats as stats\n",
        "import numpy as np\n",
        "\n",
        "df = 5\n",
        "print (\"%0.2f\" % (stats.chi2.ppf(0.90,df)))\n",
        "\n",
        "df = 12\n",
        "print (\"%0.2f\" % (stats.chi2.ppf(0.01,df)))\n",
        "\n",
        "df = 23\n",
        "print (\"%0.3f\" % (stats.chi2.cdf(32.01,df)-stats.chi2.cdf(10.20,df)))\n",
        "\n",
        "df = 23\n",
        "print (\"%0.3f\" % (1-(stats.chi2.cdf(41.638,df)-stats.chi2.cdf(10.196,df))))"
      ],
      "execution_count": 3,
      "outputs": [
        {
          "output_type": "stream",
          "text": [
            "9.24\n",
            "3.57\n",
            "0.890\n",
            "0.020\n"
          ],
          "name": "stdout"
        }
      ]
    },
    {
      "cell_type": "code",
      "metadata": {
        "colab": {
          "base_uri": "https://localhost:8080/"
        },
        "id": "EPue5IUdBE1z",
        "outputId": "6127bf7c-b31f-4cd1-cde0-761ff584d34e"
      },
      "source": [
        "n = 9\n",
        "df = n - 1\n",
        "s = 2.87\n",
        "cl = 0.95\n",
        "\n",
        "c_interval = stats.chi2.interval(cl,df)\n",
        "\n",
        "print (\"Chi2 Interval: (%0.2f, %0.2f)\" % c_interval)\n",
        "\n",
        "var_high = df*s**2/c_interval[0]\n",
        "var_low = df*s**2/c_interval[1]\n",
        "\n",
        "print (\"Variance Interval: (%0.2f, %0.2f)\" % (var_low,var_high))\n",
        "print (\"Std. Deviation Interval: (%0.2f, %0.2f)\" % (np.sqrt(var_low),np.sqrt(var_high)))"
      ],
      "execution_count": 4,
      "outputs": [
        {
          "output_type": "stream",
          "text": [
            "Chi2 Interval: (2.18, 17.53)\n",
            "Variance Interval: (3.76, 30.23)\n",
            "Std. Deviation Interval: (1.94, 5.50)\n"
          ],
          "name": "stdout"
        }
      ]
    },
    {
      "cell_type": "code",
      "metadata": {
        "colab": {
          "base_uri": "https://localhost:8080/"
        },
        "id": "AYJIqVNnBiIF",
        "outputId": "8ccb2225-c484-4a7a-cf15-82693df66a09"
      },
      "source": [
        "import numpy as np\n",
        "import scipy.stats as stats\n",
        "import matplotlib.pyplot as plt\n",
        "\n",
        "def fpvalue(fvalue,dof1,dof2,test):\n",
        "    fdist = stats.f(dof1,dof2)\n",
        "\n",
        "    if (fvalue > 1):\n",
        "        if test == \"upper\":\n",
        "            pvalue = (1-fdist.cdf(fvalue))\n",
        "        if test == \"two\":\n",
        "            pvalue = 2.0*(1-fdist.cdf(fvalue))\n",
        "        if test == \"lower\":\n",
        "            pvalue = fdist.cdf(fvalue)\n",
        "    else:\n",
        "        if test == \"upper\":\n",
        "            pvalue = fdist.cdf(fvalue)\n",
        "        if test == \"two\":\n",
        "            pvalue = 2.0*fdist.cdf(fvalue)\n",
        "        if test == \"lower\":\n",
        "            pvalue = (1-fdist.cdf(fvalue))\n",
        "            \n",
        "    print (\"Pvalue = %0.3f\" % (pvalue))\n",
        "\n",
        "yf = np.array([\t33,\t27,\t29,\t27,\t32,\t36,\t27,\t27,\t26,\t31])\n",
        "of = np.array([14,\t12,\t20,\t13,\t16])\n",
        "\n",
        "n1 = len(yf)\n",
        "n2 = len(of)\n",
        "\n",
        "dof1 = n1-1\n",
        "dof2 = n2-1\n",
        "\n",
        "s1 = yf.std(ddof=1)\n",
        "s2 = of.std(ddof=1)\n",
        "\n",
        "xbar1 = yf.mean()\n",
        "xbar2 = of.mean()\n",
        "\n",
        "fvalue = s1**2/s2**2\n",
        "\n",
        "print (\"Standard Deviations of the two samples = %.1f, %.1f\" %(s1,s2))\n",
        "print (\"Variances of the two samples = %.1f, %.1f\" %(s1**2,s2**2))\n",
        "print (\"F statistic = %0.3f\" % fvalue)\n",
        "\n",
        "alpha = 0.05\n",
        "\n",
        "fdist = stats.f(dof1,dof2)\n",
        "flow = fdist.ppf(alpha/2)\n",
        "fhigh = fdist.ppf(1-alpha/2)\n",
        "\n",
        "print (\"Critical F-values = %0.3f, %0.3f\" % (flow,fhigh))\n",
        "\n",
        "if (fvalue > 1):\n",
        "    pvalue = 2.0*(1-fdist.cdf(fvalue))\n",
        "else:\n",
        "    pvalue = 2.0*fdist.cdf(fvalue)\n",
        "    \n",
        "print (\"Pvalue = %0.3f\" % (pvalue))\n",
        "\n",
        "pvalue = fpvalue(fvalue,dof1,dof2,\"two\")"
      ],
      "execution_count": 9,
      "outputs": [
        {
          "output_type": "stream",
          "text": [
            "Standard Deviations of the two samples = 3.3, 3.2\n",
            "Variances of the two samples = 11.2, 10.0\n",
            "F statistic = 1.117\n",
            "Critical F-values = 0.212, 8.905\n",
            "Pvalue = 0.990\n",
            "Pvalue = 0.990\n"
          ],
          "name": "stdout"
        }
      ]
    },
    {
      "cell_type": "code",
      "metadata": {
        "colab": {
          "base_uri": "https://localhost:8080/",
          "height": 489
        },
        "id": "Bku41i3PEioh",
        "outputId": "ea34831c-2e85-4506-cc02-e57950d57304"
      },
      "source": [
        "import pandas as pd\n",
        "from statsmodels.formula.api import ols\n",
        "from statsmodels.stats.anova import anova_lm\n",
        "\n",
        "a = 4\n",
        "n = 8\n",
        "\n",
        "# calculate DOF's\n",
        "N = a*n\n",
        "dof_total = N - 1\n",
        "dof_treatment = a - 1\n",
        "dof_error = dof_total - dof_treatment\n",
        "print (dof_error)\n",
        "\n",
        "# summary data for xbar\n",
        "xbar = np.array([4.39,4.52,5.49,6.36])\n",
        "xbarbar = xbar.mean()\n",
        "\n",
        "# calculate SS_treatment\n",
        "SS_treatment = 0.0\n",
        "for x in xbar:\n",
        "    SS_treatment += n*(x-xbarbar)**2\n",
        "    \n",
        "MS_treatment = SS_treatment/dof_treatment\n",
        "\n",
        "sumxij2 = 911.91\n",
        "\n",
        "SS_total = sumxij2 - N*xbarbar**2\n",
        "    \n",
        "SS_error = SS_total - SS_treatment\n",
        "MS_error = SS_error/dof_error\n",
        "\n",
        "fSN = MS_treatment/MS_error\n",
        "\n",
        "print (\"F Signal/Noise = %0.2f \" % fSN)\n",
        "\n",
        "alpha = 0.05\n",
        "\n",
        "fdist = stats.f(dof_treatment,dof_error)\n",
        "fhigh = fdist.ppf(1-alpha)\n",
        "\n",
        "print (\"Critical F-value = %0.2f\" % (fhigh))\n",
        "\n",
        "if (fSN > 1):\n",
        "    pvalue = (1-fdist.cdf(fSN))\n",
        "else:\n",
        "    pvalue = fdist.cdf(fSN)\n",
        "    \n",
        "print (\"Pvalue = %0.3f\" % (pvalue))\n",
        "\n",
        "\n",
        "\n",
        "\n",
        "\n",
        "\n",
        "\n",
        "\n",
        "# Tukey's Procedure\n",
        "#\n",
        "# Step 1:  Calculate the standard error = sqrt(MS_error/n)\n",
        "\n",
        "from q_tukey import q_tukey\n",
        "\n",
        "std_error = np.sqrt(MS_error/n)\n",
        "print (\"Standard Error = %0.3f\" % std_error)\n",
        "\n",
        "# Step 2:  Order the means from smallest to largest\n",
        "\n",
        "print (\"Original Xbar = \",xbar)\n",
        "xbar_orig = xbar.copy()\n",
        "xbar.sort()\n",
        "print (\"Sorted Xbar = \",xbar)\n",
        "\n",
        "# Step 3:  Get the expected number of error bars (sem) between largest and smallest, for the number\n",
        "# of means to be compared (a).  For this, we need the studentized range table values q(alpha,dof_error,k) for k=2..a.\n",
        "# \n",
        "# http://www.real-statistics.com/statistics-tables/studentized-range-q-table/\n",
        "# For this problem, dof_error = 28, alpha = 0.05, k = 2,3,4\n",
        "# q = np.array([2.897,3.499,3.861])\n",
        "\n",
        "n_means=len(xbar)\n",
        "q = q_tukey(n_means,dof_error,alpha)\n",
        "print (q)\n",
        "\n",
        "# Step 4:  Calculate W = q(k=5)*std_error\n",
        "\n",
        "W = q[n_means-2]*std_error\n",
        "\n",
        "print (\"W = %0.1f\" % W)\n",
        "\n",
        "# Step 5:  Make pair-wise comparisons\n",
        "\n",
        "print (list(xbar_orig))\n",
        "\n",
        "print (\"i j xbar1 xbar2 Diff Diff_comp Result\")\n",
        "for i in range(len(xbar)):\n",
        "    for j in range(len(xbar)):\n",
        "        if (xbar[j] > xbar[i]):\n",
        "            diff = (xbar[j] - xbar[i])/std_error\n",
        "            diff_comp = q[j-i-1]\n",
        "            if (diff>diff_comp):\n",
        "                Result = \"Yes - Difference\"\n",
        "            else:\n",
        "                Result = \"No Difference\"\n",
        "            iorig = list(xbar_orig).index(xbar[i])+1\n",
        "            jorig = list(xbar_orig).index(xbar[j])+1\n",
        "            print (\"%0.0f %0.0f %0.2f %0.2f %0.3f  %0.3f %s\" % (iorig,jorig,xbar[i],xbar[j],diff,diff_comp,Result))"
      ],
      "execution_count": 11,
      "outputs": [
        {
          "output_type": "stream",
          "text": [
            "/usr/local/lib/python3.6/dist-packages/statsmodels/tools/_testing.py:19: FutureWarning: pandas.util.testing is deprecated. Use the functions in the public API at pandas.testing instead.\n",
            "  import pandas.util.testing as tm\n"
          ],
          "name": "stderr"
        },
        {
          "output_type": "stream",
          "text": [
            "28\n",
            "F Signal/Noise = 6.43 \n",
            "Critical F-value = 2.95\n",
            "Pvalue = 0.002\n"
          ],
          "name": "stdout"
        },
        {
          "output_type": "error",
          "ename": "ModuleNotFoundError",
          "evalue": "ignored",
          "traceback": [
            "\u001b[0;31m---------------------------------------------------------------------------\u001b[0m",
            "\u001b[0;31mModuleNotFoundError\u001b[0m                       Traceback (most recent call last)",
            "\u001b[0;32m<ipython-input-11-fb01d616f35a>\u001b[0m in \u001b[0;36m<module>\u001b[0;34m()\u001b[0m\n\u001b[1;32m     60\u001b[0m \u001b[0;31m# Step 1:  Calculate the standard error = sqrt(MS_error/n)\u001b[0m\u001b[0;34m\u001b[0m\u001b[0;34m\u001b[0m\u001b[0;34m\u001b[0m\u001b[0m\n\u001b[1;32m     61\u001b[0m \u001b[0;34m\u001b[0m\u001b[0m\n\u001b[0;32m---> 62\u001b[0;31m \u001b[0;32mfrom\u001b[0m \u001b[0mq_tukey\u001b[0m \u001b[0;32mimport\u001b[0m \u001b[0mq_tukey\u001b[0m\u001b[0;34m\u001b[0m\u001b[0;34m\u001b[0m\u001b[0m\n\u001b[0m\u001b[1;32m     63\u001b[0m \u001b[0;34m\u001b[0m\u001b[0m\n\u001b[1;32m     64\u001b[0m \u001b[0mstd_error\u001b[0m \u001b[0;34m=\u001b[0m \u001b[0mnp\u001b[0m\u001b[0;34m.\u001b[0m\u001b[0msqrt\u001b[0m\u001b[0;34m(\u001b[0m\u001b[0mMS_error\u001b[0m\u001b[0;34m/\u001b[0m\u001b[0mn\u001b[0m\u001b[0;34m)\u001b[0m\u001b[0;34m\u001b[0m\u001b[0;34m\u001b[0m\u001b[0m\n",
            "\u001b[0;31mModuleNotFoundError\u001b[0m: No module named 'q_tukey'",
            "",
            "\u001b[0;31m---------------------------------------------------------------------------\u001b[0;32m\nNOTE: If your import is failing due to a missing package, you can\nmanually install dependencies using either !pip or !apt.\n\nTo view examples of installing some common dependencies, click the\n\"Open Examples\" button below.\n\u001b[0;31m---------------------------------------------------------------------------\u001b[0m\n"
          ]
        }
      ]
    }
  ]
}