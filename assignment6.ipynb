{
  "nbformat": 4,
  "nbformat_minor": 0,
  "metadata": {
    "colab": {
      "name": "Untitled5.ipynb",
      "provenance": [],
      "authorship_tag": "ABX9TyN/Ck+HYLIf0efYjwCR7MgT",
      "include_colab_link": true
    },
    "kernelspec": {
      "name": "python3",
      "display_name": "Python 3"
    }
  },
  "cells": [
    {
      "cell_type": "markdown",
      "metadata": {
        "id": "view-in-github",
        "colab_type": "text"
      },
      "source": [
        "<a href=\"https://colab.research.google.com/github/chandlereskey17/phys341/blob/master/assignment6.ipynb\" target=\"_parent\"><img src=\"https://colab.research.google.com/assets/colab-badge.svg\" alt=\"Open In Colab\"/></a>"
      ]
    },
    {
      "cell_type": "code",
      "metadata": {
        "id": "nvKAAZqH7s9e"
      },
      "source": [
        "#q1\n",
        "\n",
        "a = 5\n",
        " b = 4\n",
        " n = 1\n",
        "\n",
        "N = n*a*b\n",
        "\n",
        "v_total = N - 1\n",
        "v_a = a = 1\n",
        "v_b = b - 1\n",
        "v_error = v_total - v_a - v_b\n",
        "\n",
        "SS_a = \n",
        "SS_b =\n",
        "SS_error = \n",
        "\n",
        "\n"
      ],
      "execution_count": null,
      "outputs": []
    },
    {
      "cell_type": "code",
      "metadata": {
        "id": "WS8U_Uo_8f9c"
      },
      "source": [
        "#q2\n",
        "\n",
        "xijk = np.array([])\n",
        "df = pd.DataFrame(xijk, columns=['value', 'A', 'B'])\n",
        "\n",
        "formula = 'value ~ C(A) + C(B)'\n",
        "ln = ols(formula, df).fit()\n",
        "anovaResults = anova_ln(ln)\n",
        "print(anovaResults)\n",
        "\n",
        "\n",
        "\n",
        "N = len(xijk)\n",
        "v_total = N - 1\n",
        "\n",
        "a = 4\n",
        "b = 3\n",
        "\n",
        "n = N/(a*b)\n",
        "\n",
        "v_a = a = 1\n",
        "v_b = b - 1\n",
        "v_ab = v_a*v_b\n",
        "\n",
        "v_error = v_total - v_a - v_b - v_ab\n",
        "\n",
        "print(v_a, v_b, v_ab, v_error)\n",
        "\n",
        "xbarbar = df['vallue'].mean()\n",
        "print(xbarbar)\n",
        "\n",
        "\n",
        "x_a = df.groupby(['A'])[['value']].mean()\n",
        "x_a_bb = (x-a['value'] - xbarbar)\n",
        "\n",
        "print('alpha:' +  x_a_bb)\n",
        "\n",
        "x_b = df.groupby(['B'])[['value']].mean()\n",
        "x_b_bb = (x-a['value'] - xbarbar)\n",
        "\n",
        "print('beta:' +  x_b_bb)"
      ],
      "execution_count": null,
      "outputs": []
    },
    {
      "cell_type": "code",
      "metadata": {
        "id": "wrlTJ544BGJ-"
      },
      "source": [
        "#q3\n",
        "\n",
        "xijk = np.array([])\n",
        "\n",
        "df = pd.DataFrame(xijk, columns=['value', 'A', 'B'])\n",
        "\n",
        "formula = 'value ~ C(A) + C(B)'\n",
        "ln = ols(formula, df).fit()\n",
        "anovaResults = anova_ln(ln)\n",
        "print(anovaResults)\n",
        "\n",
        "a = 4\n",
        "b = 4\n",
        "n = 1\n",
        "\n",
        "N = n*a*b\n",
        "\n",
        "v_total = N - 1\n",
        "v_a = a = 1\n",
        "v_b = b - 1\n",
        "v_error = v_total - v_a - v_b\n",
        "\n",
        "alpha = 0.01\n",
        "\n",
        "fdist_a = stats.f(v_a, v_error)\n",
        "fhigh_a = fdist_a.ppf(1 - alpha)\n",
        "\n",
        "print(fhigh_a)\n",
        "\n",
        "xbar = df.groupby(['A'])[['value']].mean()\n",
        "xbar = np.array(xbar)\n",
        "xbar = xbar.flatten()\n",
        "\n",
        "MS_error = 1024.784722\n",
        "dof_error = 9\n",
        "alpha = 0.01\n",
        "n = 4\n",
        "\n",
        "from q_tukey import tukey\n",
        "\n",
        "std_error = np.sqrt(MS_error/n)\n",
        "print(std_error)\n",
        "\n",
        "print('original:', xbar)\n",
        "xbar_orig = xbar.copy()\n",
        "xbar.sort()\n",
        "print('sorted:',xbar)\n",
        "\n",
        "\n",
        "n_means = len(xbar)\n",
        "q = q_tukey(n_means, dof_error, alpha)\n",
        "print(q)\n",
        "\n",
        "W = q[n_means - 2]*std_error\n",
        "\n",
        "print ('W:', W)\n",
        "\n",
        "print(list(xbar_orig))\n",
        "\n",
        "\n",
        "#same thing for part c but with 'B'\n"
      ],
      "execution_count": null,
      "outputs": []
    },
    {
      "cell_type": "code",
      "metadata": {
        "id": "-ys7VTd0EPnn"
      },
      "source": [
        "#q4\n",
        "\n",
        "xijk = np.array([])\n",
        "df = pd.DataFrame(xijk, columns=['value', 'A', 'B'])\n",
        "\n",
        "formula = 'value ~ C(A) + C(B)'\n",
        "ln = ols(formula, df).fit()\n",
        "anovaResults = anova_ln(ln)\n",
        "print(anovaResults)"
      ],
      "execution_count": null,
      "outputs": []
    },
    {
      "cell_type": "code",
      "metadata": {
        "id": "9_9yr7aNEWUA"
      },
      "source": [
        "#q5\n",
        "\n",
        "#almost same as q3"
      ],
      "execution_count": null,
      "outputs": []
    }
  ]
}