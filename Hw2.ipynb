{
  "nbformat": 4,
  "nbformat_minor": 0,
  "metadata": {
    "colab": {
      "name": "Untitled0.ipynb",
      "provenance": [],
      "authorship_tag": "ABX9TyNvfR1zVN+yf87E1k7pUXRl",
      "include_colab_link": true
    },
    "kernelspec": {
      "name": "python3",
      "display_name": "Python 3"
    }
  },
  "cells": [
    {
      "cell_type": "markdown",
      "metadata": {
        "id": "view-in-github",
        "colab_type": "text"
      },
      "source": [
        "<a href=\"https://colab.research.google.com/github/chandlereskey17/phys341/blob/master/Hw2.ipynb\" target=\"_parent\"><img src=\"https://colab.research.google.com/assets/colab-badge.svg\" alt=\"Open In Colab\"/></a>"
      ]
    },
    {
      "cell_type": "code",
      "metadata": {
        "id": "HnLR2EnuHhzQ",
        "colab_type": "code",
        "colab": {
          "base_uri": "https://localhost:8080/",
          "height": 350
        },
        "outputId": "3f283d45-bf0b-4a4e-8cbb-9b66ed30b498"
      },
      "source": [
        "#Assignment 2  \n",
        "import stats\n",
        "import numpy as np\n",
        "  "
      ],
      "execution_count": null,
      "outputs": [
        {
          "output_type": "error",
          "ename": "ModuleNotFoundError",
          "evalue": "ignored",
          "traceback": [
            "\u001b[0;31m---------------------------------------------------------------------------\u001b[0m",
            "\u001b[0;31mModuleNotFoundError\u001b[0m                       Traceback (most recent call last)",
            "\u001b[0;32m<ipython-input-2-3281408cd4ae>\u001b[0m in \u001b[0;36m<module>\u001b[0;34m()\u001b[0m\n\u001b[1;32m      1\u001b[0m \u001b[0;31m#Assignment 2\u001b[0m\u001b[0;34m\u001b[0m\u001b[0;34m\u001b[0m\u001b[0;34m\u001b[0m\u001b[0m\n\u001b[0;32m----> 2\u001b[0;31m \u001b[0;32mimport\u001b[0m \u001b[0mstats\u001b[0m\u001b[0;34m\u001b[0m\u001b[0;34m\u001b[0m\u001b[0m\n\u001b[0m\u001b[1;32m      3\u001b[0m \u001b[0;32mimport\u001b[0m \u001b[0mnumpy\u001b[0m \u001b[0;32mas\u001b[0m \u001b[0mnp\u001b[0m\u001b[0;34m\u001b[0m\u001b[0;34m\u001b[0m\u001b[0m\n\u001b[1;32m      4\u001b[0m \u001b[0;34m\u001b[0m\u001b[0m\n",
            "\u001b[0;31mModuleNotFoundError\u001b[0m: No module named 'stats'",
            "",
            "\u001b[0;31m---------------------------------------------------------------------------\u001b[0;32m\nNOTE: If your import is failing due to a missing package, you can\nmanually install dependencies using either !pip or !apt.\n\nTo view examples of installing some common dependencies, click the\n\"Open Examples\" button below.\n\u001b[0;31m---------------------------------------------------------------------------\u001b[0m\n"
          ]
        }
      ]
    },
    {
      "cell_type": "code",
      "metadata": {
        "id": "QPXLvEl3Hk4e",
        "colab_type": "code",
        "colab": {}
      },
      "source": [
        "#Question1\n",
        "import scipy.stats as stats\n",
        "print(\"a: %.4f\"%{stats.norm.cdf(2.4) - stats.norm.cdf(0)})\n",
        "print(\"b: %.4f\"%{stats.norm.cdf(1.0) - stats.norm.cdf(0)})\n",
        "print(\"c: %.4f\"%{stats.norm.cdf(0) - stats.norm.cdf(-2.9)})\n",
        "print(\"d: %.4f\"%{stats.norm.cdf(2.4) - stats.norm.cdf(0)})\n",
        "#it continues similar to this for rest of questions"
      ],
      "execution_count": null,
      "outputs": []
    },
    {
      "cell_type": "code",
      "metadata": {
        "id": "Y64RIm4VHlfV",
        "colab_type": "code",
        "colab": {}
      },
      "source": [
        "#Question2\n",
        "Z = stats.norm(0, 1)\n",
        "print(\"a: %.2f\"%{Z.ppf(0.9826)})\n",
        "print(\"b: %.2f\"%{Z.ppf(0.5+0.2995)})\n",
        "print(\"c: %.2f\"%{Z.ppf(1-0.1251)})\n",
        "print(\"d: %.2f\"%{-1.0*Z.ppf((1-.6476)/2)})\n",
        "print(\"e: %.2f\"%{Z.ppf(1-0.0139/2)})"
      ],
      "execution_count": null,
      "outputs": []
    },
    {
      "cell_type": "code",
      "metadata": {
        "id": "7I-fa9TLHlmV",
        "colab_type": "code",
        "colab": {}
      },
      "source": [
        "#Q3\n",
        "X = stats.norm(80, 15)\n",
        "\n",
        "print(\"a: %.3f\"%{X.cdf(110)})\n",
        "print(\"b: %.3f\"%{X.cdf(80)})\n",
        "print(\"c: %.3f\"%{X.cdf(110) - X.cdf(57.5)})\n",
        "print(\"d: %.3f\"%{1 - X.cdf(65)})\n",
        "print(\"e: %.3f\"%{X.cdf(102.5) - X.cdf(87.5)})\n",
        "print(\"f: %.3f\"%{X.cdf(95)}) #-something inside "
      ],
      "execution_count": null,
      "outputs": []
    },
    {
      "cell_type": "code",
      "metadata": {
        "id": "CkKUqhJfHlsJ",
        "colab_type": "code",
        "colab": {}
      },
      "source": [
        "#Q4\n",
        "mu = 15.8\n",
        "sigma = 1.33\n",
        "\n",
        "X = stats.norm(mu, sigma)\n",
        "print(\"a: %.4f\"%{X.cdf(18)})\n",
        "print(\"b: %.4f\"%{X.cdf(12) - X.cdf(10)})\n",
        "print(\"c: %.4f\"%{X.cdf(mu+1.5*sigma) - X.cdf(mu-1.5*sigma)})"
      ],
      "execution_count": null,
      "outputs": []
    },
    {
      "cell_type": "code",
      "metadata": {
        "id": "sRo4IDN0HlxK",
        "colab_type": "code",
        "colab": {
          "base_uri": "https://localhost:8080/",
          "height": 231
        },
        "outputId": "cce93370-7896-48bd-eedf-d9956ecf5dde"
      },
      "source": [
        "#Q5\n",
        "\n",
        "X1 = stats.norm(3.00, 0.08)\n",
        "X2 = stats.norm(3.04, 0.02)\n",
        "\n",
        "xlow = 2.9\n",
        "xhigh = 3.1\n",
        "print(\"a: %.4f\"%{X1.cdf(xhigh) - X1.cdf(xlow)})\n",
        "print(\"b: %.4f\"%{X2.cdf(xhigh) - X2.cdf(xlow)})"
      ],
      "execution_count": null,
      "outputs": [
        {
          "output_type": "error",
          "ename": "NameError",
          "evalue": "ignored",
          "traceback": [
            "\u001b[0;31m---------------------------------------------------------------------------\u001b[0m",
            "\u001b[0;31mNameError\u001b[0m                                 Traceback (most recent call last)",
            "\u001b[0;32m<ipython-input-1-55d509030e92>\u001b[0m in \u001b[0;36m<module>\u001b[0;34m()\u001b[0m\n\u001b[1;32m      1\u001b[0m \u001b[0;31m#Q5\u001b[0m\u001b[0;34m\u001b[0m\u001b[0;34m\u001b[0m\u001b[0;34m\u001b[0m\u001b[0m\n\u001b[0;32m----> 2\u001b[0;31m \u001b[0mX1\u001b[0m \u001b[0;34m=\u001b[0m \u001b[0mstats\u001b[0m\u001b[0;34m.\u001b[0m\u001b[0mnorm\u001b[0m\u001b[0;34m(\u001b[0m\u001b[0;36m3.00\u001b[0m\u001b[0;34m,\u001b[0m \u001b[0;36m0.08\u001b[0m\u001b[0;34m)\u001b[0m\u001b[0;34m\u001b[0m\u001b[0;34m\u001b[0m\u001b[0m\n\u001b[0m\u001b[1;32m      3\u001b[0m \u001b[0mX2\u001b[0m \u001b[0;34m=\u001b[0m \u001b[0mstats\u001b[0m\u001b[0;34m.\u001b[0m\u001b[0mnorm\u001b[0m\u001b[0;34m(\u001b[0m\u001b[0;36m3.04\u001b[0m\u001b[0;34m,\u001b[0m \u001b[0;36m0.02\u001b[0m\u001b[0;34m)\u001b[0m\u001b[0;34m\u001b[0m\u001b[0;34m\u001b[0m\u001b[0m\n\u001b[1;32m      4\u001b[0m \u001b[0;34m\u001b[0m\u001b[0m\n\u001b[1;32m      5\u001b[0m \u001b[0mxlow\u001b[0m \u001b[0;34m=\u001b[0m \u001b[0;36m2.9\u001b[0m\u001b[0;34m\u001b[0m\u001b[0;34m\u001b[0m\u001b[0m\n",
            "\u001b[0;31mNameError\u001b[0m: name 'stats' is not defined"
          ]
        }
      ]
    },
    {
      "cell_type": "code",
      "metadata": {
        "id": "dpX8sOs5Hl2P",
        "colab_type": "code",
        "colab": {}
      },
      "source": [
        "#Q6"
      ],
      "execution_count": null,
      "outputs": []
    },
    {
      "cell_type": "code",
      "metadata": {
        "id": "EgpEv1pTHl9P",
        "colab_type": "code",
        "colab": {}
      },
      "source": [
        "#Q7"
      ],
      "execution_count": null,
      "outputs": []
    },
    {
      "cell_type": "code",
      "metadata": {
        "id": "bD4OgZHBHmDX",
        "colab_type": "code",
        "colab": {}
      },
      "source": [
        "#Q8"
      ],
      "execution_count": null,
      "outputs": []
    },
    {
      "cell_type": "code",
      "metadata": {
        "id": "mOqcHyywHmIH",
        "colab_type": "code",
        "colab": {}
      },
      "source": [
        "#Q9"
      ],
      "execution_count": null,
      "outputs": []
    },
    {
      "cell_type": "code",
      "metadata": {
        "id": "NGPQ3icjHmMq",
        "colab_type": "code",
        "colab": {}
      },
      "source": [
        "#Q10"
      ],
      "execution_count": null,
      "outputs": []
    },
    {
      "cell_type": "code",
      "metadata": {
        "id": "I2dWPzNALXcA",
        "colab_type": "code",
        "colab": {}
      },
      "source": [
        ""
      ],
      "execution_count": null,
      "outputs": []
    },
    {
      "cell_type": "code",
      "metadata": {
        "id": "oLjiIM3dLXkK",
        "colab_type": "code",
        "colab": {}
      },
      "source": [
        ""
      ],
      "execution_count": null,
      "outputs": []
    },
    {
      "cell_type": "code",
      "metadata": {
        "id": "CFGM9xW6LXxd",
        "colab_type": "code",
        "colab": {}
      },
      "source": [
        ""
      ],
      "execution_count": null,
      "outputs": []
    },
    {
      "cell_type": "code",
      "metadata": {
        "id": "sqmwa7iALX3q",
        "colab_type": "code",
        "colab": {}
      },
      "source": [
        ""
      ],
      "execution_count": null,
      "outputs": []
    }
  ]
}