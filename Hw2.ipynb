{
  "nbformat": 4,
  "nbformat_minor": 0,
  "metadata": {
    "colab": {
      "name": "Untitled0.ipynb",
      "provenance": [],
      "authorship_tag": "ABX9TyNfIOY8U38InP9ytR3GDuu5",
      "include_colab_link": true
    },
    "kernelspec": {
      "name": "python3",
      "display_name": "Python 3"
    }
  },
  "cells": [
    {
      "cell_type": "markdown",
      "metadata": {
        "id": "view-in-github",
        "colab_type": "text"
      },
      "source": [
        "<a href=\"https://colab.research.google.com/github/chandlereskey17/phys341/blob/master/Hw2.ipynb\" target=\"_parent\"><img src=\"https://colab.research.google.com/assets/colab-badge.svg\" alt=\"Open In Colab\"/></a>"
      ]
    },
    {
      "cell_type": "code",
      "metadata": {
        "id": "HnLR2EnuHhzQ",
        "outputId": "3f283d45-bf0b-4a4e-8cbb-9b66ed30b498",
        "colab": {
          "base_uri": "https://localhost:8080/",
          "height": 350
        }
      },
      "source": [
        "#Assignment 2  \n",
        "\n",
        "import numpy as np\n",
        "  "
      ],
      "execution_count": null,
      "outputs": [
        {
          "output_type": "error",
          "ename": "ModuleNotFoundError",
          "evalue": "ignored",
          "traceback": [
            "\u001b[0;31m---------------------------------------------------------------------------\u001b[0m",
            "\u001b[0;31mModuleNotFoundError\u001b[0m                       Traceback (most recent call last)",
            "\u001b[0;32m<ipython-input-2-3281408cd4ae>\u001b[0m in \u001b[0;36m<module>\u001b[0;34m()\u001b[0m\n\u001b[1;32m      1\u001b[0m \u001b[0;31m#Assignment 2\u001b[0m\u001b[0;34m\u001b[0m\u001b[0;34m\u001b[0m\u001b[0;34m\u001b[0m\u001b[0m\n\u001b[0;32m----> 2\u001b[0;31m \u001b[0;32mimport\u001b[0m \u001b[0mstats\u001b[0m\u001b[0;34m\u001b[0m\u001b[0;34m\u001b[0m\u001b[0m\n\u001b[0m\u001b[1;32m      3\u001b[0m \u001b[0;32mimport\u001b[0m \u001b[0mnumpy\u001b[0m \u001b[0;32mas\u001b[0m \u001b[0mnp\u001b[0m\u001b[0;34m\u001b[0m\u001b[0;34m\u001b[0m\u001b[0m\n\u001b[1;32m      4\u001b[0m \u001b[0;34m\u001b[0m\u001b[0m\n",
            "\u001b[0;31mModuleNotFoundError\u001b[0m: No module named 'stats'",
            "",
            "\u001b[0;31m---------------------------------------------------------------------------\u001b[0;32m\nNOTE: If your import is failing due to a missing package, you can\nmanually install dependencies using either !pip or !apt.\n\nTo view examples of installing some common dependencies, click the\n\"Open Examples\" button below.\n\u001b[0;31m---------------------------------------------------------------------------\u001b[0m\n"
          ]
        }
      ]
    },
    {
      "cell_type": "code",
      "metadata": {
        "id": "QPXLvEl3Hk4e",
        "outputId": "4cf2a1bd-dc47-4abc-99f9-d586ec5622a4",
        "colab": {
          "base_uri": "https://localhost:8080/",
          "height": 187
        }
      },
      "source": [
        "#Question1\n",
        "import matplotlib.pyplot as plt \n",
        "import numpy as np \n",
        "import scipy.stats as stats\n",
        "print(\"a: %.4f\"%((stats.norm.cdf(2.88) - stats.norm.cdf(0))))\n",
        "print(\"b: %.4f\"%(stats.norm.cdf(1.0) - stats.norm.cdf(0)))\n",
        "print(\"c: %.4f\"%(stats.norm.cdf(0) - stats.norm.cdf(-2.9)))\n",
        "print(\"d: %.4f\"%(stats.norm.cdf(-2.9) - stats.norm.cdf(2.9)))\n",
        "print(\"e: %.4f\"%((stats.norm.cdf(1.82) - stats.norm.cdf(-999999999))))\n",
        "print(\"f: %.4f\"%(stats.norm.cdf(99999999) - stats.norm.cdf(-1.73)))\n",
        "print(\"g: %.4f\"%(stats.norm.cdf(2.00) - stats.norm.cdf(-1.9)))\n",
        "print(\"h: %.4f\"%(stats.norm.cdf(2.50) - stats.norm.cdf(1.82)))\n",
        "print(\"i: %.4f\"%((stats.norm.cdf(9999999) - stats.norm.cdf(1.9))))\n",
        "print(\"j: %.4f\"%(stats.norm.cdf(2.5) - stats.norm.cdf(-2.5)))\n",
        "\n",
        "#it continues similar to this for rest of questions"
      ],
      "execution_count": 7,
      "outputs": [
        {
          "output_type": "stream",
          "text": [
            "a: 0.4980\n",
            "b: 0.3413\n",
            "c: 0.4981\n",
            "d: -0.9963\n",
            "e: 0.9656\n",
            "f: 0.9582\n",
            "g: 0.9485\n",
            "h: 0.0282\n",
            "i: 0.0287\n",
            "j: 0.9876\n"
          ],
          "name": "stdout"
        }
      ]
    },
    {
      "cell_type": "code",
      "metadata": {
        "id": "Y64RIm4VHlfV",
        "outputId": "96f6b389-a010-4d0d-cc8b-92bd3efd9ccd",
        "colab": {
          "base_uri": "https://localhost:8080/",
          "height": 102
        }
      },
      "source": [
        "#Question2\n",
        "Z = stats.norm(0, 1)\n",
        "print(\"a: %.2f\"%(Z.ppf(0.9846)))\n",
        "print(\"b: %.2f\"%(Z.ppf(0.5+0.2939)))\n",
        "print(\"c: %.2f\"%(Z.ppf(1-0.1251)))\n",
        "print(\"d: %.2f\"%(-1.0*Z.ppf((1-0.6319)/2)))\n",
        "print(\"e: %.2f\"%(Z.ppf(1-0.0147/2)))"
      ],
      "execution_count": 9,
      "outputs": [
        {
          "output_type": "stream",
          "text": [
            "a: 2.16\n",
            "b: 0.82\n",
            "c: 1.15\n",
            "d: 0.90\n",
            "e: 2.44\n"
          ],
          "name": "stdout"
        }
      ]
    },
    {
      "cell_type": "code",
      "metadata": {
        "id": "7I-fa9TLHlmV",
        "outputId": "17750dbc-409f-44b0-a57a-38bebaa488ca",
        "colab": {
          "base_uri": "https://localhost:8080/",
          "height": 119
        }
      },
      "source": [
        "#Q3\n",
        "X = stats.norm(70, 10)\n",
        "\n",
        "print(\"a: %.3f\"%(X.cdf(90)))\n",
        "print(\"b: %.3f\"%(X.cdf(70)))\n",
        "print(\"c: %.3f\"%(X.cdf(90) - X.cdf(55)))\n",
        "print(\"d: %.3f\"%(1 - X.cdf(60)))\n",
        "print(\"e: %.3f\"%(X.cdf(85) - X.cdf(75)))\n",
        "print(\"f: %.3f\"%(X.cdf(75))) #-something inside "
      ],
      "execution_count": 15,
      "outputs": [
        {
          "output_type": "stream",
          "text": [
            "a: 0.977\n",
            "b: 0.500\n",
            "c: 0.910\n",
            "d: 0.841\n",
            "e: 0.242\n",
            "f: 0.691\n"
          ],
          "name": "stdout"
        }
      ]
    },
    {
      "cell_type": "code",
      "metadata": {
        "id": "CkKUqhJfHlsJ",
        "outputId": "e1b33819-d163-40e5-b323-8c073079bca2",
        "colab": {
          "base_uri": "https://localhost:8080/",
          "height": 68
        }
      },
      "source": [
        "#Q4\n",
        "mu = 14.8\n",
        "sigma = 1.28\n",
        "\n",
        "X = stats.norm(mu, sigma)\n",
        "print(\"a: %.4f\"%(X.cdf(18)))\n",
        "print(\"b: %.4f\"%(X.cdf(12) - X.cdf(10)))\n",
        "print(\"c: %.4f\"%(X.cdf(mu+1.5*sigma) - X.cdf(mu-1.5*sigma)))"
      ],
      "execution_count": 16,
      "outputs": [
        {
          "output_type": "stream",
          "text": [
            "a: 0.9938\n",
            "b: 0.0143\n",
            "c: 0.8664\n"
          ],
          "name": "stdout"
        }
      ]
    },
    {
      "cell_type": "code",
      "metadata": {
        "id": "sRo4IDN0HlxK",
        "outputId": "353e1c17-1f4d-4b99-d507-a65381e13380",
        "colab": {
          "base_uri": "https://localhost:8080/",
          "height": 51
        }
      },
      "source": [
        "#Q5\n",
        "\n",
        "X1 = stats.norm(3.00, 0.08)\n",
        "X2 = stats.norm(3.04, 0.04)\n",
        "\n",
        "xlow = 2.9\n",
        "xhigh = 3.1\n",
        "print(\"a: %.4f\"%(X1.cdf(xhigh) - X1.cdf(xlow)))\n",
        "print(\"b: %.4f\"%(X2.cdf(xhigh) - X2.cdf(xlow)))"
      ],
      "execution_count": 17,
      "outputs": [
        {
          "output_type": "stream",
          "text": [
            "a: 0.7887\n",
            "b: 0.9330\n"
          ],
          "name": "stdout"
        }
      ]
    },
    {
      "cell_type": "code",
      "metadata": {
        "id": "dpX8sOs5Hl2P",
        "outputId": "7796f2a6-5be0-4d27-ac9c-2771649288a4",
        "colab": {
          "base_uri": "https://localhost:8080/",
          "height": 68
        }
      },
      "source": [
        "#Q6\n",
        "mu = 43\n",
        "sigma = 3.5\n",
        "\n",
        "X = stats.norm(mu, sigma)\n",
        "print(\"a: %.3f\"%(X.cdf(40)))\n",
        "print(\"a: %.3f\"%(1-X.cdf(60)))\n",
        "print(\"a: %.4f\"%(X.cdf(40.639)))"
      ],
      "execution_count": 37,
      "outputs": [
        {
          "output_type": "stream",
          "text": [
            "a: 0.196\n",
            "a: 0.000\n",
            "a: 0.2500\n"
          ],
          "name": "stdout"
        }
      ]
    },
    {
      "cell_type": "code",
      "metadata": {
        "id": "EgpEv1pTHl9P"
      },
      "source": [
        "#Q7"
      ],
      "execution_count": null,
      "outputs": []
    },
    {
      "cell_type": "code",
      "metadata": {
        "id": "pZktidOjMPY9"
      },
      "source": [
        ""
      ],
      "execution_count": null,
      "outputs": []
    },
    {
      "cell_type": "code",
      "metadata": {
        "id": "bD4OgZHBHmDX",
        "outputId": "59922a50-36fa-480b-a96a-7fa21f9287cb",
        "colab": {
          "base_uri": "https://localhost:8080/",
          "height": 68
        }
      },
      "source": [
        "#Q8\n",
        "n = 200\n",
        "p = 0.13\n",
        "lmbda = n*p\n",
        "x = stats.binom(n, p)\n",
        "print(x.cdf(30))\n",
        "print(x.cdf(29))\n",
        "print(x.cdf(25) - x.cdf(15))"
      ],
      "execution_count": 61,
      "outputs": [
        {
          "output_type": "stream",
          "text": [
            "0.828853732023124\n",
            "0.7727463397020421\n",
            "0.45863572233570604\n"
          ],
          "name": "stdout"
        }
      ]
    },
    {
      "cell_type": "code",
      "metadata": {
        "id": "mOqcHyywHmIH"
      },
      "source": [
        "#Q9"
      ],
      "execution_count": null,
      "outputs": []
    },
    {
      "cell_type": "code",
      "metadata": {
        "id": "NGPQ3icjHmMq"
      },
      "source": [
        "#Q10"
      ],
      "execution_count": null,
      "outputs": []
    },
    {
      "cell_type": "code",
      "metadata": {
        "id": "I2dWPzNALXcA"
      },
      "source": [
        ""
      ],
      "execution_count": null,
      "outputs": []
    },
    {
      "cell_type": "code",
      "metadata": {
        "id": "oLjiIM3dLXkK"
      },
      "source": [
        ""
      ],
      "execution_count": null,
      "outputs": []
    },
    {
      "cell_type": "code",
      "metadata": {
        "id": "CFGM9xW6LXxd"
      },
      "source": [
        ""
      ],
      "execution_count": null,
      "outputs": []
    },
    {
      "cell_type": "code",
      "metadata": {
        "id": "sqmwa7iALX3q"
      },
      "source": [
        ""
      ],
      "execution_count": null,
      "outputs": []
    }
  ]
}