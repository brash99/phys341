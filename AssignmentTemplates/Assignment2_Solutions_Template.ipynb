{
  "nbformat": 4,
  "nbformat_minor": 0,
  "metadata": {
    "kernelspec": {
      "display_name": "Python 3",
      "language": "python",
      "name": "python3"
    },
    "language_info": {
      "codemirror_mode": {
        "name": "ipython",
        "version": 3
      },
      "file_extension": ".py",
      "mimetype": "text/x-python",
      "name": "python",
      "nbconvert_exporter": "python",
      "pygments_lexer": "ipython3",
      "version": "3.6.8"
    },
    "colab": {
      "name": "Assignment2_Solutions_Template.ipynb",
      "provenance": []
    }
  },
  "cells": [
    {
      "cell_type": "markdown",
      "metadata": {
        "id": "wyCOaa2-DuiB"
      },
      "source": [
        "# Assignment 2 Solutions"
      ]
    },
    {
      "cell_type": "markdown",
      "metadata": {
        "id": "_SodZBJgDuiC"
      },
      "source": [
        "# Question 1\n",
        "\n",
        "Let Z be a standard normal random variable and calculate the following probabilities, drawing pictures whenever appropriate.\n",
        "\n",
        "(a) P(0 <= Z <= 2.40)\n",
        "\n",
        "(b) P(0 <= Z <= 1)\n",
        "\n",
        "(c) P(-2.90 <= Z <= 0)\n",
        "\n",
        "(d) P(-2.90 <= Z <= 2.9)\n",
        "\n",
        "(e) P(Z <= 1.14)\n",
        "\n",
        "(f) P(-1.63 <= Z)  \n",
        "\n",
        "(g) P(-1.9 <= Z <= 2.00)\n",
        "\n",
        "(h) P(1.14 <= Z <= 2.50)\n",
        "\n",
        "(i) P(1.9 <= Z)\n",
        "\n",
        "(j) P( |Z| <= 2.50)"
      ]
    },
    {
      "cell_type": "code",
      "metadata": {
        "id": "oMX3Q1MDDuiD",
        "outputId": "6adf2afb-ae0c-4f2c-d669-1e03994089db",
        "colab": {
          "base_uri": "https://localhost:8080/"
        }
      },
      "source": [
        "import scipy.stats as stats\n",
        "\n",
        "out = stats.norm.cdf(2.15) - stats.norm.cdf(0) # A\n",
        "out = stats.norm.cdf(2) - stats.norm.cdf(0) # B\n",
        "out = stats.norm.cdf(0) - stats.norm.cdf(-2.90) # C\n",
        "out = stats.norm.cdf(2.90) - stats.norm.cdf(-2.90) # D\n",
        "out = stats.norm.cdf(1.65) # E\n",
        "out = 1 - stats.norm.cdf(-1.58) # F\n",
        "out = stats.norm.cdf(2) - stats.norm.cdf(-1.90) # G\n",
        "out = stats.norm.cdf(2.50) - stats.norm.cdf(1.65) # H\n",
        "out = 1 - stats.norm.cdf(1.9) # I\n",
        "out = stats.norm.cdf(2.5) - stats.norm.cdf(-2.5) # J\n",
        "\n",
        "print(out)"
      ],
      "execution_count": null,
      "outputs": [
        {
          "output_type": "stream",
          "text": [
            "0.9875806693484477\n"
          ],
          "name": "stdout"
        }
      ]
    },
    {
      "cell_type": "markdown",
      "metadata": {
        "id": "bZlxzbqmDuiF"
      },
      "source": [
        "# Question 2\n",
        "\n",
        "Let Z be a standard normal random variable. In each case, determine the value of the constant c that makes the probability statement correct.\n",
        "\n",
        "(a) Phi(c) = 0.9826 \n",
        "\n",
        "(b) P(0 <= Z <= c) = 0.2995\n",
        "\n",
        "(c) P(c <= Z) = 0.1251\n",
        "\n",
        "(d) P(-c <= Z <= c) = 0.6476\n",
        "\n",
        "(e) P(c <= |Z|) = 0.0139"
      ]
    },
    {
      "cell_type": "code",
      "metadata": {
        "id": "LnsCSTTLDuiG",
        "outputId": "eeae5762-614d-46dd-da91-c3c6a6202e4c",
        "colab": {
          "base_uri": "https://localhost:8080/",
          "height": 35
        }
      },
      "source": [
        "out =  stats.norm.ppf(0.9854) # A\n",
        "out =  stats.norm.ppf(0.3106 + stats.norm.cdf(0)) # B\n",
        "out =  stats.norm.ppf(0.1251) # C\n",
        "out =  -stats.norm.ppf((1-0.6729)/2) # D\n",
        "out =  stats.norm.ppf(1-(0.0139/2)) # E\n",
        "\n",
        "print(out)"
      ],
      "execution_count": null,
      "outputs": [
        {
          "output_type": "stream",
          "text": [
            "2.459837335382782\n"
          ],
          "name": "stdout"
        }
      ]
    },
    {
      "cell_type": "markdown",
      "metadata": {
        "id": "q73lZuLMDuiI"
      },
      "source": [
        "# Question 3\n",
        "\n",
        "If X is a normal rv with mean 80 and standard deviation 15, compute the following probabilities by standardizing.\n",
        "\n",
        "(a) P(X <= 110)\n",
        "\n",
        "(b) P(X <= 80)\n",
        "\n",
        "(c) P(57.5 <= X <= 110)\n",
        "\n",
        "(d) P(65 <= X)\n",
        "\n",
        "(e) P(87.5 <= X <= 102.5)\n",
        "\n",
        "(f) P( |X - 80| <= 15)\n",
        "  "
      ]
    },
    {
      "cell_type": "code",
      "metadata": {
        "id": "R6mMkpleDuiI",
        "outputId": "0369dd0a-c5ba-496e-ef10-b21c7319b5c0",
        "colab": {
          "base_uri": "https://localhost:8080/",
          "height": 35
        }
      },
      "source": [
        "mean = 75\n",
        "std_dev = 20\n",
        "dist = stats.norm(mean, std_dev)\n",
        "\n",
        "out = dist.cdf(115) # A\n",
        "out = dist.cdf(75) # B\n",
        "out = dist.cdf(115) - dist.cdf(45) # C\n",
        "out = 1 - dist.cdf(55) # D\n",
        "out = dist.cdf(105) - dist.cdf(85) # E\n",
        "out = dist.cdf(20 + 75) - dist.cdf(-20 + 75) # F\n",
        "\n",
        "print(out)"
      ],
      "execution_count": null,
      "outputs": [
        {
          "output_type": "stream",
          "text": [
            "0.6826894921370859\n"
          ],
          "name": "stdout"
        }
      ]
    },
    {
      "cell_type": "markdown",
      "metadata": {
        "id": "kSBHnvoxDuiL"
      },
      "source": [
        "# Question 4\n",
        "\n",
        "Suppose the force acting on a column that helps to support a building is normally distributed with mean 15.8 kips and standard deviation 1.33 kips. (Round your answers to four decimal places.)\n",
        "\n",
        "(a) What is the probability that the force is at most 18 kips? \n",
        "\n",
        "(b) What is the probability that the force is between 10 and 12 kips? \n",
        "\n",
        "(c) What is the probability that the force differs from 15.8 kips by at most 1.5 standard deviations?"
      ]
    },
    {
      "cell_type": "code",
      "metadata": {
        "id": "vHApTuNtDuiL",
        "outputId": "60beb272-9faa-465c-90e4-f8a8b9893654",
        "colab": {
          "base_uri": "https://localhost:8080/",
          "height": 35
        }
      },
      "source": [
        "mean = 15.2\n",
        "std_dev = 1.20\n",
        "dist = stats.norm(mean, std_dev)\n",
        "\n",
        "out = dist.cdf(18) # A\n",
        "out = dist.cdf(12) - dist.cdf(10) # B\n",
        "out = dist.cdf(mean + (1.5*std_dev)) - dist.cdf(mean - (1.5*std_dev)) # C\n",
        "\n",
        "print(out)"
      ],
      "execution_count": null,
      "outputs": [
        {
          "output_type": "stream",
          "text": [
            "0.866385597462284\n"
          ],
          "name": "stdout"
        }
      ]
    },
    {
      "cell_type": "markdown",
      "metadata": {
        "id": "XaewYGQrDuiN"
      },
      "source": [
        "# Question 5\n",
        "\n",
        "There are two machines available for cutting corks intended for use in wine bottles. The first produces corks with diameters that are normally distributed with mean 3 cm and standard deviation 0.08 cm. The second machine produces corks with diameters that have a normal distribution with mean 3.04 cm and standard deviation 0.02 cm. Acceptable corks have diameters between 2.9 cm and 3.1 cm.\n",
        "\n",
        "What is the probability that the first machine produces an acceptable cork? (Round your answer to four decimal places.) \n",
        "\n",
        "What is the probability that the second machine produces an acceptable cork? (Round your answer to four decimal places.)"
      ]
    },
    {
      "cell_type": "code",
      "metadata": {
        "id": "LBaj45xYDuiN",
        "outputId": "24cbfe6a-3b8f-4769-fc3f-cf6a21a06251",
        "colab": {
          "base_uri": "https://localhost:8080/",
          "height": 35
        }
      },
      "source": [
        "mach1 = stats.norm(3, 0.08)\n",
        "mach2 = stats.norm(3.04, 0.04)\n",
        "\n",
        "out = mach1.cdf(3.1) - mach1.cdf(2.9) # A\n",
        "out = mach2.cdf(3.1) - mach2.cdf(2.9) # B\n",
        "\n",
        "print(out)"
      ],
      "execution_count": null,
      "outputs": [
        {
          "output_type": "stream",
          "text": [
            "0.9329601696521066\n"
          ],
          "name": "stdout"
        }
      ]
    },
    {
      "cell_type": "code",
      "metadata": {
        "id": "AH00eqvoNpLt",
        "outputId": "c9bd5eb1-a3ff-47bb-8d0e-47b64724d0df",
        "colab": {
          "base_uri": "https://localhost:8080/"
        }
      },
      "source": [
        "import math\n",
        "\n",
        "mach1 = stats.norm(3.01, 0.08)\n",
        "mach2 = stats.norm(3.05, 0.04)\n",
        "\n",
        "sig1 = 0.08\n",
        "sig2 = 0.04\n",
        "N1 = 25\n",
        "N2 = 30\n",
        "\n",
        "out = sig1 / math.sqrt(N1)\n",
        "out = sig2 / math.sqrt(N2)\n",
        "\n",
        "out = mach1.cdf(3.1) - mach1.cdf(2.9) # A\n",
        "out = mach2.cdf(3.1) - mach2.cdf(2.9) # B\n",
        "\n",
        "print(out)"
      ],
      "execution_count": null,
      "outputs": [
        {
          "output_type": "stream",
          "text": [
            "0.8942618090479452\n"
          ],
          "name": "stdout"
        }
      ]
    },
    {
      "cell_type": "markdown",
      "metadata": {
        "id": "GTUX6kimDuiP"
      },
      "source": [
        "# Question 6\n",
        "\n",
        "It has been suggested that yield strength (ksi) for A36 grade steel is normally distributed with mu = 45 and σ = 4.0.\n",
        "\n",
        "(a) What is the probability that yield strength is at most 40?  \n",
        "\n",
        "What is the probability that yield strength is greater than 60?\n",
        "\n",
        "(b) What yield strength value separates the strongest 75% from the others?"
      ]
    },
    {
      "cell_type": "code",
      "metadata": {
        "id": "TqwQ2l00DuiQ",
        "outputId": "869a4965-4170-4a54-d83d-606a004a3d0b",
        "colab": {
          "base_uri": "https://localhost:8080/",
          "height": 35
        }
      },
      "source": [
        "dist = stats.norm(44, 5.0)\n",
        "\n",
        "out = dist.cdf(40) # A\n",
        "out = 1 - dist.cdf(60) # B\n",
        "out = dist.ppf(1 - 0.75) # C\n",
        "\n",
        "print(out)"
      ],
      "execution_count": null,
      "outputs": [
        {
          "output_type": "stream",
          "text": [
            "40.62755124901959\n"
          ],
          "name": "stdout"
        }
      ]
    },
    {
      "cell_type": "markdown",
      "metadata": {
        "id": "GKsgZUnjDuiU"
      },
      "source": [
        "# Question 7\n",
        "\n",
        "The temperature reading from a thermocouple placed in a constant-temperature medium is normally distributed with mean μ, the actual temperature of the medium, and standard deviation σ. What would the value of σ have to be to ensure that 95% of all readings are within 0.9° of μ?"
      ]
    },
    {
      "cell_type": "code",
      "metadata": {
        "id": "WJYbDaFiDuiV",
        "outputId": "010c3533-2a53-4e23-832b-d9c44a961c57",
        "colab": {
          "base_uri": "https://localhost:8080/",
          "height": 35
        }
      },
      "source": [
        "# ASSIGNMENT 3 STUFF\n",
        "import scipy.stats as stats\n",
        "\n",
        "central_area = 0.99\n",
        "\n",
        "alpha = 0.05 # (1 - central_area) / 2\n",
        "dof = 5\n",
        "\n",
        "val = stats.t.ppf(0.975, dof)\n",
        "\n",
        "# problem 3\n",
        "confi_level = 0.99\n",
        "dof = 50\n",
        "\n",
        "alpha = (1 - confi_level) / 2\n",
        "\n",
        "val = stats.t.ppf(alpha, dof)\n",
        "\n",
        "\n",
        "# problem 4 \n",
        "n = 8\n",
        "cint = stats.t.interval(0.95, n - 1)\n",
        "\n",
        "\n",
        "\n",
        "# problem 7\n",
        "per = 0.01\n",
        "v = 13\n",
        "\n",
        "val = stats.chi2.ppf(per, v)\n",
        "\n",
        "v = 26\n",
        "val = (0 + stats.chi2.pdf(48.29, v)) + (1 - stats.chi2.pdf(12.2, v))\n",
        "\n",
        "print(stats.chi2.pdf(48.29, v), stats.chi2.pdf(12.2, v), val)\n",
        "\n",
        "# problem 9\n",
        "mylist = [ 69.7,\t71.9,\t72.6,\t73.1,\t73.3,\t73.5,\t75.5,\t75.7,\t75.9,\t76.1,\t76.2, 76.2,\t77.0,\t77.9,\t78.1,\t79.6,\t79.7,\t79.9,\t80.1,\t82.2,\t83.7,\t92.3 ]\n",
        "\n",
        "mean = sum(mylist) / len(mylist) \n",
        "variance = sum([((x - mean) ** 2) for x in mylist]) / len(mylist) \n",
        "res = variance ** 0.5\n",
        "\n",
        "#print(\"mean:\", mean, \"stdev:\", res, \"n:\", len(mylist))\n",
        "\n",
        "\n"
      ],
      "execution_count": 15,
      "outputs": [
        {
          "output_type": "stream",
          "text": [
            "0.0013381946569792447 0.006214335850550716 0.9951238588064285\n"
          ],
          "name": "stdout"
        }
      ]
    },
    {
      "cell_type": "markdown",
      "metadata": {
        "id": "oFgPJhl7DuiY"
      },
      "source": [
        "$z = (\\bar{x}-\\mu)/\\sigma$\n",
        "\n",
        "Therefore,\n",
        "\n",
        "$\\sigma = (\\bar{x}-\\mu)/z$\n",
        "\n",
        "$\\sigma = \\delta_\\mu/z$"
      ]
    },
    {
      "cell_type": "code",
      "metadata": {
        "id": "l0mxdlk9DuiZ",
        "outputId": "81be4c0f-94a0-42d7-e648-aa6567a2a885",
        "colab": {
          "base_uri": "https://localhost:8080/",
          "height": 35
        }
      },
      "source": [
        "sigma = 0.7 / 1.96 # 1.96 is table Z value for 0.95\n",
        "\n",
        "print(sigma)"
      ],
      "execution_count": null,
      "outputs": [
        {
          "output_type": "stream",
          "text": [
            "0.35714285714285715\n"
          ],
          "name": "stdout"
        }
      ]
    },
    {
      "cell_type": "markdown",
      "metadata": {
        "id": "XI_Z-fGbDuid"
      },
      "source": [
        "# Question 8\n",
        "\n",
        "Suppose that 10% of all steel shafts produced by a certain process are nonconforming but can be reworked (rather than having to be scrapped). Consider a random sample of 200 shafts, and let X denote the number among these that are nonconforming and can be reworked.\n",
        "\n",
        "(a) What is the (approximate) probability that X is at most 30?\n",
        "\n",
        "(b) What is the (approximate) probability that X is less than 30?\n",
        "\n",
        "(c) What is the (approximate) probability that X is between 15 and 25 (inclusive)?"
      ]
    },
    {
      "cell_type": "markdown",
      "metadata": {
        "id": "I7Xzjo_iDuid"
      },
      "source": [
        "This question asks us to make an approximation to a process that is governed (exactly) by the binomial distribution.  The two approximations that we could considers are (a) the normal distribution, and (b) the Poisson distribution.  The normal distribution is appropriate for large N, and p $\\approx$ 0.5.  The Poission distribution is appropriate for small p or large p.  Since we have p = 0.10, we choose the Poisson distribution."
      ]
    },
    {
      "cell_type": "code",
      "metadata": {
        "id": "Sl8QQXuMDuie"
      },
      "source": [
        "import numpy as np\n"
      ],
      "execution_count": null,
      "outputs": []
    },
    {
      "cell_type": "code",
      "metadata": {
        "id": "LnS7DumsDuii",
        "outputId": "d4476d64-9f01-4345-aa38-c0d4b5900661",
        "colab": {
          "base_uri": "https://localhost:8080/",
          "height": 35
        }
      },
      "source": [
        "p = 0.13\n",
        "n = 200\n",
        "q = (1 - p)\n",
        "\n",
        "mean = n * p\n",
        "std_dev = np.sqrt(n * p * q) \n",
        "\n",
        "dist = stats.norm(mean, std_dev)\n",
        "\n",
        "out = dist.cdf(30) # A\n",
        "out = dist.cdf(29) # B\n",
        "out = dist.cdf(25) - dist.cdf(14) # C\n",
        "\n",
        "print(out)"
      ],
      "execution_count": null,
      "outputs": [
        {
          "output_type": "stream",
          "text": [
            "0.41091671619834097\n"
          ],
          "name": "stdout"
        }
      ]
    }
  ]
}